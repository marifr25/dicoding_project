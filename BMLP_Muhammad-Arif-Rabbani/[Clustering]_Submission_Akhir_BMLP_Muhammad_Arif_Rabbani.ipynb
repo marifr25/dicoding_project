{
 "cells": [
  {
   "cell_type": "markdown",
   "metadata": {
    "id": "0tvAKGat01Sd"
   },
   "source": [
    "# **Penting**\n",
    "- Pastikan Anda melakukan Run All sebelum mengirimkan submission untuk memastikan seluruh cell berjalan dengan baik.\n",
    "- Pastikan Anda menggunakan variabel df dari awal sampai akhir dan tidak diperbolehkan mengganti nama variabel tersebut.\n",
    "- Hapus simbol pagar (#) pada kode yang bertipe komentar jika Anda menerapkan kriteria tambahan\n",
    "- Biarkan simbol pagar (#) jika Anda tidak menerapkan kriteria tambahan"
   ]
  },
  {
   "cell_type": "markdown",
   "metadata": {
    "id": "sKi5D9qVVJvY"
   },
   "source": [
    "# **INFORMASI DATASET**\n",
    "## Latar Belakang\n",
    "\n",
    "Dalam dunia bisnis ritel, pemahaman terhadap perilaku pelanggan menjadi salah satu faktor krusial dalam menentukan strategi pemasaran, peningkatan layanan, serta pengambilan keputusan berbasis data. Salah satu pendekatan yang umum digunakan untuk memahami perilaku pelanggan adalah melalui segmentasi, yaitu proses pengelompokan pelanggan ke dalam beberapa segmen atau kelompok berdasarkan karakteristik tertentu.\n",
    "\n",
    "Dengan menerapkan metode **unsupervised learning**, khususnya **clustering**, proyek ini bertujuan untuk membentuk segmentasi pelanggan yang merepresentasikan pola-pola pembelian yang serupa. Hasil segmentasi ini diharapkan dapat memberikan insight yang bernilai bagi pihak manajemen, khususnya dalam menyusun strategi promosi yang lebih tepat sasaran, mengembangkan program loyalitas, serta mengoptimalkan layanan pelanggan."
   ]
  },
  {
   "cell_type": "markdown",
   "metadata": {
    "id": "fKADPWcFKlj3"
   },
   "source": [
    "# **1. Import Library**\n",
    "Pada tahap ini, Anda perlu mengimpor beberapa pustaka (library) Python yang dibutuhkan untuk analisis data dan pembangunan model machine learning. Semua library yang dibutuhkan harus **import** di **cell** ini, jika ada library yang dijalankan di cell lain maka **submission langsung ditolak**"
   ]
  },
  {
   "cell_type": "code",
   "execution_count": 1,
   "metadata": {
    "id": "BlmvjLY9M4Yj"
   },
   "outputs": [],
   "source": [
    "#Type your code here\n",
    "import pandas as pd\n",
    "import numpy as np\n",
    "import matplotlib.pyplot as plt\n",
    "import seaborn as sns\n",
    "from sklearn.preprocessing import LabelEncoder\n",
    "from sklearn.preprocessing import StandardScaler\n",
    "from sklearn.cluster import KMeans\n",
    "from yellowbrick.cluster import KElbowVisualizer\n",
    "from sklearn.metrics import silhouette_score\n",
    "import joblib\n",
    "from IPython.display import display, HTML\n",
    "import math"
   ]
  },
  {
   "cell_type": "markdown",
   "metadata": {
    "id": "f3YIEnAFKrKL"
   },
   "source": [
    "# **2. Memuat Dataset**\n",
    "Pada tahap ini, Anda perlu memuat dataset ke dalam notebook lalu mengecek informasi dataset sebelum nantinya dilakukan pembersihan. Hal-hal yang perlu dilakukan pada tahapan ini yaitu:\n",
    "1. **Memahami Struktur Data**\n",
    "   - Dataset harus mengambil referensi wajib digunakan (bisa dilihat [Disini](https://drive.google.com/drive/folders/1Zs7VmPZ-jNwsRlMKH65Ea-LApSwx6lKx?usp=drive_link))\n",
    "   - Melakukan loading dataset ke dalam notebook dan menampilkan 5 baris pertama dengan function `head`.\n",
    "   - Tinjau jumlah baris kolom dan jenis data dalam dataset dengan function `info`.  \n",
    "   - Menampilkan statistik deskriptif dataset dengan menjalankan `describe`.\n",
    "   - Pastikan **setiap function tersebut** memiliki **output pada setiap cell** code. Jika tidak **submission langsung ditolak**\n",
    "   "
   ]
  },
  {
   "cell_type": "markdown",
   "metadata": {
    "id": "JgKXTwx2LMQA"
   },
   "source": [
    "Gunakan code ini untuk melakukan load data secara otomatis tanpa harus download data tersebut secara manual:\n",
    "```python\n",
    "url='https://drive.google.com/uc?id=1gnLO9qvEPqv1uBt1928AcsCmdvzqjC5m'\n",
    "df = pd.read_csv(url)\n",
    "```"
   ]
  },
  {
   "cell_type": "code",
   "execution_count": 2,
   "metadata": {
    "id": "GHCGNTyrM5fS"
   },
   "outputs": [
    {
     "data": {
      "application/vnd.microsoft.datawrangler.viewer.v0+json": {
       "columns": [
        {
         "name": "index",
         "rawType": "int64",
         "type": "integer"
        },
        {
         "name": "TransactionID",
         "rawType": "object",
         "type": "string"
        },
        {
         "name": "AccountID",
         "rawType": "object",
         "type": "string"
        },
        {
         "name": "TransactionAmount",
         "rawType": "float64",
         "type": "float"
        },
        {
         "name": "TransactionDate",
         "rawType": "object",
         "type": "string"
        },
        {
         "name": "TransactionType",
         "rawType": "object",
         "type": "string"
        },
        {
         "name": "Location",
         "rawType": "object",
         "type": "string"
        },
        {
         "name": "DeviceID",
         "rawType": "object",
         "type": "string"
        },
        {
         "name": "IP Address",
         "rawType": "object",
         "type": "string"
        },
        {
         "name": "MerchantID",
         "rawType": "object",
         "type": "string"
        },
        {
         "name": "Channel",
         "rawType": "object",
         "type": "string"
        },
        {
         "name": "CustomerAge",
         "rawType": "float64",
         "type": "float"
        },
        {
         "name": "CustomerOccupation",
         "rawType": "object",
         "type": "string"
        },
        {
         "name": "TransactionDuration",
         "rawType": "float64",
         "type": "float"
        },
        {
         "name": "LoginAttempts",
         "rawType": "float64",
         "type": "float"
        },
        {
         "name": "AccountBalance",
         "rawType": "float64",
         "type": "float"
        },
        {
         "name": "PreviousTransactionDate",
         "rawType": "object",
         "type": "string"
        }
       ],
       "ref": "960683d9-3f23-4db4-9431-1c5c079449fb",
       "rows": [
        [
         "0",
         "TX000001",
         "AC00128",
         "14.09",
         "2023-04-11 16:29:14",
         "Debit",
         "San Diego",
         "D000380",
         "162.198.218.92",
         "M015",
         "ATM",
         "70.0",
         "Doctor",
         "81.0",
         "1.0",
         "5112.21",
         "2024-11-04 08:08:08"
        ],
        [
         "1",
         "TX000002",
         "AC00455",
         "376.24",
         "2023-06-27 16:44:19",
         "Debit",
         "Houston",
         "D000051",
         "13.149.61.4",
         "M052",
         "ATM",
         "68.0",
         "Doctor",
         "141.0",
         "1.0",
         "13758.91",
         "2024-11-04 08:09:35"
        ],
        [
         "2",
         "TX000003",
         "AC00019",
         "126.29",
         "2023-07-10 18:16:08",
         "Debit",
         "Mesa",
         "D000235",
         "215.97.143.157",
         "M009",
         "Online",
         "19.0",
         "Student",
         "56.0",
         "1.0",
         "1122.35",
         "2024-11-04 08:07:04"
        ],
        [
         "3",
         "TX000004",
         "AC00070",
         "184.5",
         "2023-05-05 16:32:11",
         "Debit",
         "Raleigh",
         "D000187",
         "200.13.225.150",
         "M002",
         "Online",
         "26.0",
         "Student",
         "25.0",
         "1.0",
         "8569.06",
         "2024-11-04 08:09:06"
        ],
        [
         "4",
         "TX000005",
         "AC00411",
         "13.45",
         "2023-10-16 17:51:24",
         "Credit",
         "Atlanta",
         "D000308",
         "65.164.3.100",
         "M091",
         "Online",
         null,
         "Student",
         "198.0",
         "1.0",
         "7429.4",
         "2024-11-04 08:06:39"
        ]
       ],
       "shape": {
        "columns": 16,
        "rows": 5
       }
      },
      "text/html": [
       "<div>\n",
       "<style scoped>\n",
       "    .dataframe tbody tr th:only-of-type {\n",
       "        vertical-align: middle;\n",
       "    }\n",
       "\n",
       "    .dataframe tbody tr th {\n",
       "        vertical-align: top;\n",
       "    }\n",
       "\n",
       "    .dataframe thead th {\n",
       "        text-align: right;\n",
       "    }\n",
       "</style>\n",
       "<table border=\"1\" class=\"dataframe\">\n",
       "  <thead>\n",
       "    <tr style=\"text-align: right;\">\n",
       "      <th></th>\n",
       "      <th>TransactionID</th>\n",
       "      <th>AccountID</th>\n",
       "      <th>TransactionAmount</th>\n",
       "      <th>TransactionDate</th>\n",
       "      <th>TransactionType</th>\n",
       "      <th>Location</th>\n",
       "      <th>DeviceID</th>\n",
       "      <th>IP Address</th>\n",
       "      <th>MerchantID</th>\n",
       "      <th>Channel</th>\n",
       "      <th>CustomerAge</th>\n",
       "      <th>CustomerOccupation</th>\n",
       "      <th>TransactionDuration</th>\n",
       "      <th>LoginAttempts</th>\n",
       "      <th>AccountBalance</th>\n",
       "      <th>PreviousTransactionDate</th>\n",
       "    </tr>\n",
       "  </thead>\n",
       "  <tbody>\n",
       "    <tr>\n",
       "      <th>0</th>\n",
       "      <td>TX000001</td>\n",
       "      <td>AC00128</td>\n",
       "      <td>14.09</td>\n",
       "      <td>2023-04-11 16:29:14</td>\n",
       "      <td>Debit</td>\n",
       "      <td>San Diego</td>\n",
       "      <td>D000380</td>\n",
       "      <td>162.198.218.92</td>\n",
       "      <td>M015</td>\n",
       "      <td>ATM</td>\n",
       "      <td>70.0</td>\n",
       "      <td>Doctor</td>\n",
       "      <td>81.0</td>\n",
       "      <td>1.0</td>\n",
       "      <td>5112.21</td>\n",
       "      <td>2024-11-04 08:08:08</td>\n",
       "    </tr>\n",
       "    <tr>\n",
       "      <th>1</th>\n",
       "      <td>TX000002</td>\n",
       "      <td>AC00455</td>\n",
       "      <td>376.24</td>\n",
       "      <td>2023-06-27 16:44:19</td>\n",
       "      <td>Debit</td>\n",
       "      <td>Houston</td>\n",
       "      <td>D000051</td>\n",
       "      <td>13.149.61.4</td>\n",
       "      <td>M052</td>\n",
       "      <td>ATM</td>\n",
       "      <td>68.0</td>\n",
       "      <td>Doctor</td>\n",
       "      <td>141.0</td>\n",
       "      <td>1.0</td>\n",
       "      <td>13758.91</td>\n",
       "      <td>2024-11-04 08:09:35</td>\n",
       "    </tr>\n",
       "    <tr>\n",
       "      <th>2</th>\n",
       "      <td>TX000003</td>\n",
       "      <td>AC00019</td>\n",
       "      <td>126.29</td>\n",
       "      <td>2023-07-10 18:16:08</td>\n",
       "      <td>Debit</td>\n",
       "      <td>Mesa</td>\n",
       "      <td>D000235</td>\n",
       "      <td>215.97.143.157</td>\n",
       "      <td>M009</td>\n",
       "      <td>Online</td>\n",
       "      <td>19.0</td>\n",
       "      <td>Student</td>\n",
       "      <td>56.0</td>\n",
       "      <td>1.0</td>\n",
       "      <td>1122.35</td>\n",
       "      <td>2024-11-04 08:07:04</td>\n",
       "    </tr>\n",
       "    <tr>\n",
       "      <th>3</th>\n",
       "      <td>TX000004</td>\n",
       "      <td>AC00070</td>\n",
       "      <td>184.50</td>\n",
       "      <td>2023-05-05 16:32:11</td>\n",
       "      <td>Debit</td>\n",
       "      <td>Raleigh</td>\n",
       "      <td>D000187</td>\n",
       "      <td>200.13.225.150</td>\n",
       "      <td>M002</td>\n",
       "      <td>Online</td>\n",
       "      <td>26.0</td>\n",
       "      <td>Student</td>\n",
       "      <td>25.0</td>\n",
       "      <td>1.0</td>\n",
       "      <td>8569.06</td>\n",
       "      <td>2024-11-04 08:09:06</td>\n",
       "    </tr>\n",
       "    <tr>\n",
       "      <th>4</th>\n",
       "      <td>TX000005</td>\n",
       "      <td>AC00411</td>\n",
       "      <td>13.45</td>\n",
       "      <td>2023-10-16 17:51:24</td>\n",
       "      <td>Credit</td>\n",
       "      <td>Atlanta</td>\n",
       "      <td>D000308</td>\n",
       "      <td>65.164.3.100</td>\n",
       "      <td>M091</td>\n",
       "      <td>Online</td>\n",
       "      <td>NaN</td>\n",
       "      <td>Student</td>\n",
       "      <td>198.0</td>\n",
       "      <td>1.0</td>\n",
       "      <td>7429.40</td>\n",
       "      <td>2024-11-04 08:06:39</td>\n",
       "    </tr>\n",
       "  </tbody>\n",
       "</table>\n",
       "</div>"
      ],
      "text/plain": [
       "  TransactionID AccountID  TransactionAmount      TransactionDate  \\\n",
       "0      TX000001   AC00128              14.09  2023-04-11 16:29:14   \n",
       "1      TX000002   AC00455             376.24  2023-06-27 16:44:19   \n",
       "2      TX000003   AC00019             126.29  2023-07-10 18:16:08   \n",
       "3      TX000004   AC00070             184.50  2023-05-05 16:32:11   \n",
       "4      TX000005   AC00411              13.45  2023-10-16 17:51:24   \n",
       "\n",
       "  TransactionType   Location DeviceID      IP Address MerchantID Channel  \\\n",
       "0           Debit  San Diego  D000380  162.198.218.92       M015     ATM   \n",
       "1           Debit    Houston  D000051     13.149.61.4       M052     ATM   \n",
       "2           Debit       Mesa  D000235  215.97.143.157       M009  Online   \n",
       "3           Debit    Raleigh  D000187  200.13.225.150       M002  Online   \n",
       "4          Credit    Atlanta  D000308    65.164.3.100       M091  Online   \n",
       "\n",
       "   CustomerAge CustomerOccupation  TransactionDuration  LoginAttempts  \\\n",
       "0         70.0             Doctor                 81.0            1.0   \n",
       "1         68.0             Doctor                141.0            1.0   \n",
       "2         19.0            Student                 56.0            1.0   \n",
       "3         26.0            Student                 25.0            1.0   \n",
       "4          NaN            Student                198.0            1.0   \n",
       "\n",
       "   AccountBalance PreviousTransactionDate  \n",
       "0         5112.21     2024-11-04 08:08:08  \n",
       "1        13758.91     2024-11-04 08:09:35  \n",
       "2         1122.35     2024-11-04 08:07:04  \n",
       "3         8569.06     2024-11-04 08:09:06  \n",
       "4         7429.40     2024-11-04 08:06:39  "
      ]
     },
     "execution_count": 2,
     "metadata": {},
     "output_type": "execute_result"
    }
   ],
   "source": [
    "# Tampilkan 5 baris pertama dengan function head.\n",
    "url='https://drive.google.com/uc?id=1gnLO9qvEPqv1uBt1928AcsCmdvzqjC5m'\n",
    "df = pd.read_csv(url)\n",
    "df.head()"
   ]
  },
  {
   "cell_type": "code",
   "execution_count": 3,
   "metadata": {
    "id": "0MgRVyMLnR5h"
   },
   "outputs": [
    {
     "name": "stdout",
     "output_type": "stream",
     "text": [
      "<class 'pandas.core.frame.DataFrame'>\n",
      "RangeIndex: 2537 entries, 0 to 2536\n",
      "Data columns (total 16 columns):\n",
      " #   Column                   Non-Null Count  Dtype  \n",
      "---  ------                   --------------  -----  \n",
      " 0   TransactionID            2508 non-null   object \n",
      " 1   AccountID                2516 non-null   object \n",
      " 2   TransactionAmount        2511 non-null   float64\n",
      " 3   TransactionDate          2509 non-null   object \n",
      " 4   TransactionType          2507 non-null   object \n",
      " 5   Location                 2507 non-null   object \n",
      " 6   DeviceID                 2507 non-null   object \n",
      " 7   IP Address               2517 non-null   object \n",
      " 8   MerchantID               2514 non-null   object \n",
      " 9   Channel                  2510 non-null   object \n",
      " 10  CustomerAge              2519 non-null   float64\n",
      " 11  CustomerOccupation       2514 non-null   object \n",
      " 12  TransactionDuration      2511 non-null   float64\n",
      " 13  LoginAttempts            2516 non-null   float64\n",
      " 14  AccountBalance           2510 non-null   float64\n",
      " 15  PreviousTransactionDate  2513 non-null   object \n",
      "dtypes: float64(5), object(11)\n",
      "memory usage: 317.3+ KB\n"
     ]
    }
   ],
   "source": [
    "# Tinjau jumlah baris kolom dan jenis data dalam dataset dengan info.\n",
    "df.info()"
   ]
  },
  {
   "cell_type": "code",
   "execution_count": 4,
   "metadata": {
    "id": "hN9KsJPonVKT"
   },
   "outputs": [
    {
     "data": {
      "application/vnd.microsoft.datawrangler.viewer.v0+json": {
       "columns": [
        {
         "name": "index",
         "rawType": "object",
         "type": "string"
        },
        {
         "name": "TransactionAmount",
         "rawType": "float64",
         "type": "float"
        },
        {
         "name": "CustomerAge",
         "rawType": "float64",
         "type": "float"
        },
        {
         "name": "TransactionDuration",
         "rawType": "float64",
         "type": "float"
        },
        {
         "name": "LoginAttempts",
         "rawType": "float64",
         "type": "float"
        },
        {
         "name": "AccountBalance",
         "rawType": "float64",
         "type": "float"
        }
       ],
       "ref": "e89f1dd8-7087-4942-98b3-19334630d3a7",
       "rows": [
        [
         "count",
         "2511.0",
         "2519.0",
         "2511.0",
         "2516.0",
         "2510.0"
        ],
        [
         "mean",
         "297.6564675428116",
         "44.67844382691544",
         "119.42293906810036",
         "1.1216216216216217",
         "5113.438123505975"
        ],
        [
         "std",
         "292.2303674691292",
         "17.837359161338775",
         "70.07851271045237",
         "0.5944688003469968",
         "3897.975860649872"
        ],
        [
         "min",
         "0.26",
         "18.0",
         "10.0",
         "1.0",
         "101.25"
        ],
        [
         "25%",
         "81.31",
         "27.0",
         "63.0",
         "1.0",
         "1504.7275"
        ],
        [
         "50%",
         "211.36",
         "45.0",
         "112.0",
         "1.0",
         "4734.110000000001"
        ],
        [
         "75%",
         "413.105",
         "59.0",
         "161.0",
         "1.0",
         "7672.6875"
        ],
        [
         "max",
         "1919.11",
         "80.0",
         "300.0",
         "5.0",
         "14977.99"
        ]
       ],
       "shape": {
        "columns": 5,
        "rows": 8
       }
      },
      "text/html": [
       "<div>\n",
       "<style scoped>\n",
       "    .dataframe tbody tr th:only-of-type {\n",
       "        vertical-align: middle;\n",
       "    }\n",
       "\n",
       "    .dataframe tbody tr th {\n",
       "        vertical-align: top;\n",
       "    }\n",
       "\n",
       "    .dataframe thead th {\n",
       "        text-align: right;\n",
       "    }\n",
       "</style>\n",
       "<table border=\"1\" class=\"dataframe\">\n",
       "  <thead>\n",
       "    <tr style=\"text-align: right;\">\n",
       "      <th></th>\n",
       "      <th>TransactionAmount</th>\n",
       "      <th>CustomerAge</th>\n",
       "      <th>TransactionDuration</th>\n",
       "      <th>LoginAttempts</th>\n",
       "      <th>AccountBalance</th>\n",
       "    </tr>\n",
       "  </thead>\n",
       "  <tbody>\n",
       "    <tr>\n",
       "      <th>count</th>\n",
       "      <td>2511.000000</td>\n",
       "      <td>2519.000000</td>\n",
       "      <td>2511.000000</td>\n",
       "      <td>2516.000000</td>\n",
       "      <td>2510.000000</td>\n",
       "    </tr>\n",
       "    <tr>\n",
       "      <th>mean</th>\n",
       "      <td>297.656468</td>\n",
       "      <td>44.678444</td>\n",
       "      <td>119.422939</td>\n",
       "      <td>1.121622</td>\n",
       "      <td>5113.438124</td>\n",
       "    </tr>\n",
       "    <tr>\n",
       "      <th>std</th>\n",
       "      <td>292.230367</td>\n",
       "      <td>17.837359</td>\n",
       "      <td>70.078513</td>\n",
       "      <td>0.594469</td>\n",
       "      <td>3897.975861</td>\n",
       "    </tr>\n",
       "    <tr>\n",
       "      <th>min</th>\n",
       "      <td>0.260000</td>\n",
       "      <td>18.000000</td>\n",
       "      <td>10.000000</td>\n",
       "      <td>1.000000</td>\n",
       "      <td>101.250000</td>\n",
       "    </tr>\n",
       "    <tr>\n",
       "      <th>25%</th>\n",
       "      <td>81.310000</td>\n",
       "      <td>27.000000</td>\n",
       "      <td>63.000000</td>\n",
       "      <td>1.000000</td>\n",
       "      <td>1504.727500</td>\n",
       "    </tr>\n",
       "    <tr>\n",
       "      <th>50%</th>\n",
       "      <td>211.360000</td>\n",
       "      <td>45.000000</td>\n",
       "      <td>112.000000</td>\n",
       "      <td>1.000000</td>\n",
       "      <td>4734.110000</td>\n",
       "    </tr>\n",
       "    <tr>\n",
       "      <th>75%</th>\n",
       "      <td>413.105000</td>\n",
       "      <td>59.000000</td>\n",
       "      <td>161.000000</td>\n",
       "      <td>1.000000</td>\n",
       "      <td>7672.687500</td>\n",
       "    </tr>\n",
       "    <tr>\n",
       "      <th>max</th>\n",
       "      <td>1919.110000</td>\n",
       "      <td>80.000000</td>\n",
       "      <td>300.000000</td>\n",
       "      <td>5.000000</td>\n",
       "      <td>14977.990000</td>\n",
       "    </tr>\n",
       "  </tbody>\n",
       "</table>\n",
       "</div>"
      ],
      "text/plain": [
       "       TransactionAmount  CustomerAge  TransactionDuration  LoginAttempts  \\\n",
       "count        2511.000000  2519.000000          2511.000000    2516.000000   \n",
       "mean          297.656468    44.678444           119.422939       1.121622   \n",
       "std           292.230367    17.837359            70.078513       0.594469   \n",
       "min             0.260000    18.000000            10.000000       1.000000   \n",
       "25%            81.310000    27.000000            63.000000       1.000000   \n",
       "50%           211.360000    45.000000           112.000000       1.000000   \n",
       "75%           413.105000    59.000000           161.000000       1.000000   \n",
       "max          1919.110000    80.000000           300.000000       5.000000   \n",
       "\n",
       "       AccountBalance  \n",
       "count     2510.000000  \n",
       "mean      5113.438124  \n",
       "std       3897.975861  \n",
       "min        101.250000  \n",
       "25%       1504.727500  \n",
       "50%       4734.110000  \n",
       "75%       7672.687500  \n",
       "max      14977.990000  "
      ]
     },
     "execution_count": 4,
     "metadata": {},
     "output_type": "execute_result"
    }
   ],
   "source": [
    "# Menampilkan statistik deskriptif dataset dengan menjalankan describe\n",
    "df.describe()"
   ]
  },
  {
   "cell_type": "markdown",
   "metadata": {
    "id": "DNOEZk24uiXu"
   },
   "source": [
    "(Opsional) Memuat Dataset dan Melakukan Exploratory Data Analysis (EDA) [Skilled]\n",
    "\n",
    "**Biarkan kosong jika tidak menerapkan kriteria skilled**"
   ]
  },
  {
   "cell_type": "code",
   "execution_count": 5,
   "metadata": {
    "id": "DGAJlKExnYAt"
   },
   "outputs": [
    {
     "data": {
      "application/vnd.microsoft.datawrangler.viewer.v0+json": {
       "columns": [
        {
         "name": "index",
         "rawType": "object",
         "type": "string"
        },
        {
         "name": "TransactionAmount",
         "rawType": "float64",
         "type": "float"
        },
        {
         "name": "CustomerAge",
         "rawType": "float64",
         "type": "float"
        },
        {
         "name": "TransactionDuration",
         "rawType": "float64",
         "type": "float"
        },
        {
         "name": "LoginAttempts",
         "rawType": "float64",
         "type": "float"
        },
        {
         "name": "AccountBalance",
         "rawType": "float64",
         "type": "float"
        }
       ],
       "ref": "6deccc22-58ae-48bf-afc3-e3526ffc210b",
       "rows": [
        [
         "TransactionAmount",
         "1.0",
         "-0.024428462177071033",
         "0.004782112353985885",
         "-0.007397231174199807",
         "-0.026309727958081418"
        ],
        [
         "CustomerAge",
         "-0.024428462177071033",
         "1.0",
         "-0.009852427405277092",
         "0.00787557258593503",
         "0.3211611768325769"
        ],
        [
         "TransactionDuration",
         "0.004782112353985885",
         "-0.009852427405277092",
         "1.0",
         "0.030075854378830716",
         "0.006859358621002442"
        ],
        [
         "LoginAttempts",
         "-0.007397231174199807",
         "0.00787557258593503",
         "0.030075854378830716",
         "1.0",
         "0.009087566869794209"
        ],
        [
         "AccountBalance",
         "-0.026309727958081418",
         "0.3211611768325769",
         "0.006859358621002442",
         "0.009087566869794209",
         "1.0"
        ]
       ],
       "shape": {
        "columns": 5,
        "rows": 5
       }
      },
      "text/html": [
       "<div>\n",
       "<style scoped>\n",
       "    .dataframe tbody tr th:only-of-type {\n",
       "        vertical-align: middle;\n",
       "    }\n",
       "\n",
       "    .dataframe tbody tr th {\n",
       "        vertical-align: top;\n",
       "    }\n",
       "\n",
       "    .dataframe thead th {\n",
       "        text-align: right;\n",
       "    }\n",
       "</style>\n",
       "<table border=\"1\" class=\"dataframe\">\n",
       "  <thead>\n",
       "    <tr style=\"text-align: right;\">\n",
       "      <th></th>\n",
       "      <th>TransactionAmount</th>\n",
       "      <th>CustomerAge</th>\n",
       "      <th>TransactionDuration</th>\n",
       "      <th>LoginAttempts</th>\n",
       "      <th>AccountBalance</th>\n",
       "    </tr>\n",
       "  </thead>\n",
       "  <tbody>\n",
       "    <tr>\n",
       "      <th>TransactionAmount</th>\n",
       "      <td>1.000000</td>\n",
       "      <td>-0.024428</td>\n",
       "      <td>0.004782</td>\n",
       "      <td>-0.007397</td>\n",
       "      <td>-0.026310</td>\n",
       "    </tr>\n",
       "    <tr>\n",
       "      <th>CustomerAge</th>\n",
       "      <td>-0.024428</td>\n",
       "      <td>1.000000</td>\n",
       "      <td>-0.009852</td>\n",
       "      <td>0.007876</td>\n",
       "      <td>0.321161</td>\n",
       "    </tr>\n",
       "    <tr>\n",
       "      <th>TransactionDuration</th>\n",
       "      <td>0.004782</td>\n",
       "      <td>-0.009852</td>\n",
       "      <td>1.000000</td>\n",
       "      <td>0.030076</td>\n",
       "      <td>0.006859</td>\n",
       "    </tr>\n",
       "    <tr>\n",
       "      <th>LoginAttempts</th>\n",
       "      <td>-0.007397</td>\n",
       "      <td>0.007876</td>\n",
       "      <td>0.030076</td>\n",
       "      <td>1.000000</td>\n",
       "      <td>0.009088</td>\n",
       "    </tr>\n",
       "    <tr>\n",
       "      <th>AccountBalance</th>\n",
       "      <td>-0.026310</td>\n",
       "      <td>0.321161</td>\n",
       "      <td>0.006859</td>\n",
       "      <td>0.009088</td>\n",
       "      <td>1.000000</td>\n",
       "    </tr>\n",
       "  </tbody>\n",
       "</table>\n",
       "</div>"
      ],
      "text/plain": [
       "                     TransactionAmount  CustomerAge  TransactionDuration  \\\n",
       "TransactionAmount             1.000000    -0.024428             0.004782   \n",
       "CustomerAge                  -0.024428     1.000000            -0.009852   \n",
       "TransactionDuration           0.004782    -0.009852             1.000000   \n",
       "LoginAttempts                -0.007397     0.007876             0.030076   \n",
       "AccountBalance               -0.026310     0.321161             0.006859   \n",
       "\n",
       "                     LoginAttempts  AccountBalance  \n",
       "TransactionAmount        -0.007397       -0.026310  \n",
       "CustomerAge               0.007876        0.321161  \n",
       "TransactionDuration       0.030076        0.006859  \n",
       "LoginAttempts             1.000000        0.009088  \n",
       "AccountBalance            0.009088        1.000000  "
      ]
     },
     "execution_count": 5,
     "metadata": {},
     "output_type": "execute_result"
    }
   ],
   "source": [
    "# Menampilkan korelasi antar fitur (Opsional Skilled 1)\n",
    "numerical_columns = df.select_dtypes(include=[np.number]).columns.tolist()\n",
    "df[numerical_columns].corr()"
   ]
  },
  {
   "cell_type": "code",
   "execution_count": 6,
   "metadata": {
    "id": "kcBn9v4Fn8FO"
   },
   "outputs": [
    {
     "data": {
      "image/png": "[encoded data removed]",
      "text/plain": [
       "<Figure size 2000x1500 with 6 Axes>"
      ]
     },
     "metadata": {},
     "output_type": "display_data"
    }
   ],
   "source": [
    "# Menampilkan histogram untuk semua kolom numerik (Opsional Skilled 1)\n",
    "df[numerical_columns].hist(\n",
    "    figsize=(20, 15), \n",
    "    bins=30, \n",
    "    color='skyblue', \n",
    "    edgecolor='black'\n",
    ")\n",
    "\n",
    "plt.suptitle(\n",
    "    'Histogram Distribusi Statistik Numerik', \n",
    "    fontsize=16, \n",
    "    y=1.02  # Menambahkan jarak antara judul dan plot\n",
    ")\n",
    "\n",
    "plt.tight_layout(rect=[0, 0, 1, 0.96])  # Memastikan tata letak tidak terpotong\n",
    "plt.show()"
   ]
  },
  {
   "cell_type": "markdown",
   "metadata": {
    "id": "k-S35baFuwaP"
   },
   "source": [
    "(Opsional) Memuat Dataset dan Melakukan Exploratory Data Analysis (EDA) [Advanced]\n",
    "\n",
    "**Biarkan kosong jika tidak menerapkan kriteria advanced**"
   ]
  },
  {
   "cell_type": "code",
   "execution_count": 7,
   "metadata": {
    "id": "GVIuT8VDokKn"
   },
   "outputs": [
    {
     "data": {
      "image/png": "[encoded data removed]",
      "text/plain": [
       "<Figure size 1400x1200 with 2 Axes>"
      ]
     },
     "metadata": {},
     "output_type": "display_data"
    }
   ],
   "source": [
    "# Visualisasi yang lebih informatif (Opsional Advanced 1)\n",
    "# Visualisasi correlation matrix menggunakan heatmap\n",
    "plt.figure(figsize=(14, 12))\n",
    "sns.heatmap(df[numerical_columns].corr(), annot=True, cmap='coolwarm')\n",
    "plt.title('Korelasi Antar Kolom Numerik')\n",
    "plt.show()"
   ]
  },
  {
   "cell_type": "markdown",
   "metadata": {
    "id": "cSemyzQHU0On"
   },
   "source": [
    "# **3. Pembersihan dan Pra Pemrosesan Data**\n",
    "\n",
    "Pada tahap ini, Anda akan melakukan **Pembersihan Dataset** untuk menjadikan dataset mudah diintepretasi dan bisa dilatih. Hal-hal yang wajib kamu lakukan yaitu:\n",
    "\n",
    "1. **Mengecek dataset** menggunakan isnull().sum() dan duplicated().sum().\n",
    "2. Melakukan feature scaling menggunakan `MinMaxScaler()` atau `StandardScalar()` untuk fitur numerik.\n",
    "3. Melakukan feature encoding menggunakan `LabelEncoder()` untuk fitur kategorikal.\n",
    "4. Melakukan drop pada kolom id.\n",
    "5. **Ketentuan Cell Code**\n",
    "   - Pastikan **setiap pemeriksaan tersebut** memiliki **output pada cell-nya**. Jika tidak **submission langsung ditolak**\n"
   ]
  },
  {
   "cell_type": "code",
   "execution_count": 8,
   "metadata": {
    "id": "dKeejtvxM6X1"
   },
   "outputs": [
    {
     "data": {
      "application/vnd.microsoft.datawrangler.viewer.v0+json": {
       "columns": [
        {
         "name": "index",
         "rawType": "object",
         "type": "string"
        },
        {
         "name": "0",
         "rawType": "int64",
         "type": "integer"
        }
       ],
       "ref": "89390226-c43e-4af1-9be7-3e6588946b2d",
       "rows": [
        [
         "TransactionID",
         "29"
        ],
        [
         "AccountID",
         "21"
        ],
        [
         "TransactionAmount",
         "26"
        ],
        [
         "TransactionDate",
         "28"
        ],
        [
         "TransactionType",
         "30"
        ],
        [
         "Location",
         "30"
        ],
        [
         "DeviceID",
         "30"
        ],
        [
         "IP Address",
         "20"
        ],
        [
         "MerchantID",
         "23"
        ],
        [
         "Channel",
         "27"
        ],
        [
         "CustomerAge",
         "18"
        ],
        [
         "CustomerOccupation",
         "23"
        ],
        [
         "TransactionDuration",
         "26"
        ],
        [
         "LoginAttempts",
         "21"
        ],
        [
         "AccountBalance",
         "27"
        ],
        [
         "PreviousTransactionDate",
         "24"
        ]
       ],
       "shape": {
        "columns": 1,
        "rows": 16
       }
      },
      "text/plain": [
       "TransactionID              29\n",
       "AccountID                  21\n",
       "TransactionAmount          26\n",
       "TransactionDate            28\n",
       "TransactionType            30\n",
       "Location                   30\n",
       "DeviceID                   30\n",
       "IP Address                 20\n",
       "MerchantID                 23\n",
       "Channel                    27\n",
       "CustomerAge                18\n",
       "CustomerOccupation         23\n",
       "TransactionDuration        26\n",
       "LoginAttempts              21\n",
       "AccountBalance             27\n",
       "PreviousTransactionDate    24\n",
       "dtype: int64"
      ]
     },
     "execution_count": 8,
     "metadata": {},
     "output_type": "execute_result"
    }
   ],
   "source": [
    "# Mengecek dataset menggunakan isnull().sum()\n",
    "df.isnull().sum()"
   ]
  },
  {
   "cell_type": "code",
   "execution_count": 9,
   "metadata": {
    "id": "2RrBA92mpHBc"
   },
   "outputs": [
    {
     "data": {
      "text/plain": [
       "21"
      ]
     },
     "execution_count": 9,
     "metadata": {},
     "output_type": "execute_result"
    }
   ],
   "source": [
    "# Mengecek dataset menggunakan duplicated().sum()\n",
    "df.duplicated().sum()"
   ]
  },
  {
   "cell_type": "code",
   "execution_count": 10,
   "metadata": {
    "id": "G7WXozOgpJp-"
   },
   "outputs": [
    {
     "data": {
      "application/vnd.microsoft.datawrangler.viewer.v0+json": {
       "columns": [
        {
         "name": "index",
         "rawType": "int64",
         "type": "integer"
        },
        {
         "name": "TransactionID",
         "rawType": "object",
         "type": "string"
        },
        {
         "name": "AccountID",
         "rawType": "object",
         "type": "string"
        },
        {
         "name": "TransactionAmount",
         "rawType": "float64",
         "type": "float"
        },
        {
         "name": "TransactionDate",
         "rawType": "object",
         "type": "string"
        },
        {
         "name": "TransactionType",
         "rawType": "object",
         "type": "string"
        },
        {
         "name": "Location",
         "rawType": "object",
         "type": "string"
        },
        {
         "name": "DeviceID",
         "rawType": "object",
         "type": "string"
        },
        {
         "name": "IP Address",
         "rawType": "object",
         "type": "string"
        },
        {
         "name": "MerchantID",
         "rawType": "object",
         "type": "string"
        },
        {
         "name": "Channel",
         "rawType": "object",
         "type": "string"
        },
        {
         "name": "CustomerAge",
         "rawType": "float64",
         "type": "float"
        },
        {
         "name": "CustomerOccupation",
         "rawType": "object",
         "type": "string"
        },
        {
         "name": "TransactionDuration",
         "rawType": "float64",
         "type": "float"
        },
        {
         "name": "LoginAttempts",
         "rawType": "float64",
         "type": "float"
        },
        {
         "name": "AccountBalance",
         "rawType": "float64",
         "type": "float"
        },
        {
         "name": "PreviousTransactionDate",
         "rawType": "object",
         "type": "string"
        }
       ],
       "ref": "9607f9f0-633b-4b28-aaa7-eac21833b5cd",
       "rows": [
        [
         "0",
         "TX000001",
         "AC00128",
         "-0.9705457776964133",
         "2023-04-11 16:29:14",
         "Debit",
         "San Diego",
         "D000380",
         "162.198.218.92",
         "M015",
         "ATM",
         "1.4198617381496486",
         "Doctor",
         "-0.5483933775337999",
         "-0.2046294076264745",
         "-0.0003151297671230473",
         "2024-11-04 08:08:08"
        ],
        [
         "1",
         "TX000002",
         "AC00455",
         "0.2689630980830924",
         "2023-06-27 16:44:19",
         "Debit",
         "Houston",
         "D000051",
         "13.149.61.4",
         "M052",
         "ATM",
         "1.307715254857371",
         "Doctor",
         "0.3079597138762569",
         "-0.2046294076264745",
         "2.2183807457903577",
         "2024-11-04 08:09:35"
        ],
        [
         "2",
         "TX000003",
         "AC00019",
         "-0.5865256317280008",
         "2023-07-10 18:16:08",
         "Debit",
         "Mesa",
         "D000235",
         "215.97.143.157",
         "M009",
         "Online",
         "-1.439873585803431",
         "Student",
         "-0.9052071656213235",
         "-0.2046294076264745",
         "-1.0240913595486316",
         "2024-11-04 08:07:04"
        ],
        [
         "3",
         "TX000004",
         "AC00070",
         "-0.3872937895103424",
         "2023-05-05 16:32:11",
         "Debit",
         "Raleigh",
         "D000187",
         "200.13.225.150",
         "M002",
         "Online",
         "-1.0473608942804593",
         "Student",
         "-1.347656262849853",
         "-0.2046294076264745",
         "0.8866936524759148",
         "2024-11-04 08:09:06"
        ],
        [
         "4",
         "TX000005",
         "AC00411",
         "-0.9727362669425789",
         "2023-10-16 17:51:24",
         "Credit",
         "Atlanta",
         "D000308",
         "65.164.3.100",
         "M091",
         "Online",
         null,
         "Student",
         "1.1214951507158109",
         "-0.2046294076264745",
         "0.5942631366099963",
         "2024-11-04 08:06:39"
        ]
       ],
       "shape": {
        "columns": 16,
        "rows": 5
       }
      },
      "text/html": [
       "<div>\n",
       "<style scoped>\n",
       "    .dataframe tbody tr th:only-of-type {\n",
       "        vertical-align: middle;\n",
       "    }\n",
       "\n",
       "    .dataframe tbody tr th {\n",
       "        vertical-align: top;\n",
       "    }\n",
       "\n",
       "    .dataframe thead th {\n",
       "        text-align: right;\n",
       "    }\n",
       "</style>\n",
       "<table border=\"1\" class=\"dataframe\">\n",
       "  <thead>\n",
       "    <tr style=\"text-align: right;\">\n",
       "      <th></th>\n",
       "      <th>TransactionID</th>\n",
       "      <th>AccountID</th>\n",
       "      <th>TransactionAmount</th>\n",
       "      <th>TransactionDate</th>\n",
       "      <th>TransactionType</th>\n",
       "      <th>Location</th>\n",
       "      <th>DeviceID</th>\n",
       "      <th>IP Address</th>\n",
       "      <th>MerchantID</th>\n",
       "      <th>Channel</th>\n",
       "      <th>CustomerAge</th>\n",
       "      <th>CustomerOccupation</th>\n",
       "      <th>TransactionDuration</th>\n",
       "      <th>LoginAttempts</th>\n",
       "      <th>AccountBalance</th>\n",
       "      <th>PreviousTransactionDate</th>\n",
       "    </tr>\n",
       "  </thead>\n",
       "  <tbody>\n",
       "    <tr>\n",
       "      <th>0</th>\n",
       "      <td>TX000001</td>\n",
       "      <td>AC00128</td>\n",
       "      <td>-0.970546</td>\n",
       "      <td>2023-04-11 16:29:14</td>\n",
       "      <td>Debit</td>\n",
       "      <td>San Diego</td>\n",
       "      <td>D000380</td>\n",
       "      <td>162.198.218.92</td>\n",
       "      <td>M015</td>\n",
       "      <td>ATM</td>\n",
       "      <td>1.419862</td>\n",
       "      <td>Doctor</td>\n",
       "      <td>-0.548393</td>\n",
       "      <td>-0.204629</td>\n",
       "      <td>-0.000315</td>\n",
       "      <td>2024-11-04 08:08:08</td>\n",
       "    </tr>\n",
       "    <tr>\n",
       "      <th>1</th>\n",
       "      <td>TX000002</td>\n",
       "      <td>AC00455</td>\n",
       "      <td>0.268963</td>\n",
       "      <td>2023-06-27 16:44:19</td>\n",
       "      <td>Debit</td>\n",
       "      <td>Houston</td>\n",
       "      <td>D000051</td>\n",
       "      <td>13.149.61.4</td>\n",
       "      <td>M052</td>\n",
       "      <td>ATM</td>\n",
       "      <td>1.307715</td>\n",
       "      <td>Doctor</td>\n",
       "      <td>0.307960</td>\n",
       "      <td>-0.204629</td>\n",
       "      <td>2.218381</td>\n",
       "      <td>2024-11-04 08:09:35</td>\n",
       "    </tr>\n",
       "    <tr>\n",
       "      <th>2</th>\n",
       "      <td>TX000003</td>\n",
       "      <td>AC00019</td>\n",
       "      <td>-0.586526</td>\n",
       "      <td>2023-07-10 18:16:08</td>\n",
       "      <td>Debit</td>\n",
       "      <td>Mesa</td>\n",
       "      <td>D000235</td>\n",
       "      <td>215.97.143.157</td>\n",
       "      <td>M009</td>\n",
       "      <td>Online</td>\n",
       "      <td>-1.439874</td>\n",
       "      <td>Student</td>\n",
       "      <td>-0.905207</td>\n",
       "      <td>-0.204629</td>\n",
       "      <td>-1.024091</td>\n",
       "      <td>2024-11-04 08:07:04</td>\n",
       "    </tr>\n",
       "    <tr>\n",
       "      <th>3</th>\n",
       "      <td>TX000004</td>\n",
       "      <td>AC00070</td>\n",
       "      <td>-0.387294</td>\n",
       "      <td>2023-05-05 16:32:11</td>\n",
       "      <td>Debit</td>\n",
       "      <td>Raleigh</td>\n",
       "      <td>D000187</td>\n",
       "      <td>200.13.225.150</td>\n",
       "      <td>M002</td>\n",
       "      <td>Online</td>\n",
       "      <td>-1.047361</td>\n",
       "      <td>Student</td>\n",
       "      <td>-1.347656</td>\n",
       "      <td>-0.204629</td>\n",
       "      <td>0.886694</td>\n",
       "      <td>2024-11-04 08:09:06</td>\n",
       "    </tr>\n",
       "    <tr>\n",
       "      <th>4</th>\n",
       "      <td>TX000005</td>\n",
       "      <td>AC00411</td>\n",
       "      <td>-0.972736</td>\n",
       "      <td>2023-10-16 17:51:24</td>\n",
       "      <td>Credit</td>\n",
       "      <td>Atlanta</td>\n",
       "      <td>D000308</td>\n",
       "      <td>65.164.3.100</td>\n",
       "      <td>M091</td>\n",
       "      <td>Online</td>\n",
       "      <td>NaN</td>\n",
       "      <td>Student</td>\n",
       "      <td>1.121495</td>\n",
       "      <td>-0.204629</td>\n",
       "      <td>0.594263</td>\n",
       "      <td>2024-11-04 08:06:39</td>\n",
       "    </tr>\n",
       "  </tbody>\n",
       "</table>\n",
       "</div>"
      ],
      "text/plain": [
       "  TransactionID AccountID  TransactionAmount      TransactionDate  \\\n",
       "0      TX000001   AC00128          -0.970546  2023-04-11 16:29:14   \n",
       "1      TX000002   AC00455           0.268963  2023-06-27 16:44:19   \n",
       "2      TX000003   AC00019          -0.586526  2023-07-10 18:16:08   \n",
       "3      TX000004   AC00070          -0.387294  2023-05-05 16:32:11   \n",
       "4      TX000005   AC00411          -0.972736  2023-10-16 17:51:24   \n",
       "\n",
       "  TransactionType   Location DeviceID      IP Address MerchantID Channel  \\\n",
       "0           Debit  San Diego  D000380  162.198.218.92       M015     ATM   \n",
       "1           Debit    Houston  D000051     13.149.61.4       M052     ATM   \n",
       "2           Debit       Mesa  D000235  215.97.143.157       M009  Online   \n",
       "3           Debit    Raleigh  D000187  200.13.225.150       M002  Online   \n",
       "4          Credit    Atlanta  D000308    65.164.3.100       M091  Online   \n",
       "\n",
       "   CustomerAge CustomerOccupation  TransactionDuration  LoginAttempts  \\\n",
       "0     1.419862             Doctor            -0.548393      -0.204629   \n",
       "1     1.307715             Doctor             0.307960      -0.204629   \n",
       "2    -1.439874            Student            -0.905207      -0.204629   \n",
       "3    -1.047361            Student            -1.347656      -0.204629   \n",
       "4          NaN            Student             1.121495      -0.204629   \n",
       "\n",
       "   AccountBalance PreviousTransactionDate  \n",
       "0       -0.000315     2024-11-04 08:08:08  \n",
       "1        2.218381     2024-11-04 08:09:35  \n",
       "2       -1.024091     2024-11-04 08:07:04  \n",
       "3        0.886694     2024-11-04 08:09:06  \n",
       "4        0.594263     2024-11-04 08:06:39  "
      ]
     },
     "execution_count": 10,
     "metadata": {},
     "output_type": "execute_result"
    }
   ],
   "source": [
    "# Melakukan feature scaling menggunakan MinMaxScaler() atau StandardScalar() untuk fitur numerik.\n",
    "# Pastikan kamu menggunakan function head setelah melalukan scaling.\n",
    "scaler = {}\n",
    "for col in numerical_columns:\n",
    "    scaler[col] = StandardScaler()\n",
    "    df[col] = scaler[col].fit_transform(df[[col]])\n",
    "\n",
    "df.head()"
   ]
  },
  {
   "cell_type": "code",
   "execution_count": 11,
   "metadata": {
    "id": "TGLR0NTwsMOp"
   },
   "outputs": [
    {
     "data": {
      "application/vnd.microsoft.datawrangler.viewer.v0+json": {
       "columns": [
        {
         "name": "index",
         "rawType": "int64",
         "type": "integer"
        },
        {
         "name": "TransactionAmount",
         "rawType": "float64",
         "type": "float"
        },
        {
         "name": "TransactionDate",
         "rawType": "object",
         "type": "string"
        },
        {
         "name": "TransactionType",
         "rawType": "object",
         "type": "string"
        },
        {
         "name": "Location",
         "rawType": "object",
         "type": "string"
        },
        {
         "name": "Channel",
         "rawType": "object",
         "type": "string"
        },
        {
         "name": "CustomerAge",
         "rawType": "float64",
         "type": "float"
        },
        {
         "name": "CustomerOccupation",
         "rawType": "object",
         "type": "string"
        },
        {
         "name": "TransactionDuration",
         "rawType": "float64",
         "type": "float"
        },
        {
         "name": "LoginAttempts",
         "rawType": "float64",
         "type": "float"
        },
        {
         "name": "AccountBalance",
         "rawType": "float64",
         "type": "float"
        },
        {
         "name": "PreviousTransactionDate",
         "rawType": "object",
         "type": "string"
        }
       ],
       "ref": "0eda30d2-795e-42fa-9ac0-3ce55d4cab68",
       "rows": [
        [
         "0",
         "-0.9705457776964133",
         "2023-04-11 16:29:14",
         "Debit",
         "San Diego",
         "ATM",
         "1.4198617381496486",
         "Doctor",
         "-0.5483933775337999",
         "-0.2046294076264745",
         "-0.0003151297671230473",
         "2024-11-04 08:08:08"
        ],
        [
         "1",
         "0.2689630980830924",
         "2023-06-27 16:44:19",
         "Debit",
         "Houston",
         "ATM",
         "1.307715254857371",
         "Doctor",
         "0.3079597138762569",
         "-0.2046294076264745",
         "2.2183807457903577",
         "2024-11-04 08:09:35"
        ],
        [
         "2",
         "-0.5865256317280008",
         "2023-07-10 18:16:08",
         "Debit",
         "Mesa",
         "Online",
         "-1.439873585803431",
         "Student",
         "-0.9052071656213235",
         "-0.2046294076264745",
         "-1.0240913595486316",
         "2024-11-04 08:07:04"
        ],
        [
         "3",
         "-0.3872937895103424",
         "2023-05-05 16:32:11",
         "Debit",
         "Raleigh",
         "Online",
         "-1.0473608942804593",
         "Student",
         "-1.347656262849853",
         "-0.2046294076264745",
         "0.8866936524759148",
         "2024-11-04 08:09:06"
        ],
        [
         "4",
         "-0.9727362669425789",
         "2023-10-16 17:51:24",
         "Credit",
         "Atlanta",
         "Online",
         null,
         "Student",
         "1.1214951507158109",
         "-0.2046294076264745",
         "0.5942631366099963",
         "2024-11-04 08:06:39"
        ]
       ],
       "shape": {
        "columns": 11,
        "rows": 5
       }
      },
      "text/html": [
       "<div>\n",
       "<style scoped>\n",
       "    .dataframe tbody tr th:only-of-type {\n",
       "        vertical-align: middle;\n",
       "    }\n",
       "\n",
       "    .dataframe tbody tr th {\n",
       "        vertical-align: top;\n",
       "    }\n",
       "\n",
       "    .dataframe thead th {\n",
       "        text-align: right;\n",
       "    }\n",
       "</style>\n",
       "<table border=\"1\" class=\"dataframe\">\n",
       "  <thead>\n",
       "    <tr style=\"text-align: right;\">\n",
       "      <th></th>\n",
       "      <th>TransactionAmount</th>\n",
       "      <th>TransactionDate</th>\n",
       "      <th>TransactionType</th>\n",
       "      <th>Location</th>\n",
       "      <th>Channel</th>\n",
       "      <th>CustomerAge</th>\n",
       "      <th>CustomerOccupation</th>\n",
       "      <th>TransactionDuration</th>\n",
       "      <th>LoginAttempts</th>\n",
       "      <th>AccountBalance</th>\n",
       "      <th>PreviousTransactionDate</th>\n",
       "    </tr>\n",
       "  </thead>\n",
       "  <tbody>\n",
       "    <tr>\n",
       "      <th>0</th>\n",
       "      <td>-0.970546</td>\n",
       "      <td>2023-04-11 16:29:14</td>\n",
       "      <td>Debit</td>\n",
       "      <td>San Diego</td>\n",
       "      <td>ATM</td>\n",
       "      <td>1.419862</td>\n",
       "      <td>Doctor</td>\n",
       "      <td>-0.548393</td>\n",
       "      <td>-0.204629</td>\n",
       "      <td>-0.000315</td>\n",
       "      <td>2024-11-04 08:08:08</td>\n",
       "    </tr>\n",
       "    <tr>\n",
       "      <th>1</th>\n",
       "      <td>0.268963</td>\n",
       "      <td>2023-06-27 16:44:19</td>\n",
       "      <td>Debit</td>\n",
       "      <td>Houston</td>\n",
       "      <td>ATM</td>\n",
       "      <td>1.307715</td>\n",
       "      <td>Doctor</td>\n",
       "      <td>0.307960</td>\n",
       "      <td>-0.204629</td>\n",
       "      <td>2.218381</td>\n",
       "      <td>2024-11-04 08:09:35</td>\n",
       "    </tr>\n",
       "    <tr>\n",
       "      <th>2</th>\n",
       "      <td>-0.586526</td>\n",
       "      <td>2023-07-10 18:16:08</td>\n",
       "      <td>Debit</td>\n",
       "      <td>Mesa</td>\n",
       "      <td>Online</td>\n",
       "      <td>-1.439874</td>\n",
       "      <td>Student</td>\n",
       "      <td>-0.905207</td>\n",
       "      <td>-0.204629</td>\n",
       "      <td>-1.024091</td>\n",
       "      <td>2024-11-04 08:07:04</td>\n",
       "    </tr>\n",
       "    <tr>\n",
       "      <th>3</th>\n",
       "      <td>-0.387294</td>\n",
       "      <td>2023-05-05 16:32:11</td>\n",
       "      <td>Debit</td>\n",
       "      <td>Raleigh</td>\n",
       "      <td>Online</td>\n",
       "      <td>-1.047361</td>\n",
       "      <td>Student</td>\n",
       "      <td>-1.347656</td>\n",
       "      <td>-0.204629</td>\n",
       "      <td>0.886694</td>\n",
       "      <td>2024-11-04 08:09:06</td>\n",
       "    </tr>\n",
       "    <tr>\n",
       "      <th>4</th>\n",
       "      <td>-0.972736</td>\n",
       "      <td>2023-10-16 17:51:24</td>\n",
       "      <td>Credit</td>\n",
       "      <td>Atlanta</td>\n",
       "      <td>Online</td>\n",
       "      <td>NaN</td>\n",
       "      <td>Student</td>\n",
       "      <td>1.121495</td>\n",
       "      <td>-0.204629</td>\n",
       "      <td>0.594263</td>\n",
       "      <td>2024-11-04 08:06:39</td>\n",
       "    </tr>\n",
       "  </tbody>\n",
       "</table>\n",
       "</div>"
      ],
      "text/plain": [
       "   TransactionAmount      TransactionDate TransactionType   Location Channel  \\\n",
       "0          -0.970546  2023-04-11 16:29:14           Debit  San Diego     ATM   \n",
       "1           0.268963  2023-06-27 16:44:19           Debit    Houston     ATM   \n",
       "2          -0.586526  2023-07-10 18:16:08           Debit       Mesa  Online   \n",
       "3          -0.387294  2023-05-05 16:32:11           Debit    Raleigh  Online   \n",
       "4          -0.972736  2023-10-16 17:51:24          Credit    Atlanta  Online   \n",
       "\n",
       "   CustomerAge CustomerOccupation  TransactionDuration  LoginAttempts  \\\n",
       "0     1.419862             Doctor            -0.548393      -0.204629   \n",
       "1     1.307715             Doctor             0.307960      -0.204629   \n",
       "2    -1.439874            Student            -0.905207      -0.204629   \n",
       "3    -1.047361            Student            -1.347656      -0.204629   \n",
       "4          NaN            Student             1.121495      -0.204629   \n",
       "\n",
       "   AccountBalance PreviousTransactionDate  \n",
       "0       -0.000315     2024-11-04 08:08:08  \n",
       "1        2.218381     2024-11-04 08:09:35  \n",
       "2       -1.024091     2024-11-04 08:07:04  \n",
       "3        0.886694     2024-11-04 08:09:06  \n",
       "4        0.594263     2024-11-04 08:06:39  "
      ]
     },
     "execution_count": 11,
     "metadata": {},
     "output_type": "execute_result"
    }
   ],
   "source": [
    "# Melakukan drop pada kolom yang memiliki keterangan id dan IP Address\n",
    "df.drop(columns=[\n",
    "    col for col in df.columns if 'id' in col.lower() \n",
    "    or 'ip address' in col.lower()], \n",
    "    inplace=True)\n",
    "\n",
    "df.head()"
   ]
  },
  {
   "cell_type": "code",
   "execution_count": 12,
   "metadata": {
    "id": "6eycdNMQqx4c"
   },
   "outputs": [
    {
     "data": {
      "application/vnd.microsoft.datawrangler.viewer.v0+json": {
       "columns": [
        {
         "name": "index",
         "rawType": "int64",
         "type": "integer"
        },
        {
         "name": "TransactionAmount",
         "rawType": "float64",
         "type": "float"
        },
        {
         "name": "TransactionDate",
         "rawType": "int32",
         "type": "integer"
        },
        {
         "name": "TransactionType",
         "rawType": "int32",
         "type": "integer"
        },
        {
         "name": "Location",
         "rawType": "int32",
         "type": "integer"
        },
        {
         "name": "Channel",
         "rawType": "int32",
         "type": "integer"
        },
        {
         "name": "CustomerAge",
         "rawType": "float64",
         "type": "float"
        },
        {
         "name": "CustomerOccupation",
         "rawType": "int32",
         "type": "integer"
        },
        {
         "name": "TransactionDuration",
         "rawType": "float64",
         "type": "float"
        },
        {
         "name": "LoginAttempts",
         "rawType": "float64",
         "type": "float"
        },
        {
         "name": "AccountBalance",
         "rawType": "float64",
         "type": "float"
        },
        {
         "name": "PreviousTransactionDate",
         "rawType": "int32",
         "type": "integer"
        }
       ],
       "ref": "eb80f00d-e6f9-49ef-9865-58c0c3e72896",
       "rows": [
        [
         "0",
         "-0.9705457776964133",
         "680",
         "1",
         "36",
         "0",
         "1.4198617381496486",
         "0",
         "-0.5483933775337999",
         "-0.2046294076264745",
         "-0.0003151297671230473",
         "105"
        ],
        [
         "1",
         "0.2689630980830924",
         "1178",
         "1",
         "15",
         "0",
         "1.307715254857371",
         "0",
         "0.3079597138762569",
         "-0.2046294076264745",
         "2.2183807457903577",
         "192"
        ],
        [
         "2",
         "-0.5865256317280008",
         "1262",
         "1",
         "23",
         "2",
         "-1.439873585803431",
         "3",
         "-0.9052071656213235",
         "-0.2046294076264745",
         "-1.0240913595486316",
         "41"
        ],
        [
         "3",
         "-0.3872937895103424",
         "818",
         "1",
         "33",
         "2",
         "-1.0473608942804593",
         "3",
         "-1.347656262849853",
         "-0.2046294076264745",
         "0.8866936524759148",
         "163"
        ],
        [
         "4",
         "-0.9727362669425789",
         "1939",
         "0",
         "1",
         "2",
         null,
         "3",
         "1.1214951507158109",
         "-0.2046294076264745",
         "0.5942631366099963",
         "16"
        ]
       ],
       "shape": {
        "columns": 11,
        "rows": 5
       }
      },
      "text/html": [
       "<div>\n",
       "<style scoped>\n",
       "    .dataframe tbody tr th:only-of-type {\n",
       "        vertical-align: middle;\n",
       "    }\n",
       "\n",
       "    .dataframe tbody tr th {\n",
       "        vertical-align: top;\n",
       "    }\n",
       "\n",
       "    .dataframe thead th {\n",
       "        text-align: right;\n",
       "    }\n",
       "</style>\n",
       "<table border=\"1\" class=\"dataframe\">\n",
       "  <thead>\n",
       "    <tr style=\"text-align: right;\">\n",
       "      <th></th>\n",
       "      <th>TransactionAmount</th>\n",
       "      <th>TransactionDate</th>\n",
       "      <th>TransactionType</th>\n",
       "      <th>Location</th>\n",
       "      <th>Channel</th>\n",
       "      <th>CustomerAge</th>\n",
       "      <th>CustomerOccupation</th>\n",
       "      <th>TransactionDuration</th>\n",
       "      <th>LoginAttempts</th>\n",
       "      <th>AccountBalance</th>\n",
       "      <th>PreviousTransactionDate</th>\n",
       "    </tr>\n",
       "  </thead>\n",
       "  <tbody>\n",
       "    <tr>\n",
       "      <th>0</th>\n",
       "      <td>-0.970546</td>\n",
       "      <td>680</td>\n",
       "      <td>1</td>\n",
       "      <td>36</td>\n",
       "      <td>0</td>\n",
       "      <td>1.419862</td>\n",
       "      <td>0</td>\n",
       "      <td>-0.548393</td>\n",
       "      <td>-0.204629</td>\n",
       "      <td>-0.000315</td>\n",
       "      <td>105</td>\n",
       "    </tr>\n",
       "    <tr>\n",
       "      <th>1</th>\n",
       "      <td>0.268963</td>\n",
       "      <td>1178</td>\n",
       "      <td>1</td>\n",
       "      <td>15</td>\n",
       "      <td>0</td>\n",
       "      <td>1.307715</td>\n",
       "      <td>0</td>\n",
       "      <td>0.307960</td>\n",
       "      <td>-0.204629</td>\n",
       "      <td>2.218381</td>\n",
       "      <td>192</td>\n",
       "    </tr>\n",
       "    <tr>\n",
       "      <th>2</th>\n",
       "      <td>-0.586526</td>\n",
       "      <td>1262</td>\n",
       "      <td>1</td>\n",
       "      <td>23</td>\n",
       "      <td>2</td>\n",
       "      <td>-1.439874</td>\n",
       "      <td>3</td>\n",
       "      <td>-0.905207</td>\n",
       "      <td>-0.204629</td>\n",
       "      <td>-1.024091</td>\n",
       "      <td>41</td>\n",
       "    </tr>\n",
       "    <tr>\n",
       "      <th>3</th>\n",
       "      <td>-0.387294</td>\n",
       "      <td>818</td>\n",
       "      <td>1</td>\n",
       "      <td>33</td>\n",
       "      <td>2</td>\n",
       "      <td>-1.047361</td>\n",
       "      <td>3</td>\n",
       "      <td>-1.347656</td>\n",
       "      <td>-0.204629</td>\n",
       "      <td>0.886694</td>\n",
       "      <td>163</td>\n",
       "    </tr>\n",
       "    <tr>\n",
       "      <th>4</th>\n",
       "      <td>-0.972736</td>\n",
       "      <td>1939</td>\n",
       "      <td>0</td>\n",
       "      <td>1</td>\n",
       "      <td>2</td>\n",
       "      <td>NaN</td>\n",
       "      <td>3</td>\n",
       "      <td>1.121495</td>\n",
       "      <td>-0.204629</td>\n",
       "      <td>0.594263</td>\n",
       "      <td>16</td>\n",
       "    </tr>\n",
       "  </tbody>\n",
       "</table>\n",
       "</div>"
      ],
      "text/plain": [
       "   TransactionAmount  TransactionDate  TransactionType  Location  Channel  \\\n",
       "0          -0.970546              680                1        36        0   \n",
       "1           0.268963             1178                1        15        0   \n",
       "2          -0.586526             1262                1        23        2   \n",
       "3          -0.387294              818                1        33        2   \n",
       "4          -0.972736             1939                0         1        2   \n",
       "\n",
       "   CustomerAge  CustomerOccupation  TransactionDuration  LoginAttempts  \\\n",
       "0     1.419862                   0            -0.548393      -0.204629   \n",
       "1     1.307715                   0             0.307960      -0.204629   \n",
       "2    -1.439874                   3            -0.905207      -0.204629   \n",
       "3    -1.047361                   3            -1.347656      -0.204629   \n",
       "4          NaN                   3             1.121495      -0.204629   \n",
       "\n",
       "   AccountBalance  PreviousTransactionDate  \n",
       "0       -0.000315                      105  \n",
       "1        2.218381                      192  \n",
       "2       -1.024091                       41  \n",
       "3        0.886694                      163  \n",
       "4        0.594263                       16  "
      ]
     },
     "execution_count": 12,
     "metadata": {},
     "output_type": "execute_result"
    }
   ],
   "source": [
    "# Melakukan feature encoding menggunakan LabelEncoder() untuk fitur kategorikal.\n",
    "# Pastikan kamu menggunakan function head setelah melalukan encoding.\n",
    "categorical_columns = df.select_dtypes(include=[object]).columns.tolist()\n",
    "\n",
    "label_encoders = {}  # Buat dictionary untuk menyimpan data asli\n",
    "for col in categorical_columns:\n",
    "    label_encoders[col] = LabelEncoder()\n",
    "    df[col] = label_encoders[col].fit_transform(df[col].astype(str))\n",
    "\n",
    "df.head()"
   ]
  },
  {
   "cell_type": "code",
   "execution_count": 13,
   "metadata": {
    "id": "u1EmlGmZCCAP"
   },
   "outputs": [
    {
     "data": {
      "text/plain": [
       "['TransactionAmount',\n",
       " 'TransactionDate',\n",
       " 'TransactionType',\n",
       " 'Location',\n",
       " 'Channel',\n",
       " 'CustomerAge',\n",
       " 'CustomerOccupation',\n",
       " 'TransactionDuration',\n",
       " 'LoginAttempts',\n",
       " 'AccountBalance',\n",
       " 'PreviousTransactionDate']"
      ]
     },
     "execution_count": 13,
     "metadata": {},
     "output_type": "execute_result"
    }
   ],
   "source": [
    "# Last checking gunakan columns.tolist() untuk checking seluruh fitur yang ada.\n",
    "# Perbaiki kode di bawah ini tanpa menambahkan atau mengurangi cell code ini.\n",
    "df.columns.tolist()"
   ]
  },
  {
   "cell_type": "markdown",
   "metadata": {
    "id": "qnbH2l_wv9l8"
   },
   "source": [
    "(Opsional) Pembersihan dan Pra Pemrosesan Data [Skilled]\n",
    "\n",
    "**Biarkan kosong jika tidak menerapkan kriteria skilled**"
   ]
  },
  {
   "cell_type": "markdown",
   "metadata": {},
   "source": [
    "Disini saya perlu melakukan pengecekan ulang pada missing values dan data duplikat dikarenakan handling missing values dan duplikat dilakukan setelah scaling dan encoding. "
   ]
  },
  {
   "cell_type": "code",
   "execution_count": 14,
   "metadata": {},
   "outputs": [
    {
     "name": "stdout",
     "output_type": "stream",
     "text": [
      "Missing Values:\n",
      "TransactionAmount          26\n",
      "TransactionDate             0\n",
      "TransactionType             0\n",
      "Location                    0\n",
      "Channel                     0\n",
      "CustomerAge                18\n",
      "CustomerOccupation          0\n",
      "TransactionDuration        26\n",
      "LoginAttempts              21\n",
      "AccountBalance             27\n",
      "PreviousTransactionDate     0\n",
      "dtype: int64\n",
      "\n",
      "Data Duplikat = 22\n"
     ]
    }
   ],
   "source": [
    "print(\"Missing Values:\")\n",
    "print(df.isnull().sum())\n",
    "print()\n",
    "print(f\"Data Duplikat = {df.duplicated().sum()}\")"
   ]
  },
  {
   "cell_type": "markdown",
   "metadata": {},
   "source": [
    "Disini terlihat bahwa pada fitur kategorikal tidak terdeteksi missing values, sedangkan di awal preprocessing telah dilakukan deteksi missing values bahwa terdapat missing values pada semua kolom. Hal ini disebabkan pada label encoding melakukan transform pada missing values dengan label \"nan\" dan merubahnya menjadi numeric. Kemudian pada data duplikat terjadi penambahan data duplikat yang seharusnya tidak diinginkan yang semula 21 menjadi 22."
   ]
  },
  {
   "cell_type": "code",
   "execution_count": 15,
   "metadata": {
    "id": "-UoGhAUrsxIV"
   },
   "outputs": [
    {
     "name": "stdout",
     "output_type": "stream",
     "text": [
      "TransactionAmount          0\n",
      "TransactionDate            0\n",
      "TransactionType            0\n",
      "Location                   0\n",
      "Channel                    0\n",
      "CustomerAge                0\n",
      "CustomerOccupation         0\n",
      "TransactionDuration        0\n",
      "LoginAttempts              0\n",
      "AccountBalance             0\n",
      "PreviousTransactionDate    0\n",
      "dtype: int64\n"
     ]
    }
   ],
   "source": [
    "# Menangani data yang hilang (bisa menggunakan dropna() atau metode imputasi fillna()).\n",
    "# Untuk numerik\n",
    "df[numerical_columns] = df[numerical_columns].fillna(df[numerical_columns].ffill())\n",
    "\n",
    "# Untuk kategorikal, khusus untuk kategorikal dilakukan inverse sementara\n",
    "for col in categorical_columns:\n",
    "    le = label_encoders[col]\n",
    "\n",
    "    # 1. inverse ke label asli (string), jadi array\n",
    "    orig_labels = le.inverse_transform(df[col].astype(int))\n",
    "\n",
    "    # 2. jadikan Series, ubah literal 'nan' (jika ada) jadi np.nan\n",
    "    s = pd.Series(orig_labels, index=df.index).replace('nan', np.nan)\n",
    "\n",
    "    # 3. imputasi missing pada label asli\n",
    "    s.fillna(s.ffill(), inplace=True)\n",
    "\n",
    "    # 4. re-encode lagi dengan encoder yang sama\n",
    "    df[col] = le.transform(s.astype(str))\n",
    "\n",
    "print(df.isnull().sum())"
   ]
  },
  {
   "cell_type": "code",
   "execution_count": 16,
   "metadata": {
    "id": "WGt2XApTttSL"
   },
   "outputs": [
    {
     "name": "stdout",
     "output_type": "stream",
     "text": [
      "Duplikat: 0\n",
      "Dimensi data: (2514, 11)\n"
     ]
    }
   ],
   "source": [
    "# Menghapus data duplikat menggunakan drop_duplicates().\n",
    "df.drop_duplicates(inplace=True)\n",
    "print(f\"Duplikat: {df.duplicated().sum()}\")\n",
    "print(f\"Dimensi data: {df.shape}\")"
   ]
  },
  {
   "cell_type": "markdown",
   "metadata": {
    "id": "H5RrswThwQrC"
   },
   "source": [
    "(Opsional) Pembersihan dan Pra Pemrosesan Data [Advanced]\n",
    "\n",
    "**Biarkan kosong jika tidak menerapkan kriteria advanced**"
   ]
  },
  {
   "cell_type": "code",
   "execution_count": 17,
   "metadata": {
    "id": "mvhfyYpat9Xs"
   },
   "outputs": [],
   "source": [
    "# Melakukan Handling Outlier Data berdasarkan jumlah outlier, apakah menggunakan metode drop atau mengisi nilai tersebut.\n",
    "for col in numerical_columns:\n",
    "    # Melihat outlier dengan IQR (Interquartile Range)\n",
    "    Q1 = df[col].quantile(0.25)\n",
    "    Q3 = df[col].quantile(0.75)\n",
    "    IQR = Q3 - Q1\n",
    "    lower_bound = Q1 - 1.5 * IQR\n",
    "    upper_bound = Q3 + 1.5 * IQR\n",
    "    \n",
    "    # Identifikasi outlier\n",
    "    outliers = df[(df[col] < lower_bound) | (df[col] > upper_bound)]\n",
    "    \n",
    "    # Mengganti outliers dengan nilai batas terdekat\n",
    "    df[col] = df[col].apply(\n",
    "        lambda x: lower_bound if x < lower_bound \n",
    "        else (upper_bound if x > upper_bound else x)\n",
    "    )"
   ]
  },
  {
   "cell_type": "code",
   "execution_count": 18,
   "metadata": {
    "id": "QjcR-3G0u-GL"
   },
   "outputs": [],
   "source": [
    "# Melakukan binning data berdasarkan kondisi rentang nilai pada fitur numerik,\n",
    "# lakukan pada satu sampai dua fitur numerik.\n",
    "# Silahkan lakukan encode hasil binning tersebut menggunakan LabelEncoder."
   ]
  },
  {
   "cell_type": "markdown",
   "metadata": {
    "id": "Fkd_QHXWMBDr"
   },
   "source": [
    "# **4. Membangun Model Clustering**\n",
    "Pada tahap ini, Anda membangun model clustering dengan memilih algoritma yang sesuai untuk mengelompokkan data berdasarkan kesamaan.\n",
    "1. Pastikan Anda menggunakan dataframe yang sudah melalui processing sesuai dengan levelnya (Basic, Skilled, Advanced)\n",
    "2. Melakukan visualisasi Elbow Method untuk menentukan jumlah cluster terbaik menggunakan `KElbowVisualizer()`.\n",
    "3. Menggunakan algoritma K-Means Clustering dengan `sklearn.cluster.KMeans()`.\n",
    "4. Jalankan cell code `joblib.dump(model_kmeans, \"best_model_clustering.h5\")` untuk menyimpan model yang sudah dibuat."
   ]
  },
  {
   "cell_type": "code",
   "execution_count": 19,
   "metadata": {
    "id": "hYHmRnb42A1P"
   },
   "outputs": [
    {
     "data": {
      "application/vnd.microsoft.datawrangler.viewer.v0+json": {
       "columns": [
        {
         "name": "index",
         "rawType": "object",
         "type": "string"
        },
        {
         "name": "TransactionAmount",
         "rawType": "float64",
         "type": "float"
        },
        {
         "name": "TransactionDate",
         "rawType": "float64",
         "type": "float"
        },
        {
         "name": "TransactionType",
         "rawType": "float64",
         "type": "float"
        },
        {
         "name": "Location",
         "rawType": "float64",
         "type": "float"
        },
        {
         "name": "Channel",
         "rawType": "float64",
         "type": "float"
        },
        {
         "name": "CustomerAge",
         "rawType": "float64",
         "type": "float"
        },
        {
         "name": "CustomerOccupation",
         "rawType": "float64",
         "type": "float"
        },
        {
         "name": "TransactionDuration",
         "rawType": "float64",
         "type": "float"
        },
        {
         "name": "LoginAttempts",
         "rawType": "float64",
         "type": "float"
        },
        {
         "name": "AccountBalance",
         "rawType": "float64",
         "type": "float"
        },
        {
         "name": "PreviousTransactionDate",
         "rawType": "float64",
         "type": "float"
        }
       ],
       "ref": "6a1775d1-2949-4b5e-807b-ef8416e721a5",
       "rows": [
        [
         "count",
         "2514.0",
         "2514.0",
         "2514.0",
         "2514.0",
         "2514.0",
         "2514.0",
         "2514.0",
         "2514.0",
         "2514.0",
         "2514.0",
         "2514.0"
        ],
        [
         "mean",
         "-0.04248492891508864",
         "1241.4443118536196",
         "0.773667462211615",
         "21.01829753381066",
         "0.9872712808273667",
         "-0.00168638558742836",
         "1.5071599045346062",
         "0.002507808697688338",
         "-0.20462940762647444",
         "0.0009989210047817822",
         "179.1750198886237"
        ],
        [
         "std",
         "0.8651230344964961",
         "717.718950095764",
         "0.4185400819970834",
         "12.22698115525207",
         "0.808232777876383",
         "0.9975935236569717",
         "1.1295634986403182",
         "0.9996639106354627",
         "5.552219493001053e-17",
         "1.0004814264457367",
         "102.97699469797641"
        ],
        [
         "min",
         "-1.0178808812502738",
         "0.0",
         "0.0",
         "0.0",
         "0.0",
         "-1.4959468274495697",
         "0.0",
         "-1.5617445357023672",
         "-0.2046294076264745",
         "-1.286100028582106",
         "0.0"
        ],
        [
         "25%",
         "-0.7409208971882065",
         "619.25",
         "1.0",
         "11.0",
         "0.0",
         "-0.9912876526343205",
         "0.0",
         "-0.8052993049568169",
         "-0.2046294076264745",
         "-0.924915651345267",
         "90.25"
        ],
        [
         "50%",
         "-0.2947969584515514",
         "1241.5",
         "1.0",
         "21.0",
         "1.0",
         "0.018030696996178132",
         "1.0",
         "-0.09167172878176957",
         "-0.2046294076264745",
         "-0.09694862771835855",
         "179.0"
        ],
        [
         "75%",
         "0.40072616019912577",
         "1861.75",
         "1.0",
         "31.0",
         "2.0",
         "0.8030560800421215",
         "3.0",
         "0.5934107443462758",
         "-0.2046294076264745",
         "0.6566893770051403",
         "269.0"
        ],
        [
         "max",
         "2.113196746280124",
         "2484.0",
         "1.0",
         "42.0",
         "2.0",
         "1.9805941546110366",
         "3.0",
         "2.5772954061129076",
         "-0.2046294076264745",
         "2.5311899987972404",
         "359.0"
        ]
       ],
       "shape": {
        "columns": 11,
        "rows": 8
       }
      },
      "text/html": [
       "<div>\n",
       "<style scoped>\n",
       "    .dataframe tbody tr th:only-of-type {\n",
       "        vertical-align: middle;\n",
       "    }\n",
       "\n",
       "    .dataframe tbody tr th {\n",
       "        vertical-align: top;\n",
       "    }\n",
       "\n",
       "    .dataframe thead th {\n",
       "        text-align: right;\n",
       "    }\n",
       "</style>\n",
       "<table border=\"1\" class=\"dataframe\">\n",
       "  <thead>\n",
       "    <tr style=\"text-align: right;\">\n",
       "      <th></th>\n",
       "      <th>TransactionAmount</th>\n",
       "      <th>TransactionDate</th>\n",
       "      <th>TransactionType</th>\n",
       "      <th>Location</th>\n",
       "      <th>Channel</th>\n",
       "      <th>CustomerAge</th>\n",
       "      <th>CustomerOccupation</th>\n",
       "      <th>TransactionDuration</th>\n",
       "      <th>LoginAttempts</th>\n",
       "      <th>AccountBalance</th>\n",
       "      <th>PreviousTransactionDate</th>\n",
       "    </tr>\n",
       "  </thead>\n",
       "  <tbody>\n",
       "    <tr>\n",
       "      <th>count</th>\n",
       "      <td>2514.000000</td>\n",
       "      <td>2514.000000</td>\n",
       "      <td>2514.000000</td>\n",
       "      <td>2514.000000</td>\n",
       "      <td>2514.000000</td>\n",
       "      <td>2514.000000</td>\n",
       "      <td>2514.000000</td>\n",
       "      <td>2514.000000</td>\n",
       "      <td>2.514000e+03</td>\n",
       "      <td>2514.000000</td>\n",
       "      <td>2514.000000</td>\n",
       "    </tr>\n",
       "    <tr>\n",
       "      <th>mean</th>\n",
       "      <td>-0.042485</td>\n",
       "      <td>1241.444312</td>\n",
       "      <td>0.773667</td>\n",
       "      <td>21.018298</td>\n",
       "      <td>0.987271</td>\n",
       "      <td>-0.001686</td>\n",
       "      <td>1.507160</td>\n",
       "      <td>0.002508</td>\n",
       "      <td>-2.046294e-01</td>\n",
       "      <td>0.000999</td>\n",
       "      <td>179.175020</td>\n",
       "    </tr>\n",
       "    <tr>\n",
       "      <th>std</th>\n",
       "      <td>0.865123</td>\n",
       "      <td>717.718950</td>\n",
       "      <td>0.418540</td>\n",
       "      <td>12.226981</td>\n",
       "      <td>0.808233</td>\n",
       "      <td>0.997594</td>\n",
       "      <td>1.129563</td>\n",
       "      <td>0.999664</td>\n",
       "      <td>5.552219e-17</td>\n",
       "      <td>1.000481</td>\n",
       "      <td>102.976995</td>\n",
       "    </tr>\n",
       "    <tr>\n",
       "      <th>min</th>\n",
       "      <td>-1.017881</td>\n",
       "      <td>0.000000</td>\n",
       "      <td>0.000000</td>\n",
       "      <td>0.000000</td>\n",
       "      <td>0.000000</td>\n",
       "      <td>-1.495947</td>\n",
       "      <td>0.000000</td>\n",
       "      <td>-1.561745</td>\n",
       "      <td>-2.046294e-01</td>\n",
       "      <td>-1.286100</td>\n",
       "      <td>0.000000</td>\n",
       "    </tr>\n",
       "    <tr>\n",
       "      <th>25%</th>\n",
       "      <td>-0.740921</td>\n",
       "      <td>619.250000</td>\n",
       "      <td>1.000000</td>\n",
       "      <td>11.000000</td>\n",
       "      <td>0.000000</td>\n",
       "      <td>-0.991288</td>\n",
       "      <td>0.000000</td>\n",
       "      <td>-0.805299</td>\n",
       "      <td>-2.046294e-01</td>\n",
       "      <td>-0.924916</td>\n",
       "      <td>90.250000</td>\n",
       "    </tr>\n",
       "    <tr>\n",
       "      <th>50%</th>\n",
       "      <td>-0.294797</td>\n",
       "      <td>1241.500000</td>\n",
       "      <td>1.000000</td>\n",
       "      <td>21.000000</td>\n",
       "      <td>1.000000</td>\n",
       "      <td>0.018031</td>\n",
       "      <td>1.000000</td>\n",
       "      <td>-0.091672</td>\n",
       "      <td>-2.046294e-01</td>\n",
       "      <td>-0.096949</td>\n",
       "      <td>179.000000</td>\n",
       "    </tr>\n",
       "    <tr>\n",
       "      <th>75%</th>\n",
       "      <td>0.400726</td>\n",
       "      <td>1861.750000</td>\n",
       "      <td>1.000000</td>\n",
       "      <td>31.000000</td>\n",
       "      <td>2.000000</td>\n",
       "      <td>0.803056</td>\n",
       "      <td>3.000000</td>\n",
       "      <td>0.593411</td>\n",
       "      <td>-2.046294e-01</td>\n",
       "      <td>0.656689</td>\n",
       "      <td>269.000000</td>\n",
       "    </tr>\n",
       "    <tr>\n",
       "      <th>max</th>\n",
       "      <td>2.113197</td>\n",
       "      <td>2484.000000</td>\n",
       "      <td>1.000000</td>\n",
       "      <td>42.000000</td>\n",
       "      <td>2.000000</td>\n",
       "      <td>1.980594</td>\n",
       "      <td>3.000000</td>\n",
       "      <td>2.577295</td>\n",
       "      <td>-2.046294e-01</td>\n",
       "      <td>2.531190</td>\n",
       "      <td>359.000000</td>\n",
       "    </tr>\n",
       "  </tbody>\n",
       "</table>\n",
       "</div>"
      ],
      "text/plain": [
       "       TransactionAmount  TransactionDate  TransactionType     Location  \\\n",
       "count        2514.000000      2514.000000      2514.000000  2514.000000   \n",
       "mean           -0.042485      1241.444312         0.773667    21.018298   \n",
       "std             0.865123       717.718950         0.418540    12.226981   \n",
       "min            -1.017881         0.000000         0.000000     0.000000   \n",
       "25%            -0.740921       619.250000         1.000000    11.000000   \n",
       "50%            -0.294797      1241.500000         1.000000    21.000000   \n",
       "75%             0.400726      1861.750000         1.000000    31.000000   \n",
       "max             2.113197      2484.000000         1.000000    42.000000   \n",
       "\n",
       "           Channel  CustomerAge  CustomerOccupation  TransactionDuration  \\\n",
       "count  2514.000000  2514.000000         2514.000000          2514.000000   \n",
       "mean      0.987271    -0.001686            1.507160             0.002508   \n",
       "std       0.808233     0.997594            1.129563             0.999664   \n",
       "min       0.000000    -1.495947            0.000000            -1.561745   \n",
       "25%       0.000000    -0.991288            0.000000            -0.805299   \n",
       "50%       1.000000     0.018031            1.000000            -0.091672   \n",
       "75%       2.000000     0.803056            3.000000             0.593411   \n",
       "max       2.000000     1.980594            3.000000             2.577295   \n",
       "\n",
       "       LoginAttempts  AccountBalance  PreviousTransactionDate  \n",
       "count   2.514000e+03     2514.000000              2514.000000  \n",
       "mean   -2.046294e-01        0.000999               179.175020  \n",
       "std     5.552219e-17        1.000481               102.976995  \n",
       "min    -2.046294e-01       -1.286100                 0.000000  \n",
       "25%    -2.046294e-01       -0.924916                90.250000  \n",
       "50%    -2.046294e-01       -0.096949               179.000000  \n",
       "75%    -2.046294e-01        0.656689               269.000000  \n",
       "max    -2.046294e-01        2.531190               359.000000  "
      ]
     },
     "execution_count": 19,
     "metadata": {},
     "output_type": "execute_result"
    }
   ],
   "source": [
    "# Gunakan describe untuk memastikan proses clustering menggunakan dataset hasil preprocessing\n",
    "# Lengkapi kode ini dengan mengubah nama DataFrame yang akan dilatih.\n",
    "# Kode harus digunakan dan dilarang menambahkan syntax lainnya pada cell ini.\n",
    "df.describe()"
   ]
  },
  {
   "cell_type": "code",
   "execution_count": 20,
   "metadata": {
    "id": "hgYvwWOzM93L"
   },
   "outputs": [
    {
     "data": {
      "image/png": "[encoded data removed]",
      "text/plain": [
       "<Figure size 800x550 with 1 Axes>"
      ]
     },
     "metadata": {},
     "output_type": "display_data"
    }
   ],
   "source": [
    "# Melakukan visualisasi Elbow Method menggunakan KElbowVisualizer()\n",
    "# Disini saya perlu melakukan Feature Selection terlebih dahulu untuk mereduksi fitur-fitur yang tidak relevan.\n",
    "selected_features = [\n",
    "    \"TransactionAmount\", \"TransactionType\", \n",
    "    \"Channel\", \"CustomerAge\", \n",
    "    \"CustomerOccupation\", \"AccountBalance\"\n",
    "]\n",
    "df = df[selected_features]\n",
    "\n",
    "kmeans = KMeans(random_state=1)\n",
    "visualizer = KElbowVisualizer(\n",
    "    kmeans, \n",
    "    k=(1, 11), \n",
    "    timings=False\n",
    ")\n",
    "visualizer.fit(df)\n",
    "visualizer.show()\n",
    "plt.show()"
   ]
  },
  {
   "cell_type": "code",
   "execution_count": 21,
   "metadata": {
    "id": "HvngRg-r4EcL"
   },
   "outputs": [
    {
     "data": {
      "application/vnd.microsoft.datawrangler.viewer.v0+json": {
       "columns": [
        {
         "name": "index",
         "rawType": "int64",
         "type": "integer"
        },
        {
         "name": "TransactionAmount",
         "rawType": "float64",
         "type": "float"
        },
        {
         "name": "TransactionType",
         "rawType": "int32",
         "type": "integer"
        },
        {
         "name": "Channel",
         "rawType": "int32",
         "type": "integer"
        },
        {
         "name": "CustomerAge",
         "rawType": "float64",
         "type": "float"
        },
        {
         "name": "CustomerOccupation",
         "rawType": "int32",
         "type": "integer"
        },
        {
         "name": "AccountBalance",
         "rawType": "float64",
         "type": "float"
        },
        {
         "name": "Cluster",
         "rawType": "int32",
         "type": "integer"
        }
       ],
       "ref": "a07323ec-a1b8-445e-86af-f21ca207a6ee",
       "rows": [
        [
         "0",
         "-0.9705457776964133",
         "1",
         "0",
         "1.4198617381496486",
         "0",
         "-0.0003151297671230473",
         "2"
        ],
        [
         "1",
         "0.2689630980830924",
         "1",
         "0",
         "1.307715254857371",
         "0",
         "2.2183807457903577",
         "0"
        ],
        [
         "2",
         "-0.5865256317280008",
         "1",
         "2",
         "-1.439873585803431",
         "3",
         "-1.0240913595486316",
         "1"
        ],
        [
         "3",
         "-0.3872937895103424",
         "1",
         "2",
         "-1.0473608942804593",
         "3",
         "0.8866936524759148",
         "1"
        ],
        [
         "4",
         "-0.9727362669425789",
         "0",
         "2",
         "-1.0473608942804593",
         "3",
         "0.5942631366099963",
         "1"
        ]
       ],
       "shape": {
        "columns": 7,
        "rows": 5
       }
      },
      "text/html": [
       "<div>\n",
       "<style scoped>\n",
       "    .dataframe tbody tr th:only-of-type {\n",
       "        vertical-align: middle;\n",
       "    }\n",
       "\n",
       "    .dataframe tbody tr th {\n",
       "        vertical-align: top;\n",
       "    }\n",
       "\n",
       "    .dataframe thead th {\n",
       "        text-align: right;\n",
       "    }\n",
       "</style>\n",
       "<table border=\"1\" class=\"dataframe\">\n",
       "  <thead>\n",
       "    <tr style=\"text-align: right;\">\n",
       "      <th></th>\n",
       "      <th>TransactionAmount</th>\n",
       "      <th>TransactionType</th>\n",
       "      <th>Channel</th>\n",
       "      <th>CustomerAge</th>\n",
       "      <th>CustomerOccupation</th>\n",
       "      <th>AccountBalance</th>\n",
       "      <th>Cluster</th>\n",
       "    </tr>\n",
       "  </thead>\n",
       "  <tbody>\n",
       "    <tr>\n",
       "      <th>0</th>\n",
       "      <td>-0.970546</td>\n",
       "      <td>1</td>\n",
       "      <td>0</td>\n",
       "      <td>1.419862</td>\n",
       "      <td>0</td>\n",
       "      <td>-0.000315</td>\n",
       "      <td>2</td>\n",
       "    </tr>\n",
       "    <tr>\n",
       "      <th>1</th>\n",
       "      <td>0.268963</td>\n",
       "      <td>1</td>\n",
       "      <td>0</td>\n",
       "      <td>1.307715</td>\n",
       "      <td>0</td>\n",
       "      <td>2.218381</td>\n",
       "      <td>0</td>\n",
       "    </tr>\n",
       "    <tr>\n",
       "      <th>2</th>\n",
       "      <td>-0.586526</td>\n",
       "      <td>1</td>\n",
       "      <td>2</td>\n",
       "      <td>-1.439874</td>\n",
       "      <td>3</td>\n",
       "      <td>-1.024091</td>\n",
       "      <td>1</td>\n",
       "    </tr>\n",
       "    <tr>\n",
       "      <th>3</th>\n",
       "      <td>-0.387294</td>\n",
       "      <td>1</td>\n",
       "      <td>2</td>\n",
       "      <td>-1.047361</td>\n",
       "      <td>3</td>\n",
       "      <td>0.886694</td>\n",
       "      <td>1</td>\n",
       "    </tr>\n",
       "    <tr>\n",
       "      <th>4</th>\n",
       "      <td>-0.972736</td>\n",
       "      <td>0</td>\n",
       "      <td>2</td>\n",
       "      <td>-1.047361</td>\n",
       "      <td>3</td>\n",
       "      <td>0.594263</td>\n",
       "      <td>1</td>\n",
       "    </tr>\n",
       "  </tbody>\n",
       "</table>\n",
       "</div>"
      ],
      "text/plain": [
       "   TransactionAmount  TransactionType  Channel  CustomerAge  \\\n",
       "0          -0.970546                1        0     1.419862   \n",
       "1           0.268963                1        0     1.307715   \n",
       "2          -0.586526                1        2    -1.439874   \n",
       "3          -0.387294                1        2    -1.047361   \n",
       "4          -0.972736                0        2    -1.047361   \n",
       "\n",
       "   CustomerOccupation  AccountBalance  Cluster  \n",
       "0                   0       -0.000315        2  \n",
       "1                   0        2.218381        0  \n",
       "2                   3       -1.024091        1  \n",
       "3                   3        0.886694        1  \n",
       "4                   3        0.594263        1  "
      ]
     },
     "execution_count": 21,
     "metadata": {},
     "output_type": "execute_result"
    }
   ],
   "source": [
    "# Menggunakan algoritma K-Means Clustering\n",
    "kmeans = KMeans(n_clusters=3, random_state=1)\n",
    "df['Cluster'] = kmeans.fit_predict(df)\n",
    "df.head()"
   ]
  },
  {
   "cell_type": "markdown",
   "metadata": {
    "id": "6aVHlHyU1Dcx"
   },
   "source": [
    "Jalankan cell code ini untuk menyimpan model kamu."
   ]
  },
  {
   "cell_type": "code",
   "execution_count": 22,
   "metadata": {
    "id": "D7AvYmQnY_fI"
   },
   "outputs": [
    {
     "data": {
      "text/plain": [
       "['model_clustering.h5']"
      ]
     },
     "execution_count": 22,
     "metadata": {},
     "output_type": "execute_result"
    }
   ],
   "source": [
    "# Menyimpan model menggunakan joblib\n",
    "# import joblib\n",
    "joblib.dump(kmeans, \"model_clustering.h5\")"
   ]
  },
  {
   "cell_type": "markdown",
   "metadata": {
    "id": "YDOD9eVMx3mC"
   },
   "source": [
    "(Opsional) Membangun Model Clustering [Skilled]\n",
    "\n",
    "**Biarkan kosong jika tidak menerapkan kriteria skilled**"
   ]
  },
  {
   "cell_type": "code",
   "execution_count": 23,
   "metadata": {
    "id": "SELNsH5O4Oyn"
   },
   "outputs": [
    {
     "name": "stdout",
     "output_type": "stream",
     "text": [
      "Silhouette Score: 0.38\n"
     ]
    }
   ],
   "source": [
    "# Menghitung dan menampilkan nilai Silhouette Score.\n",
    "silhouette = silhouette_score(df, df['Cluster'])\n",
    "print(f\"Silhouette Score: {silhouette:.2f}\")"
   ]
  },
  {
   "cell_type": "code",
   "execution_count": 24,
   "metadata": {
    "id": "K4EbkaXg4QAN"
   },
   "outputs": [
    {
     "data": {
      "image/png": "[encoded data removed]",
      "text/plain": [
       "<Figure size 1500x1200 with 6 Axes>"
      ]
     },
     "metadata": {},
     "output_type": "display_data"
    }
   ],
   "source": [
    "# Membuat visualisasi hasil clustering\n",
    "plt.figure(figsize=(15, 12))\n",
    "\n",
    "# Tentukan semua baris dan kolom\n",
    "n_cols = 3\n",
    "n_rows = math.ceil(len(selected_features) / n_cols)\n",
    "\n",
    "# Looping fitur\n",
    "for i, feature in enumerate(selected_features, 1):\n",
    "    plt.subplot(n_rows, n_cols, i)\n",
    "    \n",
    "    # Buat boxplot \n",
    "    sns.boxplot(\n",
    "        data=df,\n",
    "        x='Cluster',\n",
    "        y=feature,\n",
    "        hue='Cluster',  \n",
    "        legend=False,   \n",
    "        width=0.7,\n",
    "        fliersize=5,\n",
    "        linewidth=2\n",
    "    )\n",
    "    \n",
    "    plt.title(f'Distribution of {feature} by Cluster', fontsize=10, pad=10)\n",
    "    plt.xlabel('Cluster', fontsize=9)\n",
    "    plt.ylabel(feature, fontsize=9)\n",
    "    plt.grid(True, linestyle='--', alpha=0.7)\n",
    "    plt.xticks(rotation=0)\n",
    "\n",
    "plt.suptitle('Feature Distributions Across Clusters', fontsize=14, y=1.02)\n",
    "plt.tight_layout()\n",
    "plt.show()"
   ]
  },
  {
   "cell_type": "markdown",
   "metadata": {
    "id": "uloMRbnsyAbB"
   },
   "source": [
    "(Opsional) Membangun Model Clustering [Advanced]\n",
    "\n",
    "**Biarkan kosong jika tidak menerapkan kriteria advanced**"
   ]
  },
  {
   "cell_type": "code",
   "execution_count": 25,
   "metadata": {
    "id": "SgfOarXX4SD2"
   },
   "outputs": [],
   "source": [
    "# Membangun model menggunakan PCA."
   ]
  },
  {
   "cell_type": "code",
   "execution_count": 26,
   "metadata": {
    "id": "uKvJy9Ky4VB3"
   },
   "outputs": [],
   "source": [
    "# Simpan model PCA sebagai perbandingan dengan menjalankan cell code ini joblib.dump(model,\"PCA_model_clustering.h5\")\n",
    "# joblib.dump(___, \"PCA_model_clustering.h5\")"
   ]
  },
  {
   "cell_type": "markdown",
   "metadata": {
    "id": "anlTI9Trb7F6"
   },
   "source": [
    "# **5. Interpretasi Cluster**"
   ]
  },
  {
   "cell_type": "markdown",
   "metadata": {
    "id": "JfgVMEBDS3KG"
   },
   "source": [
    "## **a. Interpretasi Hasil Clustering**\n",
    "1. **Contoh Interpretasi:**\n",
    "- **Cluster 1: (Nasabah Bertransaksi dan Pendapatan Besar)**:\n",
    "  - **Rata-rata (mean) Annual Income:** 0.953 (48,260)\n",
    "  - **Rata-rata (mean) Spending Score:** 0.8 (56.48)\n",
    "  - **Analisis:** Cluster ini mencakup pelanggan dengan pendapatan tahunan tinggi dan tingkat pengeluaran yang cukup tinggi. Pelanggan dalam cluster ini cenderung memiliki daya beli yang tinggi dan mereka lebih cenderung untuk membelanjakan sebagian besar pendapatan mereka. Sehingga rekomendasi pada kelompok nasabah ini adalah dengan menawarkan produk-produk investasi atau perbankan yang berkualitas tinggi.\n"
   ]
  },
  {
   "cell_type": "code",
   "execution_count": 27,
   "metadata": {
    "id": "Qmpy4fmV64Mi"
   },
   "outputs": [
    {
     "name": "stdout",
     "output_type": "stream",
     "text": [
      "=== Agregasi Fitur untuk Cluster 0 ===\n"
     ]
    },
    {
     "data": {
      "application/vnd.microsoft.datawrangler.viewer.v0+json": {
       "columns": [
        {
         "name": "index",
         "rawType": "object",
         "type": "string"
        },
        {
         "name": "TransactionAmount",
         "rawType": "float64",
         "type": "float"
        },
        {
         "name": "TransactionType",
         "rawType": "float64",
         "type": "float"
        },
        {
         "name": "Channel",
         "rawType": "float64",
         "type": "float"
        },
        {
         "name": "CustomerAge",
         "rawType": "float64",
         "type": "float"
        },
        {
         "name": "CustomerOccupation",
         "rawType": "float64",
         "type": "float"
        },
        {
         "name": "AccountBalance",
         "rawType": "float64",
         "type": "float"
        }
       ],
       "ref": "2ec08dbe-58ba-4abe-85c4-d1523e7a8a60",
       "rows": [
        [
         "count",
         "860.0",
         "860.0",
         "860.0",
         "860.0",
         "860.0",
         "860.0"
        ],
        [
         "mean",
         "-0.066",
         "0.772",
         "0.993",
         "0.058",
         "0.362",
         "1.062"
        ],
        [
         "std",
         "0.851",
         "0.42",
         "0.8",
         "0.712",
         "0.49",
         "0.718"
        ],
        [
         "min",
         "-1.018",
         "0.0",
         "0.0",
         "-1.496",
         "0.0",
         "-1.017"
        ],
        [
         "25%",
         "-0.742",
         "1.0",
         "0.0",
         "-0.599",
         "0.0",
         "0.523"
        ],
        [
         "50%",
         "-0.327",
         "1.0",
         "1.0",
         "-0.038",
         "0.0",
         "0.965"
        ],
        [
         "75%",
         "0.385",
         "1.0",
         "2.0",
         "0.635",
         "1.0",
         "1.591"
        ],
        [
         "max",
         "2.113",
         "1.0",
         "2.0",
         "1.588",
         "3.0",
         "2.531"
        ],
        [
         "mode",
         "2.113",
         "1.0",
         "1.0",
         "-0.823",
         "0.0",
         "-0.04"
        ]
       ],
       "shape": {
        "columns": 6,
        "rows": 9
       }
      },
      "text/html": [
       "<div>\n",
       "<style scoped>\n",
       "    .dataframe tbody tr th:only-of-type {\n",
       "        vertical-align: middle;\n",
       "    }\n",
       "\n",
       "    .dataframe tbody tr th {\n",
       "        vertical-align: top;\n",
       "    }\n",
       "\n",
       "    .dataframe thead th {\n",
       "        text-align: right;\n",
       "    }\n",
       "</style>\n",
       "<table border=\"1\" class=\"dataframe\">\n",
       "  <thead>\n",
       "    <tr style=\"text-align: right;\">\n",
       "      <th></th>\n",
       "      <th>TransactionAmount</th>\n",
       "      <th>TransactionType</th>\n",
       "      <th>Channel</th>\n",
       "      <th>CustomerAge</th>\n",
       "      <th>CustomerOccupation</th>\n",
       "      <th>AccountBalance</th>\n",
       "    </tr>\n",
       "  </thead>\n",
       "  <tbody>\n",
       "    <tr>\n",
       "      <th>count</th>\n",
       "      <td>860.000</td>\n",
       "      <td>860.000</td>\n",
       "      <td>860.000</td>\n",
       "      <td>860.000</td>\n",
       "      <td>860.000</td>\n",
       "      <td>860.000</td>\n",
       "    </tr>\n",
       "    <tr>\n",
       "      <th>mean</th>\n",
       "      <td>-0.066</td>\n",
       "      <td>0.772</td>\n",
       "      <td>0.993</td>\n",
       "      <td>0.058</td>\n",
       "      <td>0.362</td>\n",
       "      <td>1.062</td>\n",
       "    </tr>\n",
       "    <tr>\n",
       "      <th>std</th>\n",
       "      <td>0.851</td>\n",
       "      <td>0.420</td>\n",
       "      <td>0.800</td>\n",
       "      <td>0.712</td>\n",
       "      <td>0.490</td>\n",
       "      <td>0.718</td>\n",
       "    </tr>\n",
       "    <tr>\n",
       "      <th>min</th>\n",
       "      <td>-1.018</td>\n",
       "      <td>0.000</td>\n",
       "      <td>0.000</td>\n",
       "      <td>-1.496</td>\n",
       "      <td>0.000</td>\n",
       "      <td>-1.017</td>\n",
       "    </tr>\n",
       "    <tr>\n",
       "      <th>25%</th>\n",
       "      <td>-0.742</td>\n",
       "      <td>1.000</td>\n",
       "      <td>0.000</td>\n",
       "      <td>-0.599</td>\n",
       "      <td>0.000</td>\n",
       "      <td>0.523</td>\n",
       "    </tr>\n",
       "    <tr>\n",
       "      <th>50%</th>\n",
       "      <td>-0.327</td>\n",
       "      <td>1.000</td>\n",
       "      <td>1.000</td>\n",
       "      <td>-0.038</td>\n",
       "      <td>0.000</td>\n",
       "      <td>0.965</td>\n",
       "    </tr>\n",
       "    <tr>\n",
       "      <th>75%</th>\n",
       "      <td>0.385</td>\n",
       "      <td>1.000</td>\n",
       "      <td>2.000</td>\n",
       "      <td>0.635</td>\n",
       "      <td>1.000</td>\n",
       "      <td>1.591</td>\n",
       "    </tr>\n",
       "    <tr>\n",
       "      <th>max</th>\n",
       "      <td>2.113</td>\n",
       "      <td>1.000</td>\n",
       "      <td>2.000</td>\n",
       "      <td>1.588</td>\n",
       "      <td>3.000</td>\n",
       "      <td>2.531</td>\n",
       "    </tr>\n",
       "    <tr>\n",
       "      <th>mode</th>\n",
       "      <td>2.113</td>\n",
       "      <td>1.000</td>\n",
       "      <td>1.000</td>\n",
       "      <td>-0.823</td>\n",
       "      <td>0.000</td>\n",
       "      <td>-0.040</td>\n",
       "    </tr>\n",
       "  </tbody>\n",
       "</table>\n",
       "</div>"
      ],
      "text/plain": [
       "       TransactionAmount  TransactionType  Channel  CustomerAge  \\\n",
       "count            860.000          860.000  860.000      860.000   \n",
       "mean              -0.066            0.772    0.993        0.058   \n",
       "std                0.851            0.420    0.800        0.712   \n",
       "min               -1.018            0.000    0.000       -1.496   \n",
       "25%               -0.742            1.000    0.000       -0.599   \n",
       "50%               -0.327            1.000    1.000       -0.038   \n",
       "75%                0.385            1.000    2.000        0.635   \n",
       "max                2.113            1.000    2.000        1.588   \n",
       "mode               2.113            1.000    1.000       -0.823   \n",
       "\n",
       "       CustomerOccupation  AccountBalance  \n",
       "count             860.000         860.000  \n",
       "mean                0.362           1.062  \n",
       "std                 0.490           0.718  \n",
       "min                 0.000          -1.017  \n",
       "25%                 0.000           0.523  \n",
       "50%                 0.000           0.965  \n",
       "75%                 1.000           1.591  \n",
       "max                 3.000           2.531  \n",
       "mode                0.000          -0.040  "
      ]
     },
     "metadata": {},
     "output_type": "display_data"
    },
    {
     "name": "stdout",
     "output_type": "stream",
     "text": [
      "=== Agregasi Fitur untuk Cluster 1 ===\n"
     ]
    },
    {
     "data": {
      "application/vnd.microsoft.datawrangler.viewer.v0+json": {
       "columns": [
        {
         "name": "index",
         "rawType": "object",
         "type": "string"
        },
        {
         "name": "TransactionAmount",
         "rawType": "float64",
         "type": "float"
        },
        {
         "name": "TransactionType",
         "rawType": "float64",
         "type": "float"
        },
        {
         "name": "Channel",
         "rawType": "float64",
         "type": "float"
        },
        {
         "name": "CustomerAge",
         "rawType": "float64",
         "type": "float"
        },
        {
         "name": "CustomerOccupation",
         "rawType": "float64",
         "type": "float"
        },
        {
         "name": "AccountBalance",
         "rawType": "float64",
         "type": "float"
        }
       ],
       "ref": "afe666ae-ac06-4f2a-90ce-5ab7d021c5a1",
       "rows": [
        [
         "count",
         "655.0",
         "655.0",
         "655.0",
         "655.0",
         "655.0",
         "655.0"
        ],
        [
         "mean",
         "0.001",
         "0.789",
         "0.985",
         "-1.212",
         "2.989",
         "-0.906"
        ],
        [
         "std",
         "0.888",
         "0.408",
         "0.813",
         "0.176",
         "0.141",
         "0.49"
        ],
        [
         "min",
         "-1.018",
         "0.0",
         "0.0",
         "-1.496",
         "1.0",
         "-1.286"
        ],
        [
         "25%",
         "-0.719",
         "1.0",
         "0.0",
         "-1.384",
         "3.0",
         "-1.161"
        ],
        [
         "50%",
         "-0.274",
         "1.0",
         "1.0",
         "-1.216",
         "3.0",
         "-1.034"
        ],
        [
         "75%",
         "0.453",
         "1.0",
         "2.0",
         "-1.047",
         "3.0",
         "-0.893"
        ],
        [
         "max",
         "2.113",
         "1.0",
         "2.0",
         "-0.935",
         "3.0",
         "1.244"
        ],
        [
         "mode",
         "2.113",
         "1.0",
         "1.0",
         "-1.103",
         "3.0",
         "-1.005"
        ]
       ],
       "shape": {
        "columns": 6,
        "rows": 9
       }
      },
      "text/html": [
       "<div>\n",
       "<style scoped>\n",
       "    .dataframe tbody tr th:only-of-type {\n",
       "        vertical-align: middle;\n",
       "    }\n",
       "\n",
       "    .dataframe tbody tr th {\n",
       "        vertical-align: top;\n",
       "    }\n",
       "\n",
       "    .dataframe thead th {\n",
       "        text-align: right;\n",
       "    }\n",
       "</style>\n",
       "<table border=\"1\" class=\"dataframe\">\n",
       "  <thead>\n",
       "    <tr style=\"text-align: right;\">\n",
       "      <th></th>\n",
       "      <th>TransactionAmount</th>\n",
       "      <th>TransactionType</th>\n",
       "      <th>Channel</th>\n",
       "      <th>CustomerAge</th>\n",
       "      <th>CustomerOccupation</th>\n",
       "      <th>AccountBalance</th>\n",
       "    </tr>\n",
       "  </thead>\n",
       "  <tbody>\n",
       "    <tr>\n",
       "      <th>count</th>\n",
       "      <td>655.000</td>\n",
       "      <td>655.000</td>\n",
       "      <td>655.000</td>\n",
       "      <td>655.000</td>\n",
       "      <td>655.000</td>\n",
       "      <td>655.000</td>\n",
       "    </tr>\n",
       "    <tr>\n",
       "      <th>mean</th>\n",
       "      <td>0.001</td>\n",
       "      <td>0.789</td>\n",
       "      <td>0.985</td>\n",
       "      <td>-1.212</td>\n",
       "      <td>2.989</td>\n",
       "      <td>-0.906</td>\n",
       "    </tr>\n",
       "    <tr>\n",
       "      <th>std</th>\n",
       "      <td>0.888</td>\n",
       "      <td>0.408</td>\n",
       "      <td>0.813</td>\n",
       "      <td>0.176</td>\n",
       "      <td>0.141</td>\n",
       "      <td>0.490</td>\n",
       "    </tr>\n",
       "    <tr>\n",
       "      <th>min</th>\n",
       "      <td>-1.018</td>\n",
       "      <td>0.000</td>\n",
       "      <td>0.000</td>\n",
       "      <td>-1.496</td>\n",
       "      <td>1.000</td>\n",
       "      <td>-1.286</td>\n",
       "    </tr>\n",
       "    <tr>\n",
       "      <th>25%</th>\n",
       "      <td>-0.719</td>\n",
       "      <td>1.000</td>\n",
       "      <td>0.000</td>\n",
       "      <td>-1.384</td>\n",
       "      <td>3.000</td>\n",
       "      <td>-1.161</td>\n",
       "    </tr>\n",
       "    <tr>\n",
       "      <th>50%</th>\n",
       "      <td>-0.274</td>\n",
       "      <td>1.000</td>\n",
       "      <td>1.000</td>\n",
       "      <td>-1.216</td>\n",
       "      <td>3.000</td>\n",
       "      <td>-1.034</td>\n",
       "    </tr>\n",
       "    <tr>\n",
       "      <th>75%</th>\n",
       "      <td>0.453</td>\n",
       "      <td>1.000</td>\n",
       "      <td>2.000</td>\n",
       "      <td>-1.047</td>\n",
       "      <td>3.000</td>\n",
       "      <td>-0.893</td>\n",
       "    </tr>\n",
       "    <tr>\n",
       "      <th>max</th>\n",
       "      <td>2.113</td>\n",
       "      <td>1.000</td>\n",
       "      <td>2.000</td>\n",
       "      <td>-0.935</td>\n",
       "      <td>3.000</td>\n",
       "      <td>1.244</td>\n",
       "    </tr>\n",
       "    <tr>\n",
       "      <th>mode</th>\n",
       "      <td>2.113</td>\n",
       "      <td>1.000</td>\n",
       "      <td>1.000</td>\n",
       "      <td>-1.103</td>\n",
       "      <td>3.000</td>\n",
       "      <td>-1.005</td>\n",
       "    </tr>\n",
       "  </tbody>\n",
       "</table>\n",
       "</div>"
      ],
      "text/plain": [
       "       TransactionAmount  TransactionType  Channel  CustomerAge  \\\n",
       "count            655.000          655.000  655.000      655.000   \n",
       "mean               0.001            0.789    0.985       -1.212   \n",
       "std                0.888            0.408    0.813        0.176   \n",
       "min               -1.018            0.000    0.000       -1.496   \n",
       "25%               -0.719            1.000    0.000       -1.384   \n",
       "50%               -0.274            1.000    1.000       -1.216   \n",
       "75%                0.453            1.000    2.000       -1.047   \n",
       "max                2.113            1.000    2.000       -0.935   \n",
       "mode               2.113            1.000    1.000       -1.103   \n",
       "\n",
       "       CustomerOccupation  AccountBalance  \n",
       "count             655.000         655.000  \n",
       "mean                2.989          -0.906  \n",
       "std                 0.141           0.490  \n",
       "min                 1.000          -1.286  \n",
       "25%                 3.000          -1.161  \n",
       "50%                 3.000          -1.034  \n",
       "75%                 3.000          -0.893  \n",
       "max                 3.000           1.244  \n",
       "mode                3.000          -1.005  "
      ]
     },
     "metadata": {},
     "output_type": "display_data"
    },
    {
     "name": "stdout",
     "output_type": "stream",
     "text": [
      "=== Agregasi Fitur untuk Cluster 2 ===\n"
     ]
    },
    {
     "data": {
      "application/vnd.microsoft.datawrangler.viewer.v0+json": {
       "columns": [
        {
         "name": "index",
         "rawType": "object",
         "type": "string"
        },
        {
         "name": "TransactionAmount",
         "rawType": "float64",
         "type": "float"
        },
        {
         "name": "TransactionType",
         "rawType": "float64",
         "type": "float"
        },
        {
         "name": "Channel",
         "rawType": "float64",
         "type": "float"
        },
        {
         "name": "CustomerAge",
         "rawType": "float64",
         "type": "float"
        },
        {
         "name": "CustomerOccupation",
         "rawType": "float64",
         "type": "float"
        },
        {
         "name": "AccountBalance",
         "rawType": "float64",
         "type": "float"
        }
       ],
       "ref": "496d585d-ca4b-41dd-8a36-302bb420de32",
       "rows": [
        [
         "count",
         "999.0",
         "999.0",
         "999.0",
         "999.0",
         "999.0",
         "999.0"
        ],
        [
         "mean",
         "-0.051",
         "0.765",
         "0.984",
         "0.74",
         "1.522",
         "-0.318"
        ],
        [
         "std",
         "0.862",
         "0.424",
         "0.813",
         "0.731",
         "0.648",
         "0.554"
        ],
        [
         "min",
         "-1.016",
         "0.0",
         "0.0",
         "-1.047",
         "0.0",
         "-1.283"
        ],
        [
         "25%",
         "-0.747",
         "1.0",
         "0.0",
         "0.354",
         "1.0",
         "-0.783"
        ],
        [
         "50%",
         "-0.288",
         "1.0",
         "1.0",
         "0.747",
         "2.0",
         "-0.349"
        ],
        [
         "75%",
         "0.332",
         "1.0",
         "2.0",
         "1.308",
         "2.0",
         "0.147"
        ],
        [
         "max",
         "2.113",
         "1.0",
         "2.0",
         "1.981",
         "3.0",
         "1.105"
        ],
        [
         "mode",
         "2.113",
         "1.0",
         "1.0",
         "0.467",
         "2.0",
         "-0.783"
        ]
       ],
       "shape": {
        "columns": 6,
        "rows": 9
       }
      },
      "text/html": [
       "<div>\n",
       "<style scoped>\n",
       "    .dataframe tbody tr th:only-of-type {\n",
       "        vertical-align: middle;\n",
       "    }\n",
       "\n",
       "    .dataframe tbody tr th {\n",
       "        vertical-align: top;\n",
       "    }\n",
       "\n",
       "    .dataframe thead th {\n",
       "        text-align: right;\n",
       "    }\n",
       "</style>\n",
       "<table border=\"1\" class=\"dataframe\">\n",
       "  <thead>\n",
       "    <tr style=\"text-align: right;\">\n",
       "      <th></th>\n",
       "      <th>TransactionAmount</th>\n",
       "      <th>TransactionType</th>\n",
       "      <th>Channel</th>\n",
       "      <th>CustomerAge</th>\n",
       "      <th>CustomerOccupation</th>\n",
       "      <th>AccountBalance</th>\n",
       "    </tr>\n",
       "  </thead>\n",
       "  <tbody>\n",
       "    <tr>\n",
       "      <th>count</th>\n",
       "      <td>999.000</td>\n",
       "      <td>999.000</td>\n",
       "      <td>999.000</td>\n",
       "      <td>999.000</td>\n",
       "      <td>999.000</td>\n",
       "      <td>999.000</td>\n",
       "    </tr>\n",
       "    <tr>\n",
       "      <th>mean</th>\n",
       "      <td>-0.051</td>\n",
       "      <td>0.765</td>\n",
       "      <td>0.984</td>\n",
       "      <td>0.740</td>\n",
       "      <td>1.522</td>\n",
       "      <td>-0.318</td>\n",
       "    </tr>\n",
       "    <tr>\n",
       "      <th>std</th>\n",
       "      <td>0.862</td>\n",
       "      <td>0.424</td>\n",
       "      <td>0.813</td>\n",
       "      <td>0.731</td>\n",
       "      <td>0.648</td>\n",
       "      <td>0.554</td>\n",
       "    </tr>\n",
       "    <tr>\n",
       "      <th>min</th>\n",
       "      <td>-1.016</td>\n",
       "      <td>0.000</td>\n",
       "      <td>0.000</td>\n",
       "      <td>-1.047</td>\n",
       "      <td>0.000</td>\n",
       "      <td>-1.283</td>\n",
       "    </tr>\n",
       "    <tr>\n",
       "      <th>25%</th>\n",
       "      <td>-0.747</td>\n",
       "      <td>1.000</td>\n",
       "      <td>0.000</td>\n",
       "      <td>0.354</td>\n",
       "      <td>1.000</td>\n",
       "      <td>-0.783</td>\n",
       "    </tr>\n",
       "    <tr>\n",
       "      <th>50%</th>\n",
       "      <td>-0.288</td>\n",
       "      <td>1.000</td>\n",
       "      <td>1.000</td>\n",
       "      <td>0.747</td>\n",
       "      <td>2.000</td>\n",
       "      <td>-0.349</td>\n",
       "    </tr>\n",
       "    <tr>\n",
       "      <th>75%</th>\n",
       "      <td>0.332</td>\n",
       "      <td>1.000</td>\n",
       "      <td>2.000</td>\n",
       "      <td>1.308</td>\n",
       "      <td>2.000</td>\n",
       "      <td>0.147</td>\n",
       "    </tr>\n",
       "    <tr>\n",
       "      <th>max</th>\n",
       "      <td>2.113</td>\n",
       "      <td>1.000</td>\n",
       "      <td>2.000</td>\n",
       "      <td>1.981</td>\n",
       "      <td>3.000</td>\n",
       "      <td>1.105</td>\n",
       "    </tr>\n",
       "    <tr>\n",
       "      <th>mode</th>\n",
       "      <td>2.113</td>\n",
       "      <td>1.000</td>\n",
       "      <td>1.000</td>\n",
       "      <td>0.467</td>\n",
       "      <td>2.000</td>\n",
       "      <td>-0.783</td>\n",
       "    </tr>\n",
       "  </tbody>\n",
       "</table>\n",
       "</div>"
      ],
      "text/plain": [
       "       TransactionAmount  TransactionType  Channel  CustomerAge  \\\n",
       "count            999.000          999.000  999.000      999.000   \n",
       "mean              -0.051            0.765    0.984        0.740   \n",
       "std                0.862            0.424    0.813        0.731   \n",
       "min               -1.016            0.000    0.000       -1.047   \n",
       "25%               -0.747            1.000    0.000        0.354   \n",
       "50%               -0.288            1.000    1.000        0.747   \n",
       "75%                0.332            1.000    2.000        1.308   \n",
       "max                2.113            1.000    2.000        1.981   \n",
       "mode               2.113            1.000    1.000        0.467   \n",
       "\n",
       "       CustomerOccupation  AccountBalance  \n",
       "count             999.000         999.000  \n",
       "mean                1.522          -0.318  \n",
       "std                 0.648           0.554  \n",
       "min                 0.000          -1.283  \n",
       "25%                 1.000          -0.783  \n",
       "50%                 2.000          -0.349  \n",
       "75%                 2.000           0.147  \n",
       "max                 3.000           1.105  \n",
       "mode                2.000          -0.783  "
      ]
     },
     "metadata": {},
     "output_type": "display_data"
    }
   ],
   "source": [
    "# Menampilkan analisis deskriptif minimal mean, min dan max untuk fitur numerik.\n",
    "# Silakan menambahkan fungsi agregasi lainnya untuk experience lebih baik.\n",
    "clusters = sorted(df['Cluster'].unique())\n",
    "\n",
    "for cluster in clusters:\n",
    "    features = df[df['Cluster'] == cluster].drop(columns='Cluster').copy()\n",
    "    \n",
    "    # Pada method .describe() mencakup count, mean, std, min, 25%, 50%, 75%, max\n",
    "    desc_results = features.describe().round(3)\n",
    "\n",
    "    # Tambahkan modus secara manual\n",
    "    mode_row = features.apply(lambda x: x.mode().iloc[0] if not x.mode().empty else None).round(3)\n",
    "    desc_results.loc['mode'] = mode_row\n",
    "\n",
    "    print(f\"=== Agregasi Fitur untuk Cluster {cluster} ===\")\n",
    "    display(desc_results)"
   ]
  },
  {
   "cell_type": "markdown",
   "metadata": {
    "id": "KrjMI_dG6tnb"
   },
   "source": [
    "## Menjelaskan karakteristik tiap cluster berdasarkan rentangnya.\n",
    "1. **Cluster 1: (___)**:\n",
    "  - **Rata-rata (mean) <Fitur>:** <Sebelum inverse> <Setelah inverse>\n",
    "  - **Analisis:** Cluster ini ..."
   ]
  },
  {
   "cell_type": "markdown",
   "metadata": {},
   "source": [
    "Kemudian disini akan dilakukan analisis pada fitur `TransactionAmount`, `CustomerAge`, dan `AccountBalance` terlebih dahulu untuk mengetahui gambaran umum dari setiap cluster. Setelah itu dianalisis pada fitur `TransactionType`, `Channel` dan `CustomerOccupation` setelah dilakukan inverse terlebih dahulu untuk mengetahui data asli. Kemudian dilakukan interpretasi tiap cluster. "
   ]
  },
  {
   "cell_type": "code",
   "execution_count": 28,
   "metadata": {},
   "outputs": [
    {
     "name": "stdout",
     "output_type": "stream",
     "text": [
      "Berikut karakteristik setiap cluster:\n"
     ]
    },
    {
     "data": {
      "text/html": [
       "<b>Cluster 0 Analysis:</b>"
      ],
      "text/plain": [
       "<IPython.core.display.HTML object>"
      ]
     },
     "metadata": {},
     "output_type": "display_data"
    },
    {
     "data": {
      "text/html": [
       "<b>Nilai rata-rata setiap fitur:</b>"
      ],
      "text/plain": [
       "<IPython.core.display.HTML object>"
      ]
     },
     "metadata": {},
     "output_type": "display_data"
    },
    {
     "name": "stdout",
     "output_type": "stream",
     "text": [
      "- TransactionAmount = -0.066\n",
      "- TransactionType = 0.772\n",
      "- Channel = 0.993\n",
      "- CustomerAge = 0.058\n",
      "- CustomerOccupation = 0.362\n",
      "- AccountBalance = 1.062\n"
     ]
    },
    {
     "data": {
      "text/html": [
       "<b>Analisis:</b>"
      ],
      "text/plain": [
       "<IPython.core.display.HTML object>"
      ]
     },
     "metadata": {},
     "output_type": "display_data"
    },
    {
     "name": "stdout",
     "output_type": "stream",
     "text": [
      "Cluster ini memiliki jumlah transaksi yang sedang tidak lebih seperti cluster 1 atau sedikit seperti cluster 2.\n",
      "Begitu pun pada `CustomerAge` yang memiliki rentang usia dewasa tidak terlalu tua dan sedikit pada usia muda.\n",
      "Cluster ini sangat kaya memiliki tabungan yang sangat banyak, tidak seperti cluster 1 yang memiliki sedikit tabungan\n",
      "atau cluster 2 yang memiliki tabungan yang terbilang sedang.\n",
      "--------------------------------------------------\n"
     ]
    },
    {
     "data": {
      "text/html": [
       "<b>Cluster 1 Analysis:</b>"
      ],
      "text/plain": [
       "<IPython.core.display.HTML object>"
      ]
     },
     "metadata": {},
     "output_type": "display_data"
    },
    {
     "data": {
      "text/html": [
       "<b>Nilai rata-rata setiap fitur:</b>"
      ],
      "text/plain": [
       "<IPython.core.display.HTML object>"
      ]
     },
     "metadata": {},
     "output_type": "display_data"
    },
    {
     "name": "stdout",
     "output_type": "stream",
     "text": [
      "- TransactionAmount = 0.001\n",
      "- TransactionType = 0.789\n",
      "- Channel = 0.985\n",
      "- CustomerAge = -1.212\n",
      "- CustomerOccupation = 2.989\n",
      "- AccountBalance = -0.906\n"
     ]
    },
    {
     "data": {
      "text/html": [
       "<b>Analisis:</b>"
      ],
      "text/plain": [
       "<IPython.core.display.HTML object>"
      ]
     },
     "metadata": {},
     "output_type": "display_data"
    },
    {
     "name": "stdout",
     "output_type": "stream",
     "text": [
      "Cluster ini memiliki karakteristik dengan jumlah transaksi yang cukup banyak. \n",
      "Terbilang sangat boros dikarenakan jumlah transaksi tidak diimbangi dengan jumlah tabungan yang dimiliki.\n",
      "Terlihat pada fitur `TransactionAmount` dengan sebaran data tertinggi tapi pada fitur `AccountBalance` memiliki sebaran data terendah.\n",
      "Cluster ini memliki rentang usia hanya anak muda pada fitur `CustomerAge`.\n",
      "--------------------------------------------------\n"
     ]
    },
    {
     "data": {
      "text/html": [
       "<b>Cluster 2 Analysis:</b>"
      ],
      "text/plain": [
       "<IPython.core.display.HTML object>"
      ]
     },
     "metadata": {},
     "output_type": "display_data"
    },
    {
     "data": {
      "text/html": [
       "<b>Nilai rata-rata setiap fitur:</b>"
      ],
      "text/plain": [
       "<IPython.core.display.HTML object>"
      ]
     },
     "metadata": {},
     "output_type": "display_data"
    },
    {
     "name": "stdout",
     "output_type": "stream",
     "text": [
      "- TransactionAmount = -0.051\n",
      "- TransactionType = 0.765\n",
      "- Channel = 0.984\n",
      "- CustomerAge = 0.740\n",
      "- CustomerOccupation = 1.522\n",
      "- AccountBalance = -0.318\n"
     ]
    },
    {
     "data": {
      "text/html": [
       "<b>Analisis:</b>"
      ],
      "text/plain": [
       "<IPython.core.display.HTML object>"
      ]
     },
     "metadata": {},
     "output_type": "display_data"
    },
    {
     "name": "stdout",
     "output_type": "stream",
     "text": [
      "Cluster ini merupakan cluster paling hemat dengan jumlah transaksi yang sedikit dan tabungan yang sedang.\n",
      "Terlihat pada fitur `TransactionAmount` dengan sebaran data terendah dan pada fitur `AccountBalance` memiliki sebaran data menengah.\n",
      "Cluster ini memiliki rentang usia dewasa tua pada fitur `CustomerAge`.\n",
      "--------------------------------------------------\n"
     ]
    }
   ],
   "source": [
    "# Karakteristik setiap cluster\n",
    "print(\"Berikut karakteristik setiap cluster:\")\n",
    "\n",
    "# Looping cluster\n",
    "for cluster in clusters:\n",
    "    cluster_data = df[df['Cluster'] == cluster].copy()\n",
    "\n",
    "    stats = {\n",
    "        'Cluster': cluster,\n",
    "        'Features': {}\n",
    "    }\n",
    "\n",
    "    for col in selected_features:\n",
    "        stats['Features'][col] = {\n",
    "            'Mean': cluster_data[col].mean()\n",
    "        }\n",
    "\n",
    "    display(HTML(f\"<b>Cluster {cluster} Analysis:</b>\"))\n",
    "    display(HTML(\"<b>Nilai rata-rata setiap fitur:</b>\"))\n",
    "\n",
    "    # Print rata-rata untuk setiap fitur\n",
    "    for feature, values in stats['Features'].items():\n",
    "        print(f\"- {feature} = {values['Mean']:.3f}\")\n",
    "\n",
    "    # Print interpretasi cluster\n",
    "    if cluster == 0:\n",
    "        display(HTML(\"<b>Analisis:</b>\"))\n",
    "        print(\n",
    "\"\"\"Cluster ini memiliki jumlah transaksi yang sedang tidak lebih seperti cluster 1 atau sedikit seperti cluster 2.\n",
    "Begitu pun pada `CustomerAge` yang memiliki rentang usia dewasa tidak terlalu tua dan sedikit pada usia muda.\n",
    "Cluster ini sangat kaya memiliki tabungan yang sangat banyak, tidak seperti cluster 1 yang memiliki sedikit tabungan\n",
    "atau cluster 2 yang memiliki tabungan yang terbilang sedang.\"\"\"\n",
    ")\n",
    "    elif cluster == 1:\n",
    "        display(HTML(\"<b>Analisis:</b>\"))\n",
    "        print(\n",
    "\"\"\"Cluster ini memiliki karakteristik dengan jumlah transaksi yang cukup banyak. \n",
    "Terbilang sangat boros dikarenakan jumlah transaksi tidak diimbangi dengan jumlah tabungan yang dimiliki.\n",
    "Terlihat pada fitur `TransactionAmount` dengan sebaran data tertinggi tapi pada fitur `AccountBalance` memiliki sebaran data terendah.\n",
    "Cluster ini memliki rentang usia hanya anak muda pada fitur `CustomerAge`.\"\"\"\n",
    ")\n",
    "    elif cluster == 2:\n",
    "        display(HTML(\"<b>Analisis:</b>\"))\n",
    "        print(\n",
    "\"\"\"Cluster ini merupakan cluster paling hemat dengan jumlah transaksi yang sedikit dan tabungan yang sedang.\n",
    "Terlihat pada fitur `TransactionAmount` dengan sebaran data terendah dan pada fitur `AccountBalance` memiliki sebaran data menengah.\n",
    "Cluster ini memiliki rentang usia dewasa tua pada fitur `CustomerAge`.\"\"\"\n",
    ")\n",
    "    \n",
    "    print(\"-\" * 50)"
   ]
  },
  {
   "cell_type": "markdown",
   "metadata": {},
   "source": [
    "Hasil analisis KMeans Clustering didapatkan Silhouette Score sebesar 0.38, tetapi data ter-cluster dengan baik sesuai ekspektasi. Pada cluster 0 memliki karakteristik customer kaya dengan tabungan yang sangat banyak dan jumlah transaksi menengah. Disamping itu cluster 1 merupakan anak muda yang sangat boros dengan jumlah transaksi melebihi kemampuan tabungan mereka. Pada cluster 2 merupakan pensiunan dengan jumlah transaksi dan tabungan yang hemat. "
   ]
  },
  {
   "cell_type": "markdown",
   "metadata": {
    "id": "jaYP1fx5VgWO"
   },
   "source": [
    "# **6. Mengeksport Data**\n",
    "\n",
    "1. Simpan nama kolom hasil clustering dengan nama `Target`.\n",
    "2. Simpan hasilnya ke dalam file CSV menggunakan function `to_csv()`."
   ]
  },
  {
   "cell_type": "code",
   "execution_count": 29,
   "metadata": {
    "id": "3FInN10U5S4f"
   },
   "outputs": [],
   "source": [
    "# Pastikan nama kolom clustering sudah diubah menjadi Target\n",
    "df.rename(columns={'Cluster': 'Target'}, inplace=True)"
   ]
  },
  {
   "cell_type": "code",
   "execution_count": 30,
   "metadata": {
    "id": "fkbg_o80aRSH"
   },
   "outputs": [],
   "source": [
    "# Simpan Data\n",
    "df.to_csv('data_clustering.csv', index=False)"
   ]
  },
  {
   "cell_type": "markdown",
   "metadata": {
    "id": "rz1vFc2yzFPD"
   },
   "source": [
    "(Opsional) Interpretasi Hasil Clustering [Skilled]\n",
    "\n",
    "**Biarkan kosong jika tidak menerapkan kriteria skilled**"
   ]
  },
  {
   "cell_type": "code",
   "execution_count": 31,
   "metadata": {
    "id": "OMcRV15y_hH3"
   },
   "outputs": [
    {
     "data": {
      "application/vnd.microsoft.datawrangler.viewer.v0+json": {
       "columns": [
        {
         "name": "index",
         "rawType": "int64",
         "type": "integer"
        },
        {
         "name": "TransactionAmount",
         "rawType": "float64",
         "type": "float"
        },
        {
         "name": "TransactionType",
         "rawType": "object",
         "type": "string"
        },
        {
         "name": "Channel",
         "rawType": "object",
         "type": "string"
        },
        {
         "name": "CustomerAge",
         "rawType": "float64",
         "type": "float"
        },
        {
         "name": "CustomerOccupation",
         "rawType": "object",
         "type": "string"
        },
        {
         "name": "AccountBalance",
         "rawType": "float64",
         "type": "float"
        },
        {
         "name": "Target",
         "rawType": "int32",
         "type": "integer"
        }
       ],
       "ref": "77c4b4c0-6a39-43f1-a19a-6cbfd863f4a3",
       "rows": [
        [
         "0",
         "14.089999999999975",
         "Debit",
         "ATM",
         "70.0",
         "Doctor",
         "5112.21",
         "2"
        ],
        [
         "1",
         "376.24",
         "Debit",
         "ATM",
         "68.0",
         "Doctor",
         "13758.91",
         "0"
        ],
        [
         "2",
         "126.29000000000002",
         "Debit",
         "Online",
         "19.0",
         "Student",
         "1122.35",
         "1"
        ],
        [
         "3",
         "184.5",
         "Debit",
         "Online",
         "26.0",
         "Student",
         "8569.06",
         "1"
        ],
        [
         "4",
         "13.449999999999989",
         "Credit",
         "Online",
         "26.0",
         "Student",
         "7429.4",
         "1"
        ]
       ],
       "shape": {
        "columns": 7,
        "rows": 5
       }
      },
      "text/html": [
       "<div>\n",
       "<style scoped>\n",
       "    .dataframe tbody tr th:only-of-type {\n",
       "        vertical-align: middle;\n",
       "    }\n",
       "\n",
       "    .dataframe tbody tr th {\n",
       "        vertical-align: top;\n",
       "    }\n",
       "\n",
       "    .dataframe thead th {\n",
       "        text-align: right;\n",
       "    }\n",
       "</style>\n",
       "<table border=\"1\" class=\"dataframe\">\n",
       "  <thead>\n",
       "    <tr style=\"text-align: right;\">\n",
       "      <th></th>\n",
       "      <th>TransactionAmount</th>\n",
       "      <th>TransactionType</th>\n",
       "      <th>Channel</th>\n",
       "      <th>CustomerAge</th>\n",
       "      <th>CustomerOccupation</th>\n",
       "      <th>AccountBalance</th>\n",
       "      <th>Target</th>\n",
       "    </tr>\n",
       "  </thead>\n",
       "  <tbody>\n",
       "    <tr>\n",
       "      <th>0</th>\n",
       "      <td>14.09</td>\n",
       "      <td>Debit</td>\n",
       "      <td>ATM</td>\n",
       "      <td>70.0</td>\n",
       "      <td>Doctor</td>\n",
       "      <td>5112.21</td>\n",
       "      <td>2</td>\n",
       "    </tr>\n",
       "    <tr>\n",
       "      <th>1</th>\n",
       "      <td>376.24</td>\n",
       "      <td>Debit</td>\n",
       "      <td>ATM</td>\n",
       "      <td>68.0</td>\n",
       "      <td>Doctor</td>\n",
       "      <td>13758.91</td>\n",
       "      <td>0</td>\n",
       "    </tr>\n",
       "    <tr>\n",
       "      <th>2</th>\n",
       "      <td>126.29</td>\n",
       "      <td>Debit</td>\n",
       "      <td>Online</td>\n",
       "      <td>19.0</td>\n",
       "      <td>Student</td>\n",
       "      <td>1122.35</td>\n",
       "      <td>1</td>\n",
       "    </tr>\n",
       "    <tr>\n",
       "      <th>3</th>\n",
       "      <td>184.50</td>\n",
       "      <td>Debit</td>\n",
       "      <td>Online</td>\n",
       "      <td>26.0</td>\n",
       "      <td>Student</td>\n",
       "      <td>8569.06</td>\n",
       "      <td>1</td>\n",
       "    </tr>\n",
       "    <tr>\n",
       "      <th>4</th>\n",
       "      <td>13.45</td>\n",
       "      <td>Credit</td>\n",
       "      <td>Online</td>\n",
       "      <td>26.0</td>\n",
       "      <td>Student</td>\n",
       "      <td>7429.40</td>\n",
       "      <td>1</td>\n",
       "    </tr>\n",
       "  </tbody>\n",
       "</table>\n",
       "</div>"
      ],
      "text/plain": [
       "   TransactionAmount TransactionType Channel  CustomerAge CustomerOccupation  \\\n",
       "0              14.09           Debit     ATM         70.0             Doctor   \n",
       "1             376.24           Debit     ATM         68.0             Doctor   \n",
       "2             126.29           Debit  Online         19.0            Student   \n",
       "3             184.50           Debit  Online         26.0            Student   \n",
       "4              13.45          Credit  Online         26.0            Student   \n",
       "\n",
       "   AccountBalance  Target  \n",
       "0         5112.21       2  \n",
       "1        13758.91       0  \n",
       "2         1122.35       1  \n",
       "3         8569.06       1  \n",
       "4         7429.40       1  "
      ]
     },
     "execution_count": 31,
     "metadata": {},
     "output_type": "execute_result"
    }
   ],
   "source": [
    "# inverse dataset ke rentang normal untuk numerikal\n",
    "# inverse dataset yang sudah diencode ke kategori aslinya.\n",
    "# Ambil data untuk numerik dan kategorikal terlebih dahulu\n",
    "selected_numeric = [\"TransactionAmount\", \"CustomerAge\", \"AccountBalance\"]\n",
    "selected_categorical = [\"TransactionType\", \"Channel\", \"CustomerOccupation\"]\n",
    "df_inverse = df.copy()\n",
    "\n",
    "# Untuk data numerik\n",
    "for col in selected_numeric:\n",
    "    df_inverse[col] = scaler[col].inverse_transform(df[[col]])\n",
    "\n",
    "# Untuk data kategorikal\n",
    "for col in selected_categorical:\n",
    "    df_inverse[col] = label_encoders[col].inverse_transform(df[col].astype(int))\n",
    "\n",
    "df_inverse.head()"
   ]
  },
  {
   "cell_type": "code",
   "execution_count": 32,
   "metadata": {
    "id": "BSigRjkNxh-s"
   },
   "outputs": [
    {
     "name": "stdout",
     "output_type": "stream",
     "text": [
      "=== Agregasi Fitur Numerik untuk Cluster 0 ===\n"
     ]
    },
    {
     "data": {
      "application/vnd.microsoft.datawrangler.viewer.v0+json": {
       "columns": [
        {
         "name": "index",
         "rawType": "object",
         "type": "string"
        },
        {
         "name": "TransactionAmount",
         "rawType": "float64",
         "type": "float"
        },
        {
         "name": "TransactionType",
         "rawType": "object",
         "type": "unknown"
        },
        {
         "name": "Channel",
         "rawType": "object",
         "type": "unknown"
        },
        {
         "name": "CustomerAge",
         "rawType": "float64",
         "type": "float"
        },
        {
         "name": "CustomerOccupation",
         "rawType": "object",
         "type": "unknown"
        },
        {
         "name": "AccountBalance",
         "rawType": "float64",
         "type": "float"
        }
       ],
       "ref": "f7a5f8f7-5eba-4439-858a-acb043fe79d9",
       "rows": [
        [
         "count",
         "860.0",
         "860",
         "860",
         "860.0",
         "860",
         "860.0"
        ],
        [
         "unique",
         null,
         "2",
         "3",
         null,
         "4",
         null
        ],
        [
         "top",
         null,
         "Debit",
         "Branch",
         null,
         "Doctor",
         null
        ],
        [
         "freq",
         null,
         "664",
         "310",
         null,
         "552",
         null
        ],
        [
         "mean",
         "278.277",
         null,
         null,
         "45.716",
         null,
         "9252.311"
        ],
        [
         "std",
         "248.602",
         null,
         null,
         "12.706",
         null,
         "2799.576"
        ],
        [
         "min",
         "0.32",
         null,
         null,
         "18.0",
         null,
         "1149.74"
        ],
        [
         "25%",
         "80.822",
         null,
         null,
         "34.0",
         null,
         "7151.058"
        ],
        [
         "50%",
         "202.09",
         null,
         null,
         "44.0",
         null,
         "8873.72"
        ],
        [
         "75%",
         "410.088",
         null,
         null,
         "56.0",
         null,
         "11312.91"
        ],
        [
         "max",
         "915.074",
         null,
         null,
         "73.0",
         null,
         "14977.99"
        ]
       ],
       "shape": {
        "columns": 6,
        "rows": 11
       }
      },
      "text/html": [
       "<div>\n",
       "<style scoped>\n",
       "    .dataframe tbody tr th:only-of-type {\n",
       "        vertical-align: middle;\n",
       "    }\n",
       "\n",
       "    .dataframe tbody tr th {\n",
       "        vertical-align: top;\n",
       "    }\n",
       "\n",
       "    .dataframe thead th {\n",
       "        text-align: right;\n",
       "    }\n",
       "</style>\n",
       "<table border=\"1\" class=\"dataframe\">\n",
       "  <thead>\n",
       "    <tr style=\"text-align: right;\">\n",
       "      <th></th>\n",
       "      <th>TransactionAmount</th>\n",
       "      <th>TransactionType</th>\n",
       "      <th>Channel</th>\n",
       "      <th>CustomerAge</th>\n",
       "      <th>CustomerOccupation</th>\n",
       "      <th>AccountBalance</th>\n",
       "    </tr>\n",
       "  </thead>\n",
       "  <tbody>\n",
       "    <tr>\n",
       "      <th>count</th>\n",
       "      <td>860.000</td>\n",
       "      <td>860</td>\n",
       "      <td>860</td>\n",
       "      <td>860.000</td>\n",
       "      <td>860</td>\n",
       "      <td>860.000</td>\n",
       "    </tr>\n",
       "    <tr>\n",
       "      <th>unique</th>\n",
       "      <td>NaN</td>\n",
       "      <td>2</td>\n",
       "      <td>3</td>\n",
       "      <td>NaN</td>\n",
       "      <td>4</td>\n",
       "      <td>NaN</td>\n",
       "    </tr>\n",
       "    <tr>\n",
       "      <th>top</th>\n",
       "      <td>NaN</td>\n",
       "      <td>Debit</td>\n",
       "      <td>Branch</td>\n",
       "      <td>NaN</td>\n",
       "      <td>Doctor</td>\n",
       "      <td>NaN</td>\n",
       "    </tr>\n",
       "    <tr>\n",
       "      <th>freq</th>\n",
       "      <td>NaN</td>\n",
       "      <td>664</td>\n",
       "      <td>310</td>\n",
       "      <td>NaN</td>\n",
       "      <td>552</td>\n",
       "      <td>NaN</td>\n",
       "    </tr>\n",
       "    <tr>\n",
       "      <th>mean</th>\n",
       "      <td>278.277</td>\n",
       "      <td>NaN</td>\n",
       "      <td>NaN</td>\n",
       "      <td>45.716</td>\n",
       "      <td>NaN</td>\n",
       "      <td>9252.311</td>\n",
       "    </tr>\n",
       "    <tr>\n",
       "      <th>std</th>\n",
       "      <td>248.602</td>\n",
       "      <td>NaN</td>\n",
       "      <td>NaN</td>\n",
       "      <td>12.706</td>\n",
       "      <td>NaN</td>\n",
       "      <td>2799.576</td>\n",
       "    </tr>\n",
       "    <tr>\n",
       "      <th>min</th>\n",
       "      <td>0.320</td>\n",
       "      <td>NaN</td>\n",
       "      <td>NaN</td>\n",
       "      <td>18.000</td>\n",
       "      <td>NaN</td>\n",
       "      <td>1149.740</td>\n",
       "    </tr>\n",
       "    <tr>\n",
       "      <th>25%</th>\n",
       "      <td>80.822</td>\n",
       "      <td>NaN</td>\n",
       "      <td>NaN</td>\n",
       "      <td>34.000</td>\n",
       "      <td>NaN</td>\n",
       "      <td>7151.058</td>\n",
       "    </tr>\n",
       "    <tr>\n",
       "      <th>50%</th>\n",
       "      <td>202.090</td>\n",
       "      <td>NaN</td>\n",
       "      <td>NaN</td>\n",
       "      <td>44.000</td>\n",
       "      <td>NaN</td>\n",
       "      <td>8873.720</td>\n",
       "    </tr>\n",
       "    <tr>\n",
       "      <th>75%</th>\n",
       "      <td>410.088</td>\n",
       "      <td>NaN</td>\n",
       "      <td>NaN</td>\n",
       "      <td>56.000</td>\n",
       "      <td>NaN</td>\n",
       "      <td>11312.910</td>\n",
       "    </tr>\n",
       "    <tr>\n",
       "      <th>max</th>\n",
       "      <td>915.074</td>\n",
       "      <td>NaN</td>\n",
       "      <td>NaN</td>\n",
       "      <td>73.000</td>\n",
       "      <td>NaN</td>\n",
       "      <td>14977.990</td>\n",
       "    </tr>\n",
       "  </tbody>\n",
       "</table>\n",
       "</div>"
      ],
      "text/plain": [
       "        TransactionAmount TransactionType Channel  CustomerAge  \\\n",
       "count             860.000             860     860      860.000   \n",
       "unique                NaN               2       3          NaN   \n",
       "top                   NaN           Debit  Branch          NaN   \n",
       "freq                  NaN             664     310          NaN   \n",
       "mean              278.277             NaN     NaN       45.716   \n",
       "std               248.602             NaN     NaN       12.706   \n",
       "min                 0.320             NaN     NaN       18.000   \n",
       "25%                80.822             NaN     NaN       34.000   \n",
       "50%               202.090             NaN     NaN       44.000   \n",
       "75%               410.088             NaN     NaN       56.000   \n",
       "max               915.074             NaN     NaN       73.000   \n",
       "\n",
       "       CustomerOccupation  AccountBalance  \n",
       "count                 860         860.000  \n",
       "unique                  4             NaN  \n",
       "top                Doctor             NaN  \n",
       "freq                  552             NaN  \n",
       "mean                  NaN        9252.311  \n",
       "std                   NaN        2799.576  \n",
       "min                   NaN        1149.740  \n",
       "25%                   NaN        7151.058  \n",
       "50%                   NaN        8873.720  \n",
       "75%                   NaN       11312.910  \n",
       "max                   NaN       14977.990  "
      ]
     },
     "metadata": {},
     "output_type": "display_data"
    },
    {
     "name": "stdout",
     "output_type": "stream",
     "text": [
      "=== Analisis Data Kategorikal Nilai Asli vs Hasil Encoding untuk Cluster 0 ===\n",
      "\n",
      "Analisis kolom: TransactionType\n"
     ]
    },
    {
     "data": {
      "application/vnd.microsoft.datawrangler.viewer.v0+json": {
       "columns": [
        {
         "name": "index",
         "rawType": "int64",
         "type": "integer"
        },
        {
         "name": "Value",
         "rawType": "object",
         "type": "string"
        },
        {
         "name": "Encoded",
         "rawType": "int32",
         "type": "integer"
        },
        {
         "name": "Count",
         "rawType": "int64",
         "type": "integer"
        },
        {
         "name": "Proportion",
         "rawType": "object",
         "type": "string"
        }
       ],
       "ref": "3a3cf440-727f-48b9-aa43-58b19f7b5c45",
       "rows": [
        [
         "0",
         "Debit",
         "1",
         "664",
         "77.2%"
        ],
        [
         "1",
         "Credit",
         "0",
         "196",
         "22.8%"
        ]
       ],
       "shape": {
        "columns": 4,
        "rows": 2
       }
      },
      "text/html": [
       "<div>\n",
       "<style scoped>\n",
       "    .dataframe tbody tr th:only-of-type {\n",
       "        vertical-align: middle;\n",
       "    }\n",
       "\n",
       "    .dataframe tbody tr th {\n",
       "        vertical-align: top;\n",
       "    }\n",
       "\n",
       "    .dataframe thead th {\n",
       "        text-align: right;\n",
       "    }\n",
       "</style>\n",
       "<table border=\"1\" class=\"dataframe\">\n",
       "  <thead>\n",
       "    <tr style=\"text-align: right;\">\n",
       "      <th></th>\n",
       "      <th>Value</th>\n",
       "      <th>Encoded</th>\n",
       "      <th>Count</th>\n",
       "      <th>Proportion</th>\n",
       "    </tr>\n",
       "  </thead>\n",
       "  <tbody>\n",
       "    <tr>\n",
       "      <th>0</th>\n",
       "      <td>Debit</td>\n",
       "      <td>1</td>\n",
       "      <td>664</td>\n",
       "      <td>77.2%</td>\n",
       "    </tr>\n",
       "    <tr>\n",
       "      <th>1</th>\n",
       "      <td>Credit</td>\n",
       "      <td>0</td>\n",
       "      <td>196</td>\n",
       "      <td>22.8%</td>\n",
       "    </tr>\n",
       "  </tbody>\n",
       "</table>\n",
       "</div>"
      ],
      "text/plain": [
       "    Value  Encoded  Count Proportion\n",
       "0   Debit        1    664      77.2%\n",
       "1  Credit        0    196      22.8%"
      ]
     },
     "metadata": {},
     "output_type": "display_data"
    },
    {
     "name": "stdout",
     "output_type": "stream",
     "text": [
      "\n",
      "Analisis kolom: Channel\n"
     ]
    },
    {
     "data": {
      "application/vnd.microsoft.datawrangler.viewer.v0+json": {
       "columns": [
        {
         "name": "index",
         "rawType": "int64",
         "type": "integer"
        },
        {
         "name": "Value",
         "rawType": "object",
         "type": "string"
        },
        {
         "name": "Encoded",
         "rawType": "int32",
         "type": "integer"
        },
        {
         "name": "Count",
         "rawType": "int64",
         "type": "integer"
        },
        {
         "name": "Proportion",
         "rawType": "object",
         "type": "string"
        }
       ],
       "ref": "81230e99-3e77-4200-8a4b-ac751fb906d6",
       "rows": [
        [
         "0",
         "Branch",
         "1",
         "310",
         "36.0%"
        ],
        [
         "1",
         "ATM",
         "0",
         "278",
         "32.3%"
        ],
        [
         "2",
         "Online",
         "2",
         "272",
         "31.6%"
        ]
       ],
       "shape": {
        "columns": 4,
        "rows": 3
       }
      },
      "text/html": [
       "<div>\n",
       "<style scoped>\n",
       "    .dataframe tbody tr th:only-of-type {\n",
       "        vertical-align: middle;\n",
       "    }\n",
       "\n",
       "    .dataframe tbody tr th {\n",
       "        vertical-align: top;\n",
       "    }\n",
       "\n",
       "    .dataframe thead th {\n",
       "        text-align: right;\n",
       "    }\n",
       "</style>\n",
       "<table border=\"1\" class=\"dataframe\">\n",
       "  <thead>\n",
       "    <tr style=\"text-align: right;\">\n",
       "      <th></th>\n",
       "      <th>Value</th>\n",
       "      <th>Encoded</th>\n",
       "      <th>Count</th>\n",
       "      <th>Proportion</th>\n",
       "    </tr>\n",
       "  </thead>\n",
       "  <tbody>\n",
       "    <tr>\n",
       "      <th>0</th>\n",
       "      <td>Branch</td>\n",
       "      <td>1</td>\n",
       "      <td>310</td>\n",
       "      <td>36.0%</td>\n",
       "    </tr>\n",
       "    <tr>\n",
       "      <th>1</th>\n",
       "      <td>ATM</td>\n",
       "      <td>0</td>\n",
       "      <td>278</td>\n",
       "      <td>32.3%</td>\n",
       "    </tr>\n",
       "    <tr>\n",
       "      <th>2</th>\n",
       "      <td>Online</td>\n",
       "      <td>2</td>\n",
       "      <td>272</td>\n",
       "      <td>31.6%</td>\n",
       "    </tr>\n",
       "  </tbody>\n",
       "</table>\n",
       "</div>"
      ],
      "text/plain": [
       "    Value  Encoded  Count Proportion\n",
       "0  Branch        1    310      36.0%\n",
       "1     ATM        0    278      32.3%\n",
       "2  Online        2    272      31.6%"
      ]
     },
     "metadata": {},
     "output_type": "display_data"
    },
    {
     "name": "stdout",
     "output_type": "stream",
     "text": [
      "\n",
      "Analisis kolom: CustomerOccupation\n"
     ]
    },
    {
     "data": {
      "application/vnd.microsoft.datawrangler.viewer.v0+json": {
       "columns": [
        {
         "name": "index",
         "rawType": "int64",
         "type": "integer"
        },
        {
         "name": "Value",
         "rawType": "object",
         "type": "string"
        },
        {
         "name": "Encoded",
         "rawType": "int32",
         "type": "integer"
        },
        {
         "name": "Count",
         "rawType": "int64",
         "type": "integer"
        },
        {
         "name": "Proportion",
         "rawType": "object",
         "type": "string"
        }
       ],
       "ref": "2bd4f397-5c5d-44b0-af3d-fe01caf9bb1d",
       "rows": [
        [
         "0",
         "Doctor",
         "0",
         "552",
         "64.2%"
        ],
        [
         "1",
         "Engineer",
         "1",
         "306",
         "35.6%"
        ],
        [
         "2",
         "Student",
         "3",
         "1",
         "0.1%"
        ],
        [
         "3",
         "Retired",
         "2",
         "1",
         "0.1%"
        ]
       ],
       "shape": {
        "columns": 4,
        "rows": 4
       }
      },
      "text/html": [
       "<div>\n",
       "<style scoped>\n",
       "    .dataframe tbody tr th:only-of-type {\n",
       "        vertical-align: middle;\n",
       "    }\n",
       "\n",
       "    .dataframe tbody tr th {\n",
       "        vertical-align: top;\n",
       "    }\n",
       "\n",
       "    .dataframe thead th {\n",
       "        text-align: right;\n",
       "    }\n",
       "</style>\n",
       "<table border=\"1\" class=\"dataframe\">\n",
       "  <thead>\n",
       "    <tr style=\"text-align: right;\">\n",
       "      <th></th>\n",
       "      <th>Value</th>\n",
       "      <th>Encoded</th>\n",
       "      <th>Count</th>\n",
       "      <th>Proportion</th>\n",
       "    </tr>\n",
       "  </thead>\n",
       "  <tbody>\n",
       "    <tr>\n",
       "      <th>0</th>\n",
       "      <td>Doctor</td>\n",
       "      <td>0</td>\n",
       "      <td>552</td>\n",
       "      <td>64.2%</td>\n",
       "    </tr>\n",
       "    <tr>\n",
       "      <th>1</th>\n",
       "      <td>Engineer</td>\n",
       "      <td>1</td>\n",
       "      <td>306</td>\n",
       "      <td>35.6%</td>\n",
       "    </tr>\n",
       "    <tr>\n",
       "      <th>2</th>\n",
       "      <td>Student</td>\n",
       "      <td>3</td>\n",
       "      <td>1</td>\n",
       "      <td>0.1%</td>\n",
       "    </tr>\n",
       "    <tr>\n",
       "      <th>3</th>\n",
       "      <td>Retired</td>\n",
       "      <td>2</td>\n",
       "      <td>1</td>\n",
       "      <td>0.1%</td>\n",
       "    </tr>\n",
       "  </tbody>\n",
       "</table>\n",
       "</div>"
      ],
      "text/plain": [
       "      Value  Encoded  Count Proportion\n",
       "0    Doctor        0    552      64.2%\n",
       "1  Engineer        1    306      35.6%\n",
       "2   Student        3      1       0.1%\n",
       "3   Retired        2      1       0.1%"
      ]
     },
     "metadata": {},
     "output_type": "display_data"
    },
    {
     "name": "stdout",
     "output_type": "stream",
     "text": [
      "=== Agregasi Fitur Numerik untuk Cluster 1 ===\n"
     ]
    },
    {
     "data": {
      "application/vnd.microsoft.datawrangler.viewer.v0+json": {
       "columns": [
        {
         "name": "index",
         "rawType": "object",
         "type": "string"
        },
        {
         "name": "TransactionAmount",
         "rawType": "float64",
         "type": "float"
        },
        {
         "name": "TransactionType",
         "rawType": "object",
         "type": "unknown"
        },
        {
         "name": "Channel",
         "rawType": "object",
         "type": "unknown"
        },
        {
         "name": "CustomerAge",
         "rawType": "float64",
         "type": "float"
        },
        {
         "name": "CustomerOccupation",
         "rawType": "object",
         "type": "unknown"
        },
        {
         "name": "AccountBalance",
         "rawType": "float64",
         "type": "float"
        }
       ],
       "ref": "af6ddc23-9541-4f21-8e98-8c27bcbeadf9",
       "rows": [
        [
         "count",
         "655.0",
         "655",
         "655",
         "655.0",
         "655",
         "655.0"
        ],
        [
         "unique",
         null,
         "2",
         "3",
         null,
         "3",
         null
        ],
        [
         "top",
         null,
         "Debit",
         "Branch",
         null,
         "Student",
         null
        ],
        [
         "freq",
         null,
         "517",
         "223",
         null,
         "651",
         null
        ],
        [
         "mean",
         "297.975",
         null,
         null,
         "23.067",
         null,
         "1581.376"
        ],
        [
         "std",
         "259.524",
         null,
         null,
         "3.13",
         null,
         "1910.349"
        ],
        [
         "min",
         "0.26",
         null,
         null,
         "18.0",
         null,
         "101.25"
        ],
        [
         "25%",
         "87.72",
         null,
         null,
         "20.0",
         null,
         "587.115"
        ],
        [
         "50%",
         "217.61",
         null,
         null,
         "23.0",
         null,
         "1081.79"
        ],
        [
         "75%",
         "429.99",
         null,
         null,
         "26.0",
         null,
         "1634.405"
        ],
        [
         "max",
         "915.074",
         null,
         null,
         "28.0",
         null,
         "9963.39"
        ]
       ],
       "shape": {
        "columns": 6,
        "rows": 11
       }
      },
      "text/html": [
       "<div>\n",
       "<style scoped>\n",
       "    .dataframe tbody tr th:only-of-type {\n",
       "        vertical-align: middle;\n",
       "    }\n",
       "\n",
       "    .dataframe tbody tr th {\n",
       "        vertical-align: top;\n",
       "    }\n",
       "\n",
       "    .dataframe thead th {\n",
       "        text-align: right;\n",
       "    }\n",
       "</style>\n",
       "<table border=\"1\" class=\"dataframe\">\n",
       "  <thead>\n",
       "    <tr style=\"text-align: right;\">\n",
       "      <th></th>\n",
       "      <th>TransactionAmount</th>\n",
       "      <th>TransactionType</th>\n",
       "      <th>Channel</th>\n",
       "      <th>CustomerAge</th>\n",
       "      <th>CustomerOccupation</th>\n",
       "      <th>AccountBalance</th>\n",
       "    </tr>\n",
       "  </thead>\n",
       "  <tbody>\n",
       "    <tr>\n",
       "      <th>count</th>\n",
       "      <td>655.000</td>\n",
       "      <td>655</td>\n",
       "      <td>655</td>\n",
       "      <td>655.000</td>\n",
       "      <td>655</td>\n",
       "      <td>655.000</td>\n",
       "    </tr>\n",
       "    <tr>\n",
       "      <th>unique</th>\n",
       "      <td>NaN</td>\n",
       "      <td>2</td>\n",
       "      <td>3</td>\n",
       "      <td>NaN</td>\n",
       "      <td>3</td>\n",
       "      <td>NaN</td>\n",
       "    </tr>\n",
       "    <tr>\n",
       "      <th>top</th>\n",
       "      <td>NaN</td>\n",
       "      <td>Debit</td>\n",
       "      <td>Branch</td>\n",
       "      <td>NaN</td>\n",
       "      <td>Student</td>\n",
       "      <td>NaN</td>\n",
       "    </tr>\n",
       "    <tr>\n",
       "      <th>freq</th>\n",
       "      <td>NaN</td>\n",
       "      <td>517</td>\n",
       "      <td>223</td>\n",
       "      <td>NaN</td>\n",
       "      <td>651</td>\n",
       "      <td>NaN</td>\n",
       "    </tr>\n",
       "    <tr>\n",
       "      <th>mean</th>\n",
       "      <td>297.975</td>\n",
       "      <td>NaN</td>\n",
       "      <td>NaN</td>\n",
       "      <td>23.067</td>\n",
       "      <td>NaN</td>\n",
       "      <td>1581.376</td>\n",
       "    </tr>\n",
       "    <tr>\n",
       "      <th>std</th>\n",
       "      <td>259.524</td>\n",
       "      <td>NaN</td>\n",
       "      <td>NaN</td>\n",
       "      <td>3.130</td>\n",
       "      <td>NaN</td>\n",
       "      <td>1910.349</td>\n",
       "    </tr>\n",
       "    <tr>\n",
       "      <th>min</th>\n",
       "      <td>0.260</td>\n",
       "      <td>NaN</td>\n",
       "      <td>NaN</td>\n",
       "      <td>18.000</td>\n",
       "      <td>NaN</td>\n",
       "      <td>101.250</td>\n",
       "    </tr>\n",
       "    <tr>\n",
       "      <th>25%</th>\n",
       "      <td>87.720</td>\n",
       "      <td>NaN</td>\n",
       "      <td>NaN</td>\n",
       "      <td>20.000</td>\n",
       "      <td>NaN</td>\n",
       "      <td>587.115</td>\n",
       "    </tr>\n",
       "    <tr>\n",
       "      <th>50%</th>\n",
       "      <td>217.610</td>\n",
       "      <td>NaN</td>\n",
       "      <td>NaN</td>\n",
       "      <td>23.000</td>\n",
       "      <td>NaN</td>\n",
       "      <td>1081.790</td>\n",
       "    </tr>\n",
       "    <tr>\n",
       "      <th>75%</th>\n",
       "      <td>429.990</td>\n",
       "      <td>NaN</td>\n",
       "      <td>NaN</td>\n",
       "      <td>26.000</td>\n",
       "      <td>NaN</td>\n",
       "      <td>1634.405</td>\n",
       "    </tr>\n",
       "    <tr>\n",
       "      <th>max</th>\n",
       "      <td>915.074</td>\n",
       "      <td>NaN</td>\n",
       "      <td>NaN</td>\n",
       "      <td>28.000</td>\n",
       "      <td>NaN</td>\n",
       "      <td>9963.390</td>\n",
       "    </tr>\n",
       "  </tbody>\n",
       "</table>\n",
       "</div>"
      ],
      "text/plain": [
       "        TransactionAmount TransactionType Channel  CustomerAge  \\\n",
       "count             655.000             655     655      655.000   \n",
       "unique                NaN               2       3          NaN   \n",
       "top                   NaN           Debit  Branch          NaN   \n",
       "freq                  NaN             517     223          NaN   \n",
       "mean              297.975             NaN     NaN       23.067   \n",
       "std               259.524             NaN     NaN        3.130   \n",
       "min                 0.260             NaN     NaN       18.000   \n",
       "25%                87.720             NaN     NaN       20.000   \n",
       "50%               217.610             NaN     NaN       23.000   \n",
       "75%               429.990             NaN     NaN       26.000   \n",
       "max               915.074             NaN     NaN       28.000   \n",
       "\n",
       "       CustomerOccupation  AccountBalance  \n",
       "count                 655         655.000  \n",
       "unique                  3             NaN  \n",
       "top               Student             NaN  \n",
       "freq                  651             NaN  \n",
       "mean                  NaN        1581.376  \n",
       "std                   NaN        1910.349  \n",
       "min                   NaN         101.250  \n",
       "25%                   NaN         587.115  \n",
       "50%                   NaN        1081.790  \n",
       "75%                   NaN        1634.405  \n",
       "max                   NaN        9963.390  "
      ]
     },
     "metadata": {},
     "output_type": "display_data"
    },
    {
     "name": "stdout",
     "output_type": "stream",
     "text": [
      "=== Analisis Data Kategorikal Nilai Asli vs Hasil Encoding untuk Cluster 1 ===\n",
      "\n",
      "Analisis kolom: TransactionType\n"
     ]
    },
    {
     "data": {
      "application/vnd.microsoft.datawrangler.viewer.v0+json": {
       "columns": [
        {
         "name": "index",
         "rawType": "int64",
         "type": "integer"
        },
        {
         "name": "Value",
         "rawType": "object",
         "type": "string"
        },
        {
         "name": "Encoded",
         "rawType": "int32",
         "type": "integer"
        },
        {
         "name": "Count",
         "rawType": "int64",
         "type": "integer"
        },
        {
         "name": "Proportion",
         "rawType": "object",
         "type": "string"
        }
       ],
       "ref": "ff70335b-861a-4650-9b35-66fe8277fce9",
       "rows": [
        [
         "0",
         "Debit",
         "1",
         "517",
         "78.9%"
        ],
        [
         "1",
         "Credit",
         "0",
         "138",
         "21.1%"
        ]
       ],
       "shape": {
        "columns": 4,
        "rows": 2
       }
      },
      "text/html": [
       "<div>\n",
       "<style scoped>\n",
       "    .dataframe tbody tr th:only-of-type {\n",
       "        vertical-align: middle;\n",
       "    }\n",
       "\n",
       "    .dataframe tbody tr th {\n",
       "        vertical-align: top;\n",
       "    }\n",
       "\n",
       "    .dataframe thead th {\n",
       "        text-align: right;\n",
       "    }\n",
       "</style>\n",
       "<table border=\"1\" class=\"dataframe\">\n",
       "  <thead>\n",
       "    <tr style=\"text-align: right;\">\n",
       "      <th></th>\n",
       "      <th>Value</th>\n",
       "      <th>Encoded</th>\n",
       "      <th>Count</th>\n",
       "      <th>Proportion</th>\n",
       "    </tr>\n",
       "  </thead>\n",
       "  <tbody>\n",
       "    <tr>\n",
       "      <th>0</th>\n",
       "      <td>Debit</td>\n",
       "      <td>1</td>\n",
       "      <td>517</td>\n",
       "      <td>78.9%</td>\n",
       "    </tr>\n",
       "    <tr>\n",
       "      <th>1</th>\n",
       "      <td>Credit</td>\n",
       "      <td>0</td>\n",
       "      <td>138</td>\n",
       "      <td>21.1%</td>\n",
       "    </tr>\n",
       "  </tbody>\n",
       "</table>\n",
       "</div>"
      ],
      "text/plain": [
       "    Value  Encoded  Count Proportion\n",
       "0   Debit        1    517      78.9%\n",
       "1  Credit        0    138      21.1%"
      ]
     },
     "metadata": {},
     "output_type": "display_data"
    },
    {
     "name": "stdout",
     "output_type": "stream",
     "text": [
      "\n",
      "Analisis kolom: Channel\n"
     ]
    },
    {
     "data": {
      "application/vnd.microsoft.datawrangler.viewer.v0+json": {
       "columns": [
        {
         "name": "index",
         "rawType": "int64",
         "type": "integer"
        },
        {
         "name": "Value",
         "rawType": "object",
         "type": "string"
        },
        {
         "name": "Encoded",
         "rawType": "int32",
         "type": "integer"
        },
        {
         "name": "Count",
         "rawType": "int64",
         "type": "integer"
        },
        {
         "name": "Proportion",
         "rawType": "object",
         "type": "string"
        }
       ],
       "ref": "7f330c9d-4cd7-4369-9e90-b428c20e5fc9",
       "rows": [
        [
         "0",
         "Branch",
         "1",
         "223",
         "34.0%"
        ],
        [
         "1",
         "ATM",
         "0",
         "221",
         "33.7%"
        ],
        [
         "2",
         "Online",
         "2",
         "211",
         "32.2%"
        ]
       ],
       "shape": {
        "columns": 4,
        "rows": 3
       }
      },
      "text/html": [
       "<div>\n",
       "<style scoped>\n",
       "    .dataframe tbody tr th:only-of-type {\n",
       "        vertical-align: middle;\n",
       "    }\n",
       "\n",
       "    .dataframe tbody tr th {\n",
       "        vertical-align: top;\n",
       "    }\n",
       "\n",
       "    .dataframe thead th {\n",
       "        text-align: right;\n",
       "    }\n",
       "</style>\n",
       "<table border=\"1\" class=\"dataframe\">\n",
       "  <thead>\n",
       "    <tr style=\"text-align: right;\">\n",
       "      <th></th>\n",
       "      <th>Value</th>\n",
       "      <th>Encoded</th>\n",
       "      <th>Count</th>\n",
       "      <th>Proportion</th>\n",
       "    </tr>\n",
       "  </thead>\n",
       "  <tbody>\n",
       "    <tr>\n",
       "      <th>0</th>\n",
       "      <td>Branch</td>\n",
       "      <td>1</td>\n",
       "      <td>223</td>\n",
       "      <td>34.0%</td>\n",
       "    </tr>\n",
       "    <tr>\n",
       "      <th>1</th>\n",
       "      <td>ATM</td>\n",
       "      <td>0</td>\n",
       "      <td>221</td>\n",
       "      <td>33.7%</td>\n",
       "    </tr>\n",
       "    <tr>\n",
       "      <th>2</th>\n",
       "      <td>Online</td>\n",
       "      <td>2</td>\n",
       "      <td>211</td>\n",
       "      <td>32.2%</td>\n",
       "    </tr>\n",
       "  </tbody>\n",
       "</table>\n",
       "</div>"
      ],
      "text/plain": [
       "    Value  Encoded  Count Proportion\n",
       "0  Branch        1    223      34.0%\n",
       "1     ATM        0    221      33.7%\n",
       "2  Online        2    211      32.2%"
      ]
     },
     "metadata": {},
     "output_type": "display_data"
    },
    {
     "name": "stdout",
     "output_type": "stream",
     "text": [
      "\n",
      "Analisis kolom: CustomerOccupation\n"
     ]
    },
    {
     "data": {
      "application/vnd.microsoft.datawrangler.viewer.v0+json": {
       "columns": [
        {
         "name": "index",
         "rawType": "int64",
         "type": "integer"
        },
        {
         "name": "Value",
         "rawType": "object",
         "type": "string"
        },
        {
         "name": "Encoded",
         "rawType": "int32",
         "type": "integer"
        },
        {
         "name": "Count",
         "rawType": "int64",
         "type": "integer"
        },
        {
         "name": "Proportion",
         "rawType": "object",
         "type": "string"
        }
       ],
       "ref": "65f4428f-262d-4dc5-bfb9-de4fa9de700b",
       "rows": [
        [
         "0",
         "Student",
         "3",
         "651",
         "99.4%"
        ],
        [
         "1",
         "Engineer",
         "1",
         "3",
         "0.5%"
        ],
        [
         "2",
         "Retired",
         "2",
         "1",
         "0.2%"
        ]
       ],
       "shape": {
        "columns": 4,
        "rows": 3
       }
      },
      "text/html": [
       "<div>\n",
       "<style scoped>\n",
       "    .dataframe tbody tr th:only-of-type {\n",
       "        vertical-align: middle;\n",
       "    }\n",
       "\n",
       "    .dataframe tbody tr th {\n",
       "        vertical-align: top;\n",
       "    }\n",
       "\n",
       "    .dataframe thead th {\n",
       "        text-align: right;\n",
       "    }\n",
       "</style>\n",
       "<table border=\"1\" class=\"dataframe\">\n",
       "  <thead>\n",
       "    <tr style=\"text-align: right;\">\n",
       "      <th></th>\n",
       "      <th>Value</th>\n",
       "      <th>Encoded</th>\n",
       "      <th>Count</th>\n",
       "      <th>Proportion</th>\n",
       "    </tr>\n",
       "  </thead>\n",
       "  <tbody>\n",
       "    <tr>\n",
       "      <th>0</th>\n",
       "      <td>Student</td>\n",
       "      <td>3</td>\n",
       "      <td>651</td>\n",
       "      <td>99.4%</td>\n",
       "    </tr>\n",
       "    <tr>\n",
       "      <th>1</th>\n",
       "      <td>Engineer</td>\n",
       "      <td>1</td>\n",
       "      <td>3</td>\n",
       "      <td>0.5%</td>\n",
       "    </tr>\n",
       "    <tr>\n",
       "      <th>2</th>\n",
       "      <td>Retired</td>\n",
       "      <td>2</td>\n",
       "      <td>1</td>\n",
       "      <td>0.2%</td>\n",
       "    </tr>\n",
       "  </tbody>\n",
       "</table>\n",
       "</div>"
      ],
      "text/plain": [
       "      Value  Encoded  Count Proportion\n",
       "0   Student        3    651      99.4%\n",
       "1  Engineer        1      3       0.5%\n",
       "2   Retired        2      1       0.2%"
      ]
     },
     "metadata": {},
     "output_type": "display_data"
    },
    {
     "name": "stdout",
     "output_type": "stream",
     "text": [
      "=== Agregasi Fitur Numerik untuk Cluster 2 ===\n"
     ]
    },
    {
     "data": {
      "application/vnd.microsoft.datawrangler.viewer.v0+json": {
       "columns": [
        {
         "name": "index",
         "rawType": "object",
         "type": "string"
        },
        {
         "name": "TransactionAmount",
         "rawType": "float64",
         "type": "float"
        },
        {
         "name": "TransactionType",
         "rawType": "object",
         "type": "unknown"
        },
        {
         "name": "Channel",
         "rawType": "object",
         "type": "unknown"
        },
        {
         "name": "CustomerAge",
         "rawType": "float64",
         "type": "float"
        },
        {
         "name": "CustomerOccupation",
         "rawType": "object",
         "type": "unknown"
        },
        {
         "name": "AccountBalance",
         "rawType": "float64",
         "type": "float"
        }
       ],
       "ref": "84121d86-743f-4633-b0d2-bc48d43d4c61",
       "rows": [
        [
         "count",
         "999.0",
         "999",
         "999",
         "999.0",
         "999",
         "999.0"
        ],
        [
         "unique",
         null,
         "2",
         "3",
         null,
         "4",
         null
        ],
        [
         "top",
         null,
         "Debit",
         "Branch",
         null,
         "Retired",
         null
        ],
        [
         "freq",
         null,
         "764",
         "339",
         null,
         "594",
         null
        ],
        [
         "mean",
         "282.894",
         null,
         null,
         "57.879",
         null,
         "3876.058"
        ],
        [
         "std",
         "251.777",
         null,
         null,
         "13.028",
         null,
         "2159.094"
        ],
        [
         "min",
         "0.84",
         null,
         null,
         "26.0",
         null,
         "112.76"
        ],
        [
         "25%",
         "79.28",
         null,
         null,
         "51.0",
         null,
         "2061.61"
        ],
        [
         "50%",
         "213.42",
         null,
         null,
         "58.0",
         null,
         "3753.24"
        ],
        [
         "75%",
         "394.54",
         null,
         null,
         "68.0",
         null,
         "5685.93"
        ],
        [
         "max",
         "915.074",
         null,
         null,
         "80.0",
         null,
         "9419.27"
        ]
       ],
       "shape": {
        "columns": 6,
        "rows": 11
       }
      },
      "text/html": [
       "<div>\n",
       "<style scoped>\n",
       "    .dataframe tbody tr th:only-of-type {\n",
       "        vertical-align: middle;\n",
       "    }\n",
       "\n",
       "    .dataframe tbody tr th {\n",
       "        vertical-align: top;\n",
       "    }\n",
       "\n",
       "    .dataframe thead th {\n",
       "        text-align: right;\n",
       "    }\n",
       "</style>\n",
       "<table border=\"1\" class=\"dataframe\">\n",
       "  <thead>\n",
       "    <tr style=\"text-align: right;\">\n",
       "      <th></th>\n",
       "      <th>TransactionAmount</th>\n",
       "      <th>TransactionType</th>\n",
       "      <th>Channel</th>\n",
       "      <th>CustomerAge</th>\n",
       "      <th>CustomerOccupation</th>\n",
       "      <th>AccountBalance</th>\n",
       "    </tr>\n",
       "  </thead>\n",
       "  <tbody>\n",
       "    <tr>\n",
       "      <th>count</th>\n",
       "      <td>999.000</td>\n",
       "      <td>999</td>\n",
       "      <td>999</td>\n",
       "      <td>999.000</td>\n",
       "      <td>999</td>\n",
       "      <td>999.000</td>\n",
       "    </tr>\n",
       "    <tr>\n",
       "      <th>unique</th>\n",
       "      <td>NaN</td>\n",
       "      <td>2</td>\n",
       "      <td>3</td>\n",
       "      <td>NaN</td>\n",
       "      <td>4</td>\n",
       "      <td>NaN</td>\n",
       "    </tr>\n",
       "    <tr>\n",
       "      <th>top</th>\n",
       "      <td>NaN</td>\n",
       "      <td>Debit</td>\n",
       "      <td>Branch</td>\n",
       "      <td>NaN</td>\n",
       "      <td>Retired</td>\n",
       "      <td>NaN</td>\n",
       "    </tr>\n",
       "    <tr>\n",
       "      <th>freq</th>\n",
       "      <td>NaN</td>\n",
       "      <td>764</td>\n",
       "      <td>339</td>\n",
       "      <td>NaN</td>\n",
       "      <td>594</td>\n",
       "      <td>NaN</td>\n",
       "    </tr>\n",
       "    <tr>\n",
       "      <th>mean</th>\n",
       "      <td>282.894</td>\n",
       "      <td>NaN</td>\n",
       "      <td>NaN</td>\n",
       "      <td>57.879</td>\n",
       "      <td>NaN</td>\n",
       "      <td>3876.058</td>\n",
       "    </tr>\n",
       "    <tr>\n",
       "      <th>std</th>\n",
       "      <td>251.777</td>\n",
       "      <td>NaN</td>\n",
       "      <td>NaN</td>\n",
       "      <td>13.028</td>\n",
       "      <td>NaN</td>\n",
       "      <td>2159.094</td>\n",
       "    </tr>\n",
       "    <tr>\n",
       "      <th>min</th>\n",
       "      <td>0.840</td>\n",
       "      <td>NaN</td>\n",
       "      <td>NaN</td>\n",
       "      <td>26.000</td>\n",
       "      <td>NaN</td>\n",
       "      <td>112.760</td>\n",
       "    </tr>\n",
       "    <tr>\n",
       "      <th>25%</th>\n",
       "      <td>79.280</td>\n",
       "      <td>NaN</td>\n",
       "      <td>NaN</td>\n",
       "      <td>51.000</td>\n",
       "      <td>NaN</td>\n",
       "      <td>2061.610</td>\n",
       "    </tr>\n",
       "    <tr>\n",
       "      <th>50%</th>\n",
       "      <td>213.420</td>\n",
       "      <td>NaN</td>\n",
       "      <td>NaN</td>\n",
       "      <td>58.000</td>\n",
       "      <td>NaN</td>\n",
       "      <td>3753.240</td>\n",
       "    </tr>\n",
       "    <tr>\n",
       "      <th>75%</th>\n",
       "      <td>394.540</td>\n",
       "      <td>NaN</td>\n",
       "      <td>NaN</td>\n",
       "      <td>68.000</td>\n",
       "      <td>NaN</td>\n",
       "      <td>5685.930</td>\n",
       "    </tr>\n",
       "    <tr>\n",
       "      <th>max</th>\n",
       "      <td>915.074</td>\n",
       "      <td>NaN</td>\n",
       "      <td>NaN</td>\n",
       "      <td>80.000</td>\n",
       "      <td>NaN</td>\n",
       "      <td>9419.270</td>\n",
       "    </tr>\n",
       "  </tbody>\n",
       "</table>\n",
       "</div>"
      ],
      "text/plain": [
       "        TransactionAmount TransactionType Channel  CustomerAge  \\\n",
       "count             999.000             999     999      999.000   \n",
       "unique                NaN               2       3          NaN   \n",
       "top                   NaN           Debit  Branch          NaN   \n",
       "freq                  NaN             764     339          NaN   \n",
       "mean              282.894             NaN     NaN       57.879   \n",
       "std               251.777             NaN     NaN       13.028   \n",
       "min                 0.840             NaN     NaN       26.000   \n",
       "25%                79.280             NaN     NaN       51.000   \n",
       "50%               213.420             NaN     NaN       58.000   \n",
       "75%               394.540             NaN     NaN       68.000   \n",
       "max               915.074             NaN     NaN       80.000   \n",
       "\n",
       "       CustomerOccupation  AccountBalance  \n",
       "count                 999         999.000  \n",
       "unique                  4             NaN  \n",
       "top               Retired             NaN  \n",
       "freq                  594             NaN  \n",
       "mean                  NaN        3876.058  \n",
       "std                   NaN        2159.094  \n",
       "min                   NaN         112.760  \n",
       "25%                   NaN        2061.610  \n",
       "50%                   NaN        3753.240  \n",
       "75%                   NaN        5685.930  \n",
       "max                   NaN        9419.270  "
      ]
     },
     "metadata": {},
     "output_type": "display_data"
    },
    {
     "name": "stdout",
     "output_type": "stream",
     "text": [
      "=== Analisis Data Kategorikal Nilai Asli vs Hasil Encoding untuk Cluster 2 ===\n",
      "\n",
      "Analisis kolom: TransactionType\n"
     ]
    },
    {
     "data": {
      "application/vnd.microsoft.datawrangler.viewer.v0+json": {
       "columns": [
        {
         "name": "index",
         "rawType": "int64",
         "type": "integer"
        },
        {
         "name": "Value",
         "rawType": "object",
         "type": "string"
        },
        {
         "name": "Encoded",
         "rawType": "int32",
         "type": "integer"
        },
        {
         "name": "Count",
         "rawType": "int64",
         "type": "integer"
        },
        {
         "name": "Proportion",
         "rawType": "object",
         "type": "string"
        }
       ],
       "ref": "ec521cd8-2051-4617-8c27-779409093ed1",
       "rows": [
        [
         "0",
         "Debit",
         "1",
         "764",
         "76.5%"
        ],
        [
         "1",
         "Credit",
         "0",
         "235",
         "23.5%"
        ]
       ],
       "shape": {
        "columns": 4,
        "rows": 2
       }
      },
      "text/html": [
       "<div>\n",
       "<style scoped>\n",
       "    .dataframe tbody tr th:only-of-type {\n",
       "        vertical-align: middle;\n",
       "    }\n",
       "\n",
       "    .dataframe tbody tr th {\n",
       "        vertical-align: top;\n",
       "    }\n",
       "\n",
       "    .dataframe thead th {\n",
       "        text-align: right;\n",
       "    }\n",
       "</style>\n",
       "<table border=\"1\" class=\"dataframe\">\n",
       "  <thead>\n",
       "    <tr style=\"text-align: right;\">\n",
       "      <th></th>\n",
       "      <th>Value</th>\n",
       "      <th>Encoded</th>\n",
       "      <th>Count</th>\n",
       "      <th>Proportion</th>\n",
       "    </tr>\n",
       "  </thead>\n",
       "  <tbody>\n",
       "    <tr>\n",
       "      <th>0</th>\n",
       "      <td>Debit</td>\n",
       "      <td>1</td>\n",
       "      <td>764</td>\n",
       "      <td>76.5%</td>\n",
       "    </tr>\n",
       "    <tr>\n",
       "      <th>1</th>\n",
       "      <td>Credit</td>\n",
       "      <td>0</td>\n",
       "      <td>235</td>\n",
       "      <td>23.5%</td>\n",
       "    </tr>\n",
       "  </tbody>\n",
       "</table>\n",
       "</div>"
      ],
      "text/plain": [
       "    Value  Encoded  Count Proportion\n",
       "0   Debit        1    764      76.5%\n",
       "1  Credit        0    235      23.5%"
      ]
     },
     "metadata": {},
     "output_type": "display_data"
    },
    {
     "name": "stdout",
     "output_type": "stream",
     "text": [
      "\n",
      "Analisis kolom: Channel\n"
     ]
    },
    {
     "data": {
      "application/vnd.microsoft.datawrangler.viewer.v0+json": {
       "columns": [
        {
         "name": "index",
         "rawType": "int64",
         "type": "integer"
        },
        {
         "name": "Value",
         "rawType": "object",
         "type": "string"
        },
        {
         "name": "Encoded",
         "rawType": "int32",
         "type": "integer"
        },
        {
         "name": "Count",
         "rawType": "int64",
         "type": "integer"
        },
        {
         "name": "Proportion",
         "rawType": "object",
         "type": "string"
        }
       ],
       "ref": "a11d8f20-c0e6-440c-9597-22fd7eb5d288",
       "rows": [
        [
         "0",
         "Branch",
         "1",
         "339",
         "33.9%"
        ],
        [
         "1",
         "ATM",
         "0",
         "338",
         "33.8%"
        ],
        [
         "2",
         "Online",
         "2",
         "322",
         "32.2%"
        ]
       ],
       "shape": {
        "columns": 4,
        "rows": 3
       }
      },
      "text/html": [
       "<div>\n",
       "<style scoped>\n",
       "    .dataframe tbody tr th:only-of-type {\n",
       "        vertical-align: middle;\n",
       "    }\n",
       "\n",
       "    .dataframe tbody tr th {\n",
       "        vertical-align: top;\n",
       "    }\n",
       "\n",
       "    .dataframe thead th {\n",
       "        text-align: right;\n",
       "    }\n",
       "</style>\n",
       "<table border=\"1\" class=\"dataframe\">\n",
       "  <thead>\n",
       "    <tr style=\"text-align: right;\">\n",
       "      <th></th>\n",
       "      <th>Value</th>\n",
       "      <th>Encoded</th>\n",
       "      <th>Count</th>\n",
       "      <th>Proportion</th>\n",
       "    </tr>\n",
       "  </thead>\n",
       "  <tbody>\n",
       "    <tr>\n",
       "      <th>0</th>\n",
       "      <td>Branch</td>\n",
       "      <td>1</td>\n",
       "      <td>339</td>\n",
       "      <td>33.9%</td>\n",
       "    </tr>\n",
       "    <tr>\n",
       "      <th>1</th>\n",
       "      <td>ATM</td>\n",
       "      <td>0</td>\n",
       "      <td>338</td>\n",
       "      <td>33.8%</td>\n",
       "    </tr>\n",
       "    <tr>\n",
       "      <th>2</th>\n",
       "      <td>Online</td>\n",
       "      <td>2</td>\n",
       "      <td>322</td>\n",
       "      <td>32.2%</td>\n",
       "    </tr>\n",
       "  </tbody>\n",
       "</table>\n",
       "</div>"
      ],
      "text/plain": [
       "    Value  Encoded  Count Proportion\n",
       "0  Branch        1    339      33.9%\n",
       "1     ATM        0    338      33.8%\n",
       "2  Online        2    322      32.2%"
      ]
     },
     "metadata": {},
     "output_type": "display_data"
    },
    {
     "name": "stdout",
     "output_type": "stream",
     "text": [
      "\n",
      "Analisis kolom: CustomerOccupation\n"
     ]
    },
    {
     "data": {
      "application/vnd.microsoft.datawrangler.viewer.v0+json": {
       "columns": [
        {
         "name": "index",
         "rawType": "int64",
         "type": "integer"
        },
        {
         "name": "Value",
         "rawType": "object",
         "type": "string"
        },
        {
         "name": "Encoded",
         "rawType": "int32",
         "type": "integer"
        },
        {
         "name": "Count",
         "rawType": "int64",
         "type": "integer"
        },
        {
         "name": "Proportion",
         "rawType": "object",
         "type": "string"
        }
       ],
       "ref": "b1add86e-2c51-4b87-b6db-0337e78835d4",
       "rows": [
        [
         "0",
         "Retired",
         "2",
         "594",
         "59.5%"
        ],
        [
         "1",
         "Engineer",
         "1",
         "320",
         "32.0%"
        ],
        [
         "2",
         "Doctor",
         "0",
         "81",
         "8.1%"
        ],
        [
         "3",
         "Student",
         "3",
         "4",
         "0.4%"
        ]
       ],
       "shape": {
        "columns": 4,
        "rows": 4
       }
      },
      "text/html": [
       "<div>\n",
       "<style scoped>\n",
       "    .dataframe tbody tr th:only-of-type {\n",
       "        vertical-align: middle;\n",
       "    }\n",
       "\n",
       "    .dataframe tbody tr th {\n",
       "        vertical-align: top;\n",
       "    }\n",
       "\n",
       "    .dataframe thead th {\n",
       "        text-align: right;\n",
       "    }\n",
       "</style>\n",
       "<table border=\"1\" class=\"dataframe\">\n",
       "  <thead>\n",
       "    <tr style=\"text-align: right;\">\n",
       "      <th></th>\n",
       "      <th>Value</th>\n",
       "      <th>Encoded</th>\n",
       "      <th>Count</th>\n",
       "      <th>Proportion</th>\n",
       "    </tr>\n",
       "  </thead>\n",
       "  <tbody>\n",
       "    <tr>\n",
       "      <th>0</th>\n",
       "      <td>Retired</td>\n",
       "      <td>2</td>\n",
       "      <td>594</td>\n",
       "      <td>59.5%</td>\n",
       "    </tr>\n",
       "    <tr>\n",
       "      <th>1</th>\n",
       "      <td>Engineer</td>\n",
       "      <td>1</td>\n",
       "      <td>320</td>\n",
       "      <td>32.0%</td>\n",
       "    </tr>\n",
       "    <tr>\n",
       "      <th>2</th>\n",
       "      <td>Doctor</td>\n",
       "      <td>0</td>\n",
       "      <td>81</td>\n",
       "      <td>8.1%</td>\n",
       "    </tr>\n",
       "    <tr>\n",
       "      <th>3</th>\n",
       "      <td>Student</td>\n",
       "      <td>3</td>\n",
       "      <td>4</td>\n",
       "      <td>0.4%</td>\n",
       "    </tr>\n",
       "  </tbody>\n",
       "</table>\n",
       "</div>"
      ],
      "text/plain": [
       "      Value  Encoded  Count Proportion\n",
       "0   Retired        2    594      59.5%\n",
       "1  Engineer        1    320      32.0%\n",
       "2    Doctor        0     81       8.1%\n",
       "3   Student        3      4       0.4%"
      ]
     },
     "metadata": {},
     "output_type": "display_data"
    }
   ],
   "source": [
    "# Menampilkan analisis deskriptif minimal mean, min dan max untuk fitur numerik dan mode untuk kategorikal menggunakan data yang sudah diinverse.\n",
    "# Silakan menambahkan fungsi agregasi lainnya untuk experience lebih baik.\n",
    "# Looping cluster\n",
    "for cluster in clusters:\n",
    "    inversed_features = df_inverse[df_inverse['Target'] == cluster].drop(columns='Target').copy()\n",
    "\n",
    "    desc_results = inversed_features.describe(include = \"all\").round(3)\n",
    "\n",
    "    print(f\"=== Agregasi Fitur Numerik untuk Cluster {cluster} ===\")\n",
    "    display(desc_results)\n",
    "\n",
    "    # Untuk fitur kategorikal\n",
    "    print(f\"=== Analisis Data Kategorikal Nilai Asli vs Hasil Encoding untuk Cluster {cluster} ===\")\n",
    "\n",
    "    #Looping fitur kategorikal\n",
    "    for col in selected_categorical:\n",
    "        distribution_data = []\n",
    "    \n",
    "        # Hitung jumlah dan proporsi tiap kategori\n",
    "        value_counts = inversed_features[col].value_counts()\n",
    "        proportions = inversed_features[col].value_counts(normalize=True)\n",
    "\n",
    "        for val, count in value_counts.items():\n",
    "            prop = proportions[val]\n",
    "            distribution_data.append({\n",
    "                'Value': val,\n",
    "                'Encoded': label_encoders[col].transform([val])[0] if val in label_encoders[col].classes_ else None,\n",
    "                'Count': count,\n",
    "                'Proportion': f\"{prop:.1%}\"\n",
    "            })\n",
    "\n",
    "        df_distribution = pd.DataFrame(distribution_data)\n",
    "        \n",
    "        print(f\"\\nAnalisis kolom: {col}\")\n",
    "        display(df_distribution)"
   ]
  },
  {
   "cell_type": "markdown",
   "metadata": {
    "id": "WcaT8sxVzLs6"
   },
   "source": [
    "## Menjelaskan karakteristik tiap cluster berdasarkan rentangnya setelah inverse.\n",
    "1. **Cluster 1: (___)**:\n",
    "  - **Rata-rata (mean) <Fitur>:** <Sebelum inverse> <Setelah inverse>\n",
    "  - **Analisis:** Cluster ini ..."
   ]
  },
  {
   "cell_type": "markdown",
   "metadata": {},
   "source": [
    "Setelah dilakukan inverse, dapat diketahui nilai asli sebelum scaling dan encoding. Dari hasil analisis inverse, sepertinya pada fitur `TransactionType` dan `Channel` kurang berpengaruh signifikan, karena setiap cluster menghasilkan karakteristik fitur yang sama. Pada fitur `TransactionType`, debit mendominasi semua cluster. Pada fitur `Channel` data terdistribusi secara merata pada semua cluster. Sehingga kemudian akan dijelaskan pada fitur `CustomerOccupation` dan ditentukan interpretasi tiap cluster. "
   ]
  },
  {
   "cell_type": "code",
   "execution_count": 33,
   "metadata": {},
   "outputs": [
    {
     "name": "stdout",
     "output_type": "stream",
     "text": [
      "Berikut interpretasi setiap cluster:\n"
     ]
    },
    {
     "data": {
      "text/html": [
       "<b>Cluster 0 Analysis:</b>"
      ],
      "text/plain": [
       "<IPython.core.display.HTML object>"
      ]
     },
     "metadata": {},
     "output_type": "display_data"
    },
    {
     "name": "stdout",
     "output_type": "stream",
     "text": [
      "Nilai rata-rata setiap fitur:\n",
      "Mean:\n",
      "- TransactionAmount = 278.277\n",
      "- CustomerAge = 45.716\n",
      "- AccountBalance = 9252.311\n",
      "Mode:\n",
      "- TransactionType = Debit\n",
      "- Channel = Branch\n",
      "- CustomerOccupation = Doctor\n"
     ]
    },
    {
     "data": {
      "text/html": [
       "<b>Interpretasi: High-Income Cluster</b>"
      ],
      "text/plain": [
       "<IPython.core.display.HTML object>"
      ]
     },
     "metadata": {},
     "output_type": "display_data"
    },
    {
     "data": {
      "text/html": [
       "<b>Analisis:</b>"
      ],
      "text/plain": [
       "<IPython.core.display.HTML object>"
      ]
     },
     "metadata": {},
     "output_type": "display_data"
    },
    {
     "name": "stdout",
     "output_type": "stream",
     "text": [
      "Sebelumnya telah dijelaskan pada cluster ini memliki karakteristik customer kaya dengan tabungan yang sangat banyak dan jumlah transaksi menengah. \n",
      "Kemudian cluster ini didominasi oleh profesi dokter dan engineer yang memiliki penghasilan tinggi pada fitur `CustomerOccupation`.\n",
      "--------------------------------------------------\n"
     ]
    },
    {
     "data": {
      "text/html": [
       "<b>Cluster 1 Analysis:</b>"
      ],
      "text/plain": [
       "<IPython.core.display.HTML object>"
      ]
     },
     "metadata": {},
     "output_type": "display_data"
    },
    {
     "name": "stdout",
     "output_type": "stream",
     "text": [
      "Nilai rata-rata setiap fitur:\n",
      "Mean:\n",
      "- TransactionAmount = 297.975\n",
      "- CustomerAge = 23.067\n",
      "- AccountBalance = 1581.376\n",
      "Mode:\n",
      "- TransactionType = Debit\n",
      "- Channel = Branch\n",
      "- CustomerOccupation = Student\n"
     ]
    },
    {
     "data": {
      "text/html": [
       "<b>Interpretasi: High-Spending Youth Cluster</b>"
      ],
      "text/plain": [
       "<IPython.core.display.HTML object>"
      ]
     },
     "metadata": {},
     "output_type": "display_data"
    },
    {
     "data": {
      "text/html": [
       "<b>Analisis:</b>"
      ],
      "text/plain": [
       "<IPython.core.display.HTML object>"
      ]
     },
     "metadata": {},
     "output_type": "display_data"
    },
    {
     "name": "stdout",
     "output_type": "stream",
     "text": [
      "Sebelumnya telah dijelaskan pada cluster ini merupakan anak muda yang sangat boros dengan jumlah transaksi melebihi kemampuan tabungan mereka.\n",
      "Cluster ini didominasi oleh profesi pelajar dan mahasiswa  pada fitur `CustomerOccupation` yang pada dasarnya belum memiliki penghasilan.\n",
      "--------------------------------------------------\n"
     ]
    },
    {
     "data": {
      "text/html": [
       "<b>Cluster 2 Analysis:</b>"
      ],
      "text/plain": [
       "<IPython.core.display.HTML object>"
      ]
     },
     "metadata": {},
     "output_type": "display_data"
    },
    {
     "name": "stdout",
     "output_type": "stream",
     "text": [
      "Nilai rata-rata setiap fitur:\n",
      "Mean:\n",
      "- TransactionAmount = 282.894\n",
      "- CustomerAge = 57.879\n",
      "- AccountBalance = 3876.058\n",
      "Mode:\n",
      "- TransactionType = Debit\n",
      "- Channel = Branch\n",
      "- CustomerOccupation = Retired\n"
     ]
    },
    {
     "data": {
      "text/html": [
       "<b>Interpretasi: Retiree Cluster</b>"
      ],
      "text/plain": [
       "<IPython.core.display.HTML object>"
      ]
     },
     "metadata": {},
     "output_type": "display_data"
    },
    {
     "data": {
      "text/html": [
       "<b>Analisis:</b>"
      ],
      "text/plain": [
       "<IPython.core.display.HTML object>"
      ]
     },
     "metadata": {},
     "output_type": "display_data"
    },
    {
     "name": "stdout",
     "output_type": "stream",
     "text": [
      "Sebelumnya telah dijelaskan pada cluster ini merupakan pensiunan dengan jumlah transaksi dan tabungan yang hemat.\n",
      "Cluster ini didominasi oleh profesi pensiunan yang sudah tidak bekerja lagi dan diikuti profesi engineer.\n",
      "--------------------------------------------------\n"
     ]
    }
   ],
   "source": [
    "# Interpretasi hasil clustering\n",
    "print(\"Berikut interpretasi setiap cluster:\")\n",
    "\n",
    "# Looping cluster\n",
    "for cluster in clusters:\n",
    "    cluster_data = df_inverse[df_inverse['Target'] == cluster].copy()\n",
    "\n",
    "    stats = {\n",
    "        'Cluster': cluster,\n",
    "        'Features': {}\n",
    "    }\n",
    "\n",
    "    for col in selected_numeric:\n",
    "        stats['Features'][col] = {\n",
    "            'Mean': cluster_data[col].mean()\n",
    "        }\n",
    "    \n",
    "    for col in selected_categorical:\n",
    "        stats['Features'][col] = {\n",
    "            'Mode': cluster_data[col].mode()[0] if not cluster_data[col].mode().empty else None\n",
    "        }\n",
    "\n",
    "    display(HTML(f\"<b>Cluster {cluster} Analysis:</b>\"))\n",
    "    print(\"Nilai rata-rata setiap fitur:\")\n",
    "\n",
    "    # Print rata-rata dan modus untuk setiap fitur\n",
    "    print(\"Mean:\")\n",
    "    for feature, values in stats['Features'].items():\n",
    "        if 'Mean' in values:\n",
    "            print(f\"- {feature} = {values['Mean']:.3f}\")\n",
    "\n",
    "    print(\"Mode:\")\n",
    "    for feature, values in stats['Features'].items():\n",
    "        if 'Mode' in values:\n",
    "            print(f\"- {feature} = {values['Mode']}\")\n",
    "\n",
    "    # Print interpretasi cluster\n",
    "    if cluster == 0:\n",
    "        display(HTML(\"<b>Interpretasi: High-Income Cluster</b>\"))\n",
    "        display(HTML(\"<b>Analisis:</b>\"))\n",
    "        print(\n",
    "\"\"\"Sebelumnya telah dijelaskan pada cluster ini memliki karakteristik customer kaya dengan tabungan yang sangat banyak dan jumlah transaksi menengah. \n",
    "Kemudian cluster ini didominasi oleh profesi dokter dan engineer yang memiliki penghasilan tinggi pada fitur `CustomerOccupation`.\"\"\"\n",
    ")\n",
    "    elif cluster == 1:\n",
    "        display(HTML(\"<b>Interpretasi: High-Spending Youth Cluster</b>\"))\n",
    "        display(HTML(\"<b>Analisis:</b>\"))\n",
    "        print(\n",
    "\"\"\"Sebelumnya telah dijelaskan pada cluster ini merupakan anak muda yang sangat boros dengan jumlah transaksi melebihi kemampuan tabungan mereka.\n",
    "Cluster ini didominasi oleh profesi pelajar dan mahasiswa  pada fitur `CustomerOccupation` yang pada dasarnya belum memiliki penghasilan.\"\"\"\n",
    ")\n",
    "    elif cluster == 2:\n",
    "        display(HTML(\"<b>Interpretasi: Retiree Cluster</b>\"))\n",
    "        display(HTML(\"<b>Analisis:</b>\"))\n",
    "        print(\n",
    "\"\"\"Sebelumnya telah dijelaskan pada cluster ini merupakan pensiunan dengan jumlah transaksi dan tabungan yang hemat.\n",
    "Cluster ini didominasi oleh profesi pensiunan yang sudah tidak bekerja lagi dan diikuti profesi engineer.\"\"\"\n",
    ")\n",
    "    \n",
    "    print(\"-\" * 50)"
   ]
  },
  {
   "cell_type": "markdown",
   "metadata": {
    "id": "jSd6vZslzatv"
   },
   "source": [
    "(Opsional) Interpretasi Hasil Clustering [Advanced]\n",
    "\n",
    "**Biarkan kosong jika tidak menerapkan kriteria advanced**"
   ]
  },
  {
   "cell_type": "code",
   "execution_count": 34,
   "metadata": {
    "id": "4mGIyUZ2zRCP"
   },
   "outputs": [],
   "source": [
    "# Mengintegrasikan kembali data yang telah di-inverse dengan hasil cluster."
   ]
  },
  {
   "cell_type": "code",
   "execution_count": 35,
   "metadata": {
    "id": "BEASz_Q__jms"
   },
   "outputs": [],
   "source": [
    "# Simpan Data\n",
    "df_inverse.to_csv('data_clustering_inverse.csv', index=False)"
   ]
  }
 ],
 "metadata": {
  "colab": {
   "provenance": []
  },
  "kernelspec": {
   "display_name": "Python 3",
   "name": "python3"
  },
  "language_info": {
   "codemirror_mode": {
    "name": "ipython",
    "version": 3
   },
   "file_extension": ".py",
   "mimetype": "text/x-python",
   "name": "python",
   "nbconvert_exporter": "python",
   "pygments_lexer": "ipython3",
   "version": "3.12.3"
  }
 },
 "nbformat": 4,
 "nbformat_minor": 0
}
